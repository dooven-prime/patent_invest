{
 "cells": [
  {
   "cell_type": "code",
   "execution_count": 1,
   "metadata": {},
   "outputs": [],
   "source": [
    "from qdrant_client import QdrantClient\n",
    "import requests\n",
    "import json\n",
    "client = QdrantClient(host=\"10.10.10.5\", grpc_port=6334, prefer_grpc=True)"
   ]
  },
  {
   "cell_type": "code",
   "execution_count": 3,
   "metadata": {},
   "outputs": [
    {
     "data": {
      "text/plain": [
       "[SnapshotDescription(name='full-snapshot-2024-06-18-07-55-26.snapshot', creation_time='2024-06-18T07:56:43', size=1907707392, checksum=None)]"
      ]
     },
     "execution_count": 3,
     "metadata": {},
     "output_type": "execute_result"
    }
   ],
   "source": [
    "client.list_full_snapshots()"
   ]
  },
  {
   "cell_type": "code",
   "execution_count": null,
   "metadata": {},
   "outputs": [],
   "source": [
    "# curl -X POST \"http://localhost:6333/collections/your_collection_name/snapshots\"\n",
    "client.create_snapshot(collection_name=collection_name)"
   ]
  },
  {
   "cell_type": "code",
   "execution_count": null,
   "metadata": {},
   "outputs": [],
   "source": [
    "# curl -X POST \"http://target_host:6333/collections/your_collection_name/snapshots/recover\" \\\n",
    "# -H \"Content-Type: application/json\" \\\n",
    "# -d '{\"snapshot_path\": \"/path/to/target_backup_directory/snapshot_file\"}'"
   ]
  },
  {
   "cell_type": "code",
   "execution_count": null,
   "metadata": {},
   "outputs": [],
   "source": [
    "'http://10.10.10.5:6333/snapshots/full-snapshot-2024-06-18-07-55-26.snapshot'"
   ]
  },
  {
   "cell_type": "code",
   "execution_count": 44,
   "metadata": {},
   "outputs": [
    {
     "data": {
      "text/plain": [
       "CollectionsResponse(collections=[CollectionDescription(name='行业公司名简介_25k'), CollectionDescription(name='places_bank'), CollectionDescription(name='专利_w2v'), CollectionDescription(name='my_collection'), CollectionDescription(name='企业_w2v_lda'), CollectionDescription(name='专利_bge_189')])"
      ]
     },
     "execution_count": 44,
     "metadata": {},
     "output_type": "execute_result"
    }
   ],
   "source": [
    "client_1 = QdrantClient(host=\"47.110.156.41\", grpc_port=6334, prefer_grpc=True)\n",
    "client_1.get_collections()"
   ]
  },
  {
   "cell_type": "code",
   "execution_count": 10,
   "metadata": {},
   "outputs": [],
   "source": [
    "# collection_name='places_bank'\n",
    "# client_1.recover_snapshot(\n",
    "#     collection_name,\n",
    "#     \"E:/Downloads/places_bank-4931977184024862-2024-06-18-07-44-25.snapshot\",#file:///\n",
    "# )"
   ]
  },
  {
   "cell_type": "code",
   "execution_count": null,
   "metadata": {},
   "outputs": [],
   "source": [
    "#curl -X POST \"http://localhost:6333/snapshots/{snapshot_id}/restore\""
   ]
  },
  {
   "cell_type": "code",
   "execution_count": 22,
   "metadata": {},
   "outputs": [],
   "source": [
    "\n",
    "# curl -X POST http://localhost:6333/collections/places_bank/snapshots/upload \\\n",
    "#      -H \"api-key: your_api_key\" \\\n",
    "#      -F snapshot=@E:\\Downloads\\places_bank-4931977184024862-2024-06-18-07-44-25.snapshot"
   ]
  },
  {
   "cell_type": "code",
   "execution_count": 29,
   "metadata": {},
   "outputs": [
    {
     "data": {
      "text/plain": [
       "<Response [200]>"
      ]
     },
     "execution_count": 29,
     "metadata": {},
     "output_type": "execute_result"
    }
   ],
   "source": [
    "\n",
    "file_path=\"E:\\Downloads\\places_bank-4931977184024862-2024-06-18-07-44-25.snapshot\"\n",
    "with open(file_path, 'rb') as f:\n",
    "    files = {'snapshot': f}\n",
    "    #headers={\"Content-Type\": \"multipart/form-data\"}\n",
    "    res=requests.post(\"http://47.110.156.41:6333/collections/places_bank/snapshots/upload\",\n",
    "                files=files,\n",
    "                #   headers= headers,\n",
    "                #   data=json.dumps({\"snapshot_path\": \n",
    "                #                    \"E:/Downloads/places_bank-4931977184024862-2024-06-18-07-44-25.snapshot\"})\n",
    "                )\n",
    "res"
   ]
  },
  {
   "cell_type": "code",
   "execution_count": 33,
   "metadata": {},
   "outputs": [
    {
     "data": {
      "text/plain": [
       "('{\"result\":true,\"status\":\"ok\",\"time\":0.469759098}',\n",
       " b'{\"result\":true,\"status\":\"ok\",\"time\":0.469759098}',\n",
       " {'result': True, 'status': 'ok', 'time': 0.469759098})"
      ]
     },
     "execution_count": 33,
     "metadata": {},
     "output_type": "execute_result"
    }
   ],
   "source": [
    "res.text,res.content,res.json()"
   ]
  },
  {
   "cell_type": "code",
   "execution_count": 45,
   "metadata": {},
   "outputs": [],
   "source": [
    "def recover_snapshots_upload(host,collection_name,file_path):\n",
    "    url=f\"http://{host}:6333/collections/{collection_name}/snapshots/upload\"\n",
    "    with open(file_path, 'rb') as f:\n",
    "        files = {'snapshot': f}\n",
    "        #headers={\"Content-Type\": \"multipart/form-data\"}\n",
    "        response=requests.post(url,files=files)\n",
    "\n",
    "    return response.json()"
   ]
  },
  {
   "cell_type": "code",
   "execution_count": null,
   "metadata": {},
   "outputs": [],
   "source": [
    "# client.recover_snapshot(\n",
    "#     \"{collection_name}\",\n",
    "#     \"http://example.com/path/to/snapshot.shapshot\",\n",
    "# )#file:///qdrant/snapshots/test_collection-2022-08-04-10-49-10.snapshot\n",
    "r\"E:\\Downloads\\places_bank-4931977184024862-2024-06-18-07-44-25.snapshot\""
   ]
  },
  {
   "cell_type": "code",
   "execution_count": 37,
   "metadata": {},
   "outputs": [
    {
     "data": {
      "text/plain": [
       "SnapshotDescription(name='企业_w2v_lda-4931977184024862-2024-06-18-10-06-45.snapshot', creation_time='2024-06-18T10:06:46', size=79509504, checksum=None)"
      ]
     },
     "execution_count": 37,
     "metadata": {},
     "output_type": "execute_result"
    }
   ],
   "source": [
    "client.create_snapshot(collection_name='企业_w2v_lda')"
   ]
  },
  {
   "cell_type": "code",
   "execution_count": 40,
   "metadata": {},
   "outputs": [],
   "source": [
    "url='http://10.10.10.5:6333/collections/企业_w2v_lda/snapshots/企业_w2v_lda-4931977184024862-2024-06-18-10-06-45.snapshot'"
   ]
  },
  {
   "cell_type": "code",
   "execution_count": 44,
   "metadata": {},
   "outputs": [
    {
     "data": {
      "text/plain": [
       "{'result': True, 'status': 'ok', 'time': 0.710806932}"
      ]
     },
     "execution_count": 44,
     "metadata": {},
     "output_type": "execute_result"
    }
   ],
   "source": [
    "recover_snapshots_upload('47.110.156.41','企业_w2v_lda',\n",
    "                         \"E:\\Downloads\\企业_w2v_lda-4931977184024862-2024-06-18-10-06-45.snapshot\")"
   ]
  },
  {
   "cell_type": "code",
   "execution_count": 45,
   "metadata": {},
   "outputs": [
    {
     "data": {
      "text/plain": [
       "SnapshotDescription(name='专利_w2v-4931977184024862-2024-06-19-01-49-08.snapshot', creation_time='2024-06-19T01:49:25', size=801428992, checksum=None)"
      ]
     },
     "execution_count": 45,
     "metadata": {},
     "output_type": "execute_result"
    }
   ],
   "source": [
    "client.create_snapshot(collection_name='专利_w2v')"
   ]
  },
  {
   "cell_type": "code",
   "execution_count": 57,
   "metadata": {},
   "outputs": [
    {
     "data": {
      "text/plain": [
       "'http://10.10.10.5:6333/collections/专利_w2v/snapshots/专利_w2v-4931977184024862-2024-06-19-01-49-08.snapshot'"
      ]
     },
     "execution_count": 57,
     "metadata": {},
     "output_type": "execute_result"
    }
   ],
   "source": [
    "collection_name='专利_w2v'\n",
    "snapshots_name=client.list_snapshots(collection_name)[0].name\n",
    "url=f'http://10.10.10.5:6333/collections/{collection_name}/snapshots/{snapshots_name}'\n",
    "url"
   ]
  },
  {
   "cell_type": "code",
   "execution_count": 56,
   "metadata": {},
   "outputs": [
    {
     "ename": "ResponseHandlingException",
     "evalue": "timed out",
     "output_type": "error",
     "traceback": [
      "\u001b[1;31m---------------------------------------------------------------------------\u001b[0m",
      "\u001b[1;31mtimeout\u001b[0m                                   Traceback (most recent call last)",
      "File \u001b[1;32md:\\ProgramData\\Python\\Python39\\lib\\site-packages\\httpcore\\_exceptions.py:10\u001b[0m, in \u001b[0;36mmap_exceptions\u001b[1;34m(map)\u001b[0m\n\u001b[0;32m      9\u001b[0m \u001b[38;5;28;01mtry\u001b[39;00m:\n\u001b[1;32m---> 10\u001b[0m     \u001b[38;5;28;01myield\u001b[39;00m\n\u001b[0;32m     11\u001b[0m \u001b[38;5;28;01mexcept\u001b[39;00m \u001b[38;5;167;01mException\u001b[39;00m \u001b[38;5;28;01mas\u001b[39;00m exc:  \u001b[38;5;66;03m# noqa: PIE786\u001b[39;00m\n",
      "File \u001b[1;32md:\\ProgramData\\Python\\Python39\\lib\\site-packages\\httpcore\\backends\\sync.py:28\u001b[0m, in \u001b[0;36mSyncStream.read\u001b[1;34m(self, max_bytes, timeout)\u001b[0m\n\u001b[0;32m     27\u001b[0m \u001b[38;5;28mself\u001b[39m\u001b[38;5;241m.\u001b[39m_sock\u001b[38;5;241m.\u001b[39msettimeout(timeout)\n\u001b[1;32m---> 28\u001b[0m \u001b[38;5;28;01mreturn\u001b[39;00m \u001b[38;5;28;43mself\u001b[39;49m\u001b[38;5;241;43m.\u001b[39;49m\u001b[43m_sock\u001b[49m\u001b[38;5;241;43m.\u001b[39;49m\u001b[43mrecv\u001b[49m\u001b[43m(\u001b[49m\u001b[43mmax_bytes\u001b[49m\u001b[43m)\u001b[49m\n",
      "\u001b[1;31mtimeout\u001b[0m: timed out",
      "\nDuring handling of the above exception, another exception occurred:\n",
      "\u001b[1;31mReadTimeout\u001b[0m                               Traceback (most recent call last)",
      "File \u001b[1;32md:\\ProgramData\\Python\\Python39\\lib\\site-packages\\httpx\\_transports\\default.py:60\u001b[0m, in \u001b[0;36mmap_httpcore_exceptions\u001b[1;34m()\u001b[0m\n\u001b[0;32m     59\u001b[0m \u001b[38;5;28;01mtry\u001b[39;00m:\n\u001b[1;32m---> 60\u001b[0m     \u001b[38;5;28;01myield\u001b[39;00m\n\u001b[0;32m     61\u001b[0m \u001b[38;5;28;01mexcept\u001b[39;00m \u001b[38;5;167;01mException\u001b[39;00m \u001b[38;5;28;01mas\u001b[39;00m exc:  \u001b[38;5;66;03m# noqa: PIE-786\u001b[39;00m\n",
      "File \u001b[1;32md:\\ProgramData\\Python\\Python39\\lib\\site-packages\\httpx\\_transports\\default.py:218\u001b[0m, in \u001b[0;36mHTTPTransport.handle_request\u001b[1;34m(self, request)\u001b[0m\n\u001b[0;32m    217\u001b[0m \u001b[38;5;28;01mwith\u001b[39;00m map_httpcore_exceptions():\n\u001b[1;32m--> 218\u001b[0m     resp \u001b[38;5;241m=\u001b[39m \u001b[38;5;28;43mself\u001b[39;49m\u001b[38;5;241;43m.\u001b[39;49m\u001b[43m_pool\u001b[49m\u001b[38;5;241;43m.\u001b[39;49m\u001b[43mhandle_request\u001b[49m\u001b[43m(\u001b[49m\u001b[43mreq\u001b[49m\u001b[43m)\u001b[49m\n\u001b[0;32m    220\u001b[0m \u001b[38;5;28;01massert\u001b[39;00m \u001b[38;5;28misinstance\u001b[39m(resp\u001b[38;5;241m.\u001b[39mstream, typing\u001b[38;5;241m.\u001b[39mIterable)\n",
      "File \u001b[1;32md:\\ProgramData\\Python\\Python39\\lib\\site-packages\\httpcore\\_sync\\connection_pool.py:253\u001b[0m, in \u001b[0;36mConnectionPool.handle_request\u001b[1;34m(self, request)\u001b[0m\n\u001b[0;32m    252\u001b[0m     \u001b[38;5;28mself\u001b[39m\u001b[38;5;241m.\u001b[39mresponse_closed(status)\n\u001b[1;32m--> 253\u001b[0m     \u001b[38;5;28;01mraise\u001b[39;00m exc\n\u001b[0;32m    254\u001b[0m \u001b[38;5;28;01melse\u001b[39;00m:\n",
      "File \u001b[1;32md:\\ProgramData\\Python\\Python39\\lib\\site-packages\\httpcore\\_sync\\connection_pool.py:237\u001b[0m, in \u001b[0;36mConnectionPool.handle_request\u001b[1;34m(self, request)\u001b[0m\n\u001b[0;32m    236\u001b[0m \u001b[38;5;28;01mtry\u001b[39;00m:\n\u001b[1;32m--> 237\u001b[0m     response \u001b[38;5;241m=\u001b[39m \u001b[43mconnection\u001b[49m\u001b[38;5;241;43m.\u001b[39;49m\u001b[43mhandle_request\u001b[49m\u001b[43m(\u001b[49m\u001b[43mrequest\u001b[49m\u001b[43m)\u001b[49m\n\u001b[0;32m    238\u001b[0m \u001b[38;5;28;01mexcept\u001b[39;00m ConnectionNotAvailable:\n\u001b[0;32m    239\u001b[0m     \u001b[38;5;66;03m# The ConnectionNotAvailable exception is a special case, that\u001b[39;00m\n\u001b[0;32m    240\u001b[0m     \u001b[38;5;66;03m# indicates we need to retry the request on a new connection.\u001b[39;00m\n\u001b[1;32m   (...)\u001b[0m\n\u001b[0;32m    244\u001b[0m     \u001b[38;5;66;03m# might end up as an HTTP/2 connection, but which actually ends\u001b[39;00m\n\u001b[0;32m    245\u001b[0m     \u001b[38;5;66;03m# up as HTTP/1.1.\u001b[39;00m\n",
      "File \u001b[1;32md:\\ProgramData\\Python\\Python39\\lib\\site-packages\\httpcore\\_sync\\connection.py:90\u001b[0m, in \u001b[0;36mHTTPConnection.handle_request\u001b[1;34m(self, request)\u001b[0m\n\u001b[0;32m     88\u001b[0m         \u001b[38;5;28;01mraise\u001b[39;00m ConnectionNotAvailable()\n\u001b[1;32m---> 90\u001b[0m \u001b[38;5;28;01mreturn\u001b[39;00m \u001b[38;5;28;43mself\u001b[39;49m\u001b[38;5;241;43m.\u001b[39;49m\u001b[43m_connection\u001b[49m\u001b[38;5;241;43m.\u001b[39;49m\u001b[43mhandle_request\u001b[49m\u001b[43m(\u001b[49m\u001b[43mrequest\u001b[49m\u001b[43m)\u001b[49m\n",
      "File \u001b[1;32md:\\ProgramData\\Python\\Python39\\lib\\site-packages\\httpcore\\_sync\\http11.py:112\u001b[0m, in \u001b[0;36mHTTP11Connection.handle_request\u001b[1;34m(self, request)\u001b[0m\n\u001b[0;32m    111\u001b[0m     \u001b[38;5;28mself\u001b[39m\u001b[38;5;241m.\u001b[39m_response_closed()\n\u001b[1;32m--> 112\u001b[0m \u001b[38;5;28;01mraise\u001b[39;00m exc\n",
      "File \u001b[1;32md:\\ProgramData\\Python\\Python39\\lib\\site-packages\\httpcore\\_sync\\http11.py:91\u001b[0m, in \u001b[0;36mHTTP11Connection.handle_request\u001b[1;34m(self, request)\u001b[0m\n\u001b[0;32m     83\u001b[0m \u001b[38;5;28;01mwith\u001b[39;00m Trace(\n\u001b[0;32m     84\u001b[0m     \u001b[38;5;124m\"\u001b[39m\u001b[38;5;124mhttp11.receive_response_headers\u001b[39m\u001b[38;5;124m\"\u001b[39m, request, kwargs\n\u001b[0;32m     85\u001b[0m ) \u001b[38;5;28;01mas\u001b[39;00m trace:\n\u001b[0;32m     86\u001b[0m     (\n\u001b[0;32m     87\u001b[0m         http_version,\n\u001b[0;32m     88\u001b[0m         status,\n\u001b[0;32m     89\u001b[0m         reason_phrase,\n\u001b[0;32m     90\u001b[0m         headers,\n\u001b[1;32m---> 91\u001b[0m     ) \u001b[38;5;241m=\u001b[39m \u001b[38;5;28mself\u001b[39m\u001b[38;5;241m.\u001b[39m_receive_response_headers(\u001b[38;5;241m*\u001b[39m\u001b[38;5;241m*\u001b[39mkwargs)\n\u001b[0;32m     92\u001b[0m     trace\u001b[38;5;241m.\u001b[39mreturn_value \u001b[38;5;241m=\u001b[39m (\n\u001b[0;32m     93\u001b[0m         http_version,\n\u001b[0;32m     94\u001b[0m         status,\n\u001b[0;32m     95\u001b[0m         reason_phrase,\n\u001b[0;32m     96\u001b[0m         headers,\n\u001b[0;32m     97\u001b[0m     )\n",
      "File \u001b[1;32md:\\ProgramData\\Python\\Python39\\lib\\site-packages\\httpcore\\_sync\\http11.py:155\u001b[0m, in \u001b[0;36mHTTP11Connection._receive_response_headers\u001b[1;34m(self, request)\u001b[0m\n\u001b[0;32m    154\u001b[0m \u001b[38;5;28;01mwhile\u001b[39;00m \u001b[38;5;28;01mTrue\u001b[39;00m:\n\u001b[1;32m--> 155\u001b[0m     event \u001b[38;5;241m=\u001b[39m \u001b[38;5;28;43mself\u001b[39;49m\u001b[38;5;241;43m.\u001b[39;49m\u001b[43m_receive_event\u001b[49m\u001b[43m(\u001b[49m\u001b[43mtimeout\u001b[49m\u001b[38;5;241;43m=\u001b[39;49m\u001b[43mtimeout\u001b[49m\u001b[43m)\u001b[49m\n\u001b[0;32m    156\u001b[0m     \u001b[38;5;28;01mif\u001b[39;00m \u001b[38;5;28misinstance\u001b[39m(event, h11\u001b[38;5;241m.\u001b[39mResponse):\n",
      "File \u001b[1;32md:\\ProgramData\\Python\\Python39\\lib\\site-packages\\httpcore\\_sync\\http11.py:191\u001b[0m, in \u001b[0;36mHTTP11Connection._receive_event\u001b[1;34m(self, timeout)\u001b[0m\n\u001b[0;32m    190\u001b[0m \u001b[38;5;28;01mif\u001b[39;00m event \u001b[38;5;129;01mis\u001b[39;00m h11\u001b[38;5;241m.\u001b[39mNEED_DATA:\n\u001b[1;32m--> 191\u001b[0m     data \u001b[38;5;241m=\u001b[39m \u001b[38;5;28;43mself\u001b[39;49m\u001b[38;5;241;43m.\u001b[39;49m\u001b[43m_network_stream\u001b[49m\u001b[38;5;241;43m.\u001b[39;49m\u001b[43mread\u001b[49m\u001b[43m(\u001b[49m\n\u001b[0;32m    192\u001b[0m \u001b[43m        \u001b[49m\u001b[38;5;28;43mself\u001b[39;49m\u001b[38;5;241;43m.\u001b[39;49m\u001b[43mREAD_NUM_BYTES\u001b[49m\u001b[43m,\u001b[49m\u001b[43m \u001b[49m\u001b[43mtimeout\u001b[49m\u001b[38;5;241;43m=\u001b[39;49m\u001b[43mtimeout\u001b[49m\n\u001b[0;32m    193\u001b[0m \u001b[43m    \u001b[49m\u001b[43m)\u001b[49m\n\u001b[0;32m    195\u001b[0m     \u001b[38;5;66;03m# If we feed this case through h11 we'll raise an exception like:\u001b[39;00m\n\u001b[0;32m    196\u001b[0m     \u001b[38;5;66;03m#\u001b[39;00m\n\u001b[0;32m    197\u001b[0m     \u001b[38;5;66;03m#     httpcore.RemoteProtocolError: can't handle event type\u001b[39;00m\n\u001b[1;32m   (...)\u001b[0m\n\u001b[0;32m    201\u001b[0m     \u001b[38;5;66;03m# perspective. Instead we handle this case distinctly and treat\u001b[39;00m\n\u001b[0;32m    202\u001b[0m     \u001b[38;5;66;03m# it as a ConnectError.\u001b[39;00m\n",
      "File \u001b[1;32md:\\ProgramData\\Python\\Python39\\lib\\site-packages\\httpcore\\backends\\sync.py:28\u001b[0m, in \u001b[0;36mSyncStream.read\u001b[1;34m(self, max_bytes, timeout)\u001b[0m\n\u001b[0;32m     27\u001b[0m \u001b[38;5;28mself\u001b[39m\u001b[38;5;241m.\u001b[39m_sock\u001b[38;5;241m.\u001b[39msettimeout(timeout)\n\u001b[1;32m---> 28\u001b[0m \u001b[38;5;28;01mreturn\u001b[39;00m \u001b[38;5;28mself\u001b[39m\u001b[38;5;241m.\u001b[39m_sock\u001b[38;5;241m.\u001b[39mrecv(max_bytes)\n",
      "File \u001b[1;32md:\\ProgramData\\Python\\Python39\\lib\\contextlib.py:137\u001b[0m, in \u001b[0;36m_GeneratorContextManager.__exit__\u001b[1;34m(self, typ, value, traceback)\u001b[0m\n\u001b[0;32m    136\u001b[0m \u001b[38;5;28;01mtry\u001b[39;00m:\n\u001b[1;32m--> 137\u001b[0m     \u001b[38;5;28;43mself\u001b[39;49m\u001b[38;5;241;43m.\u001b[39;49m\u001b[43mgen\u001b[49m\u001b[38;5;241;43m.\u001b[39;49m\u001b[43mthrow\u001b[49m\u001b[43m(\u001b[49m\u001b[43mtyp\u001b[49m\u001b[43m,\u001b[49m\u001b[43m \u001b[49m\u001b[43mvalue\u001b[49m\u001b[43m,\u001b[49m\u001b[43m \u001b[49m\u001b[43mtraceback\u001b[49m\u001b[43m)\u001b[49m\n\u001b[0;32m    138\u001b[0m \u001b[38;5;28;01mexcept\u001b[39;00m \u001b[38;5;167;01mStopIteration\u001b[39;00m \u001b[38;5;28;01mas\u001b[39;00m exc:\n\u001b[0;32m    139\u001b[0m     \u001b[38;5;66;03m# Suppress StopIteration *unless* it's the same exception that\u001b[39;00m\n\u001b[0;32m    140\u001b[0m     \u001b[38;5;66;03m# was passed to throw().  This prevents a StopIteration\u001b[39;00m\n\u001b[0;32m    141\u001b[0m     \u001b[38;5;66;03m# raised inside the \"with\" statement from being suppressed.\u001b[39;00m\n",
      "File \u001b[1;32md:\\ProgramData\\Python\\Python39\\lib\\site-packages\\httpcore\\_exceptions.py:14\u001b[0m, in \u001b[0;36mmap_exceptions\u001b[1;34m(map)\u001b[0m\n\u001b[0;32m     13\u001b[0m     \u001b[38;5;28;01mif\u001b[39;00m \u001b[38;5;28misinstance\u001b[39m(exc, from_exc):\n\u001b[1;32m---> 14\u001b[0m         \u001b[38;5;28;01mraise\u001b[39;00m to_exc(exc)\n\u001b[0;32m     15\u001b[0m \u001b[38;5;28;01mraise\u001b[39;00m\n",
      "\u001b[1;31mReadTimeout\u001b[0m: timed out",
      "\nThe above exception was the direct cause of the following exception:\n",
      "\u001b[1;31mReadTimeout\u001b[0m                               Traceback (most recent call last)",
      "File \u001b[1;32md:\\ProgramData\\Python\\Python39\\lib\\site-packages\\qdrant_client\\http\\api_client.py:103\u001b[0m, in \u001b[0;36mApiClient.send_inner\u001b[1;34m(self, request)\u001b[0m\n\u001b[0;32m    102\u001b[0m \u001b[38;5;28;01mtry\u001b[39;00m:\n\u001b[1;32m--> 103\u001b[0m     response \u001b[38;5;241m=\u001b[39m \u001b[38;5;28;43mself\u001b[39;49m\u001b[38;5;241;43m.\u001b[39;49m\u001b[43m_client\u001b[49m\u001b[38;5;241;43m.\u001b[39;49m\u001b[43msend\u001b[49m\u001b[43m(\u001b[49m\u001b[43mrequest\u001b[49m\u001b[43m)\u001b[49m\n\u001b[0;32m    104\u001b[0m \u001b[38;5;28;01mexcept\u001b[39;00m \u001b[38;5;167;01mException\u001b[39;00m \u001b[38;5;28;01mas\u001b[39;00m e:\n",
      "File \u001b[1;32md:\\ProgramData\\Python\\Python39\\lib\\site-packages\\httpx\\_client.py:908\u001b[0m, in \u001b[0;36mClient.send\u001b[1;34m(self, request, stream, auth, follow_redirects)\u001b[0m\n\u001b[0;32m    906\u001b[0m auth \u001b[38;5;241m=\u001b[39m \u001b[38;5;28mself\u001b[39m\u001b[38;5;241m.\u001b[39m_build_request_auth(request, auth)\n\u001b[1;32m--> 908\u001b[0m response \u001b[38;5;241m=\u001b[39m \u001b[38;5;28;43mself\u001b[39;49m\u001b[38;5;241;43m.\u001b[39;49m\u001b[43m_send_handling_auth\u001b[49m\u001b[43m(\u001b[49m\n\u001b[0;32m    909\u001b[0m \u001b[43m    \u001b[49m\u001b[43mrequest\u001b[49m\u001b[43m,\u001b[49m\n\u001b[0;32m    910\u001b[0m \u001b[43m    \u001b[49m\u001b[43mauth\u001b[49m\u001b[38;5;241;43m=\u001b[39;49m\u001b[43mauth\u001b[49m\u001b[43m,\u001b[49m\n\u001b[0;32m    911\u001b[0m \u001b[43m    \u001b[49m\u001b[43mfollow_redirects\u001b[49m\u001b[38;5;241;43m=\u001b[39;49m\u001b[43mfollow_redirects\u001b[49m\u001b[43m,\u001b[49m\n\u001b[0;32m    912\u001b[0m \u001b[43m    \u001b[49m\u001b[43mhistory\u001b[49m\u001b[38;5;241;43m=\u001b[39;49m\u001b[43m[\u001b[49m\u001b[43m]\u001b[49m\u001b[43m,\u001b[49m\n\u001b[0;32m    913\u001b[0m \u001b[43m\u001b[49m\u001b[43m)\u001b[49m\n\u001b[0;32m    914\u001b[0m \u001b[38;5;28;01mtry\u001b[39;00m:\n",
      "File \u001b[1;32md:\\ProgramData\\Python\\Python39\\lib\\site-packages\\httpx\\_client.py:936\u001b[0m, in \u001b[0;36mClient._send_handling_auth\u001b[1;34m(self, request, auth, follow_redirects, history)\u001b[0m\n\u001b[0;32m    935\u001b[0m \u001b[38;5;28;01mwhile\u001b[39;00m \u001b[38;5;28;01mTrue\u001b[39;00m:\n\u001b[1;32m--> 936\u001b[0m     response \u001b[38;5;241m=\u001b[39m \u001b[38;5;28;43mself\u001b[39;49m\u001b[38;5;241;43m.\u001b[39;49m\u001b[43m_send_handling_redirects\u001b[49m\u001b[43m(\u001b[49m\n\u001b[0;32m    937\u001b[0m \u001b[43m        \u001b[49m\u001b[43mrequest\u001b[49m\u001b[43m,\u001b[49m\n\u001b[0;32m    938\u001b[0m \u001b[43m        \u001b[49m\u001b[43mfollow_redirects\u001b[49m\u001b[38;5;241;43m=\u001b[39;49m\u001b[43mfollow_redirects\u001b[49m\u001b[43m,\u001b[49m\n\u001b[0;32m    939\u001b[0m \u001b[43m        \u001b[49m\u001b[43mhistory\u001b[49m\u001b[38;5;241;43m=\u001b[39;49m\u001b[43mhistory\u001b[49m\u001b[43m,\u001b[49m\n\u001b[0;32m    940\u001b[0m \u001b[43m    \u001b[49m\u001b[43m)\u001b[49m\n\u001b[0;32m    941\u001b[0m     \u001b[38;5;28;01mtry\u001b[39;00m:\n",
      "File \u001b[1;32md:\\ProgramData\\Python\\Python39\\lib\\site-packages\\httpx\\_client.py:973\u001b[0m, in \u001b[0;36mClient._send_handling_redirects\u001b[1;34m(self, request, follow_redirects, history)\u001b[0m\n\u001b[0;32m    971\u001b[0m     hook(request)\n\u001b[1;32m--> 973\u001b[0m response \u001b[38;5;241m=\u001b[39m \u001b[38;5;28;43mself\u001b[39;49m\u001b[38;5;241;43m.\u001b[39;49m\u001b[43m_send_single_request\u001b[49m\u001b[43m(\u001b[49m\u001b[43mrequest\u001b[49m\u001b[43m)\u001b[49m\n\u001b[0;32m    974\u001b[0m \u001b[38;5;28;01mtry\u001b[39;00m:\n",
      "File \u001b[1;32md:\\ProgramData\\Python\\Python39\\lib\\site-packages\\httpx\\_client.py:1009\u001b[0m, in \u001b[0;36mClient._send_single_request\u001b[1;34m(self, request)\u001b[0m\n\u001b[0;32m   1008\u001b[0m \u001b[38;5;28;01mwith\u001b[39;00m request_context(request\u001b[38;5;241m=\u001b[39mrequest):\n\u001b[1;32m-> 1009\u001b[0m     response \u001b[38;5;241m=\u001b[39m \u001b[43mtransport\u001b[49m\u001b[38;5;241;43m.\u001b[39;49m\u001b[43mhandle_request\u001b[49m\u001b[43m(\u001b[49m\u001b[43mrequest\u001b[49m\u001b[43m)\u001b[49m\n\u001b[0;32m   1011\u001b[0m \u001b[38;5;28;01massert\u001b[39;00m \u001b[38;5;28misinstance\u001b[39m(response\u001b[38;5;241m.\u001b[39mstream, SyncByteStream)\n",
      "File \u001b[1;32md:\\ProgramData\\Python\\Python39\\lib\\site-packages\\httpx\\_transports\\default.py:218\u001b[0m, in \u001b[0;36mHTTPTransport.handle_request\u001b[1;34m(self, request)\u001b[0m\n\u001b[0;32m    217\u001b[0m \u001b[38;5;28;01mwith\u001b[39;00m map_httpcore_exceptions():\n\u001b[1;32m--> 218\u001b[0m     resp \u001b[38;5;241m=\u001b[39m \u001b[38;5;28mself\u001b[39m\u001b[38;5;241m.\u001b[39m_pool\u001b[38;5;241m.\u001b[39mhandle_request(req)\n\u001b[0;32m    220\u001b[0m \u001b[38;5;28;01massert\u001b[39;00m \u001b[38;5;28misinstance\u001b[39m(resp\u001b[38;5;241m.\u001b[39mstream, typing\u001b[38;5;241m.\u001b[39mIterable)\n",
      "File \u001b[1;32md:\\ProgramData\\Python\\Python39\\lib\\contextlib.py:137\u001b[0m, in \u001b[0;36m_GeneratorContextManager.__exit__\u001b[1;34m(self, typ, value, traceback)\u001b[0m\n\u001b[0;32m    136\u001b[0m \u001b[38;5;28;01mtry\u001b[39;00m:\n\u001b[1;32m--> 137\u001b[0m     \u001b[38;5;28;43mself\u001b[39;49m\u001b[38;5;241;43m.\u001b[39;49m\u001b[43mgen\u001b[49m\u001b[38;5;241;43m.\u001b[39;49m\u001b[43mthrow\u001b[49m\u001b[43m(\u001b[49m\u001b[43mtyp\u001b[49m\u001b[43m,\u001b[49m\u001b[43m \u001b[49m\u001b[43mvalue\u001b[49m\u001b[43m,\u001b[49m\u001b[43m \u001b[49m\u001b[43mtraceback\u001b[49m\u001b[43m)\u001b[49m\n\u001b[0;32m    138\u001b[0m \u001b[38;5;28;01mexcept\u001b[39;00m \u001b[38;5;167;01mStopIteration\u001b[39;00m \u001b[38;5;28;01mas\u001b[39;00m exc:\n\u001b[0;32m    139\u001b[0m     \u001b[38;5;66;03m# Suppress StopIteration *unless* it's the same exception that\u001b[39;00m\n\u001b[0;32m    140\u001b[0m     \u001b[38;5;66;03m# was passed to throw().  This prevents a StopIteration\u001b[39;00m\n\u001b[0;32m    141\u001b[0m     \u001b[38;5;66;03m# raised inside the \"with\" statement from being suppressed.\u001b[39;00m\n",
      "File \u001b[1;32md:\\ProgramData\\Python\\Python39\\lib\\site-packages\\httpx\\_transports\\default.py:77\u001b[0m, in \u001b[0;36mmap_httpcore_exceptions\u001b[1;34m()\u001b[0m\n\u001b[0;32m     76\u001b[0m message \u001b[38;5;241m=\u001b[39m \u001b[38;5;28mstr\u001b[39m(exc)\n\u001b[1;32m---> 77\u001b[0m \u001b[38;5;28;01mraise\u001b[39;00m mapped_exc(message) \u001b[38;5;28;01mfrom\u001b[39;00m \u001b[38;5;21;01mexc\u001b[39;00m\n",
      "\u001b[1;31mReadTimeout\u001b[0m: timed out",
      "\nDuring handling of the above exception, another exception occurred:\n",
      "\u001b[1;31mResponseHandlingException\u001b[0m                 Traceback (most recent call last)",
      "Cell \u001b[1;32mIn[56], line 1\u001b[0m\n\u001b[1;32m----> 1\u001b[0m \u001b[43mclient_1\u001b[49m\u001b[38;5;241;43m.\u001b[39;49m\u001b[43mrecover_snapshot\u001b[49m\u001b[43m(\u001b[49m\n\u001b[0;32m      2\u001b[0m \u001b[43m    \u001b[49m\u001b[43mcollection_name\u001b[49m\u001b[43m,\u001b[49m\n\u001b[0;32m      3\u001b[0m \u001b[43m    \u001b[49m\u001b[43mlocation\u001b[49m\u001b[38;5;241;43m=\u001b[39;49m\u001b[43murl\u001b[49m\u001b[43m,\u001b[49m\n\u001b[0;32m      4\u001b[0m \u001b[43m    \u001b[49m\u001b[43mwait\u001b[49m\u001b[38;5;241;43m=\u001b[39;49m\u001b[38;5;28;43;01mTrue\u001b[39;49;00m\n\u001b[0;32m      5\u001b[0m \u001b[43m)\u001b[49m\n",
      "File \u001b[1;32md:\\ProgramData\\Python\\Python39\\lib\\site-packages\\qdrant_client\\qdrant_client.py:2217\u001b[0m, in \u001b[0;36mQdrantClient.recover_snapshot\u001b[1;34m(self, collection_name, location, priority, wait, **kwargs)\u001b[0m\n\u001b[0;32m   2192\u001b[0m \u001b[38;5;250m\u001b[39m\u001b[38;5;124;03m\"\"\"Recover collection from snapshot.\u001b[39;00m\n\u001b[0;32m   2193\u001b[0m \n\u001b[0;32m   2194\u001b[0m \u001b[38;5;124;03mArgs:\u001b[39;00m\n\u001b[1;32m   (...)\u001b[0m\n\u001b[0;32m   2213\u001b[0m \u001b[38;5;124;03m    True if snapshot was recovered\u001b[39;00m\n\u001b[0;32m   2214\u001b[0m \u001b[38;5;124;03m\"\"\"\u001b[39;00m\n\u001b[0;32m   2215\u001b[0m \u001b[38;5;28;01massert\u001b[39;00m \u001b[38;5;28mlen\u001b[39m(kwargs) \u001b[38;5;241m==\u001b[39m \u001b[38;5;241m0\u001b[39m, \u001b[38;5;124mf\u001b[39m\u001b[38;5;124m\"\u001b[39m\u001b[38;5;124mUnknown arguments: \u001b[39m\u001b[38;5;132;01m{\u001b[39;00m\u001b[38;5;28mlist\u001b[39m(kwargs\u001b[38;5;241m.\u001b[39mkeys())\u001b[38;5;132;01m}\u001b[39;00m\u001b[38;5;124m\"\u001b[39m\n\u001b[1;32m-> 2217\u001b[0m \u001b[38;5;28;01mreturn\u001b[39;00m \u001b[38;5;28mself\u001b[39m\u001b[38;5;241m.\u001b[39m_client\u001b[38;5;241m.\u001b[39mrecover_snapshot(\n\u001b[0;32m   2218\u001b[0m     collection_name\u001b[38;5;241m=\u001b[39mcollection_name,\n\u001b[0;32m   2219\u001b[0m     location\u001b[38;5;241m=\u001b[39mlocation,\n\u001b[0;32m   2220\u001b[0m     priority\u001b[38;5;241m=\u001b[39mpriority,\n\u001b[0;32m   2221\u001b[0m     wait\u001b[38;5;241m=\u001b[39mwait,\n\u001b[0;32m   2222\u001b[0m     \u001b[38;5;241m*\u001b[39m\u001b[38;5;241m*\u001b[39mkwargs,\n\u001b[0;32m   2223\u001b[0m )\n",
      "File \u001b[1;32md:\\ProgramData\\Python\\Python39\\lib\\site-packages\\qdrant_client\\qdrant_remote.py:2631\u001b[0m, in \u001b[0;36mQdrantRemote.recover_snapshot\u001b[1;34m(self, collection_name, location, priority, wait, **kwargs)\u001b[0m\n\u001b[0;32m   2623\u001b[0m \u001b[38;5;28;01mdef\u001b[39;00m \u001b[38;5;21mrecover_snapshot\u001b[39m(\n\u001b[0;32m   2624\u001b[0m     \u001b[38;5;28mself\u001b[39m,\n\u001b[0;32m   2625\u001b[0m     collection_name: \u001b[38;5;28mstr\u001b[39m,\n\u001b[1;32m   (...)\u001b[0m\n\u001b[0;32m   2629\u001b[0m     \u001b[38;5;241m*\u001b[39m\u001b[38;5;241m*\u001b[39mkwargs: Any,\n\u001b[0;32m   2630\u001b[0m ) \u001b[38;5;241m-\u001b[39m\u001b[38;5;241m>\u001b[39m Optional[\u001b[38;5;28mbool\u001b[39m]:\n\u001b[1;32m-> 2631\u001b[0m     \u001b[38;5;28;01mreturn\u001b[39;00m \u001b[38;5;28;43mself\u001b[39;49m\u001b[38;5;241;43m.\u001b[39;49m\u001b[43mopenapi_client\u001b[49m\u001b[38;5;241;43m.\u001b[39;49m\u001b[43msnapshots_api\u001b[49m\u001b[38;5;241;43m.\u001b[39;49m\u001b[43mrecover_from_snapshot\u001b[49m\u001b[43m(\u001b[49m\n\u001b[0;32m   2632\u001b[0m \u001b[43m        \u001b[49m\u001b[43mcollection_name\u001b[49m\u001b[38;5;241;43m=\u001b[39;49m\u001b[43mcollection_name\u001b[49m\u001b[43m,\u001b[49m\n\u001b[0;32m   2633\u001b[0m \u001b[43m        \u001b[49m\u001b[43mwait\u001b[49m\u001b[38;5;241;43m=\u001b[39;49m\u001b[43mwait\u001b[49m\u001b[43m,\u001b[49m\n\u001b[0;32m   2634\u001b[0m \u001b[43m        \u001b[49m\u001b[43msnapshot_recover\u001b[49m\u001b[38;5;241;43m=\u001b[39;49m\u001b[43mmodels\u001b[49m\u001b[38;5;241;43m.\u001b[39;49m\u001b[43mSnapshotRecover\u001b[49m\u001b[43m(\u001b[49m\u001b[43mlocation\u001b[49m\u001b[38;5;241;43m=\u001b[39;49m\u001b[43mlocation\u001b[49m\u001b[43m,\u001b[49m\u001b[43m \u001b[49m\u001b[43mpriority\u001b[49m\u001b[38;5;241;43m=\u001b[39;49m\u001b[43mpriority\u001b[49m\u001b[43m)\u001b[49m\u001b[43m,\u001b[49m\n\u001b[0;32m   2635\u001b[0m \u001b[43m    \u001b[49m\u001b[43m)\u001b[49m\u001b[38;5;241m.\u001b[39mresult\n",
      "File \u001b[1;32md:\\ProgramData\\Python\\Python39\\lib\\site-packages\\qdrant_client\\http\\api\\snapshots_api.py:876\u001b[0m, in \u001b[0;36mSyncSnapshotsApi.recover_from_snapshot\u001b[1;34m(self, collection_name, wait, snapshot_recover)\u001b[0m\n\u001b[0;32m    867\u001b[0m \u001b[38;5;28;01mdef\u001b[39;00m \u001b[38;5;21mrecover_from_snapshot\u001b[39m(\n\u001b[0;32m    868\u001b[0m     \u001b[38;5;28mself\u001b[39m,\n\u001b[0;32m    869\u001b[0m     collection_name: \u001b[38;5;28mstr\u001b[39m,\n\u001b[0;32m    870\u001b[0m     wait: \u001b[38;5;28mbool\u001b[39m \u001b[38;5;241m=\u001b[39m \u001b[38;5;28;01mNone\u001b[39;00m,\n\u001b[0;32m    871\u001b[0m     snapshot_recover: m\u001b[38;5;241m.\u001b[39mSnapshotRecover \u001b[38;5;241m=\u001b[39m \u001b[38;5;28;01mNone\u001b[39;00m,\n\u001b[0;32m    872\u001b[0m ) \u001b[38;5;241m-\u001b[39m\u001b[38;5;241m>\u001b[39m m\u001b[38;5;241m.\u001b[39mInlineResponse200:\n\u001b[0;32m    873\u001b[0m \u001b[38;5;250m    \u001b[39m\u001b[38;5;124;03m\"\"\"\u001b[39;00m\n\u001b[0;32m    874\u001b[0m \u001b[38;5;124;03m    Recover local collection data from a snapshot. This will overwrite any data, stored on this node, for the collection. If collection does not exist - it will be created.\u001b[39;00m\n\u001b[0;32m    875\u001b[0m \u001b[38;5;124;03m    \"\"\"\u001b[39;00m\n\u001b[1;32m--> 876\u001b[0m     \u001b[38;5;28;01mreturn\u001b[39;00m \u001b[38;5;28;43mself\u001b[39;49m\u001b[38;5;241;43m.\u001b[39;49m\u001b[43m_build_for_recover_from_snapshot\u001b[49m\u001b[43m(\u001b[49m\n\u001b[0;32m    877\u001b[0m \u001b[43m        \u001b[49m\u001b[43mcollection_name\u001b[49m\u001b[38;5;241;43m=\u001b[39;49m\u001b[43mcollection_name\u001b[49m\u001b[43m,\u001b[49m\n\u001b[0;32m    878\u001b[0m \u001b[43m        \u001b[49m\u001b[43mwait\u001b[49m\u001b[38;5;241;43m=\u001b[39;49m\u001b[43mwait\u001b[49m\u001b[43m,\u001b[49m\n\u001b[0;32m    879\u001b[0m \u001b[43m        \u001b[49m\u001b[43msnapshot_recover\u001b[49m\u001b[38;5;241;43m=\u001b[39;49m\u001b[43msnapshot_recover\u001b[49m\u001b[43m,\u001b[49m\n\u001b[0;32m    880\u001b[0m \u001b[43m    \u001b[49m\u001b[43m)\u001b[49m\n",
      "File \u001b[1;32md:\\ProgramData\\Python\\Python39\\lib\\site-packages\\qdrant_client\\http\\api\\snapshots_api.py:356\u001b[0m, in \u001b[0;36m_SnapshotsApi._build_for_recover_from_snapshot\u001b[1;34m(self, collection_name, wait, snapshot_recover)\u001b[0m\n\u001b[0;32m    354\u001b[0m \u001b[38;5;28;01mif\u001b[39;00m \u001b[38;5;124m\"\u001b[39m\u001b[38;5;124mContent-Type\u001b[39m\u001b[38;5;124m\"\u001b[39m \u001b[38;5;129;01mnot\u001b[39;00m \u001b[38;5;129;01min\u001b[39;00m headers:\n\u001b[0;32m    355\u001b[0m     headers[\u001b[38;5;124m\"\u001b[39m\u001b[38;5;124mContent-Type\u001b[39m\u001b[38;5;124m\"\u001b[39m] \u001b[38;5;241m=\u001b[39m \u001b[38;5;124m\"\u001b[39m\u001b[38;5;124mapplication/json\u001b[39m\u001b[38;5;124m\"\u001b[39m\n\u001b[1;32m--> 356\u001b[0m \u001b[38;5;28;01mreturn\u001b[39;00m \u001b[38;5;28;43mself\u001b[39;49m\u001b[38;5;241;43m.\u001b[39;49m\u001b[43mapi_client\u001b[49m\u001b[38;5;241;43m.\u001b[39;49m\u001b[43mrequest\u001b[49m\u001b[43m(\u001b[49m\n\u001b[0;32m    357\u001b[0m \u001b[43m    \u001b[49m\u001b[43mtype_\u001b[49m\u001b[38;5;241;43m=\u001b[39;49m\u001b[43mm\u001b[49m\u001b[38;5;241;43m.\u001b[39;49m\u001b[43mInlineResponse200\u001b[49m\u001b[43m,\u001b[49m\n\u001b[0;32m    358\u001b[0m \u001b[43m    \u001b[49m\u001b[43mmethod\u001b[49m\u001b[38;5;241;43m=\u001b[39;49m\u001b[38;5;124;43m\"\u001b[39;49m\u001b[38;5;124;43mPUT\u001b[39;49m\u001b[38;5;124;43m\"\u001b[39;49m\u001b[43m,\u001b[49m\n\u001b[0;32m    359\u001b[0m \u001b[43m    \u001b[49m\u001b[43murl\u001b[49m\u001b[38;5;241;43m=\u001b[39;49m\u001b[38;5;124;43m\"\u001b[39;49m\u001b[38;5;124;43m/collections/\u001b[39;49m\u001b[38;5;132;43;01m{collection_name}\u001b[39;49;00m\u001b[38;5;124;43m/snapshots/recover\u001b[39;49m\u001b[38;5;124;43m\"\u001b[39;49m\u001b[43m,\u001b[49m\n\u001b[0;32m    360\u001b[0m \u001b[43m    \u001b[49m\u001b[43mheaders\u001b[49m\u001b[38;5;241;43m=\u001b[39;49m\u001b[43mheaders\u001b[49m\u001b[43m \u001b[49m\u001b[38;5;28;43;01mif\u001b[39;49;00m\u001b[43m \u001b[49m\u001b[43mheaders\u001b[49m\u001b[43m \u001b[49m\u001b[38;5;28;43;01melse\u001b[39;49;00m\u001b[43m \u001b[49m\u001b[38;5;28;43;01mNone\u001b[39;49;00m\u001b[43m,\u001b[49m\n\u001b[0;32m    361\u001b[0m \u001b[43m    \u001b[49m\u001b[43mpath_params\u001b[49m\u001b[38;5;241;43m=\u001b[39;49m\u001b[43mpath_params\u001b[49m\u001b[43m,\u001b[49m\n\u001b[0;32m    362\u001b[0m \u001b[43m    \u001b[49m\u001b[43mparams\u001b[49m\u001b[38;5;241;43m=\u001b[39;49m\u001b[43mquery_params\u001b[49m\u001b[43m,\u001b[49m\n\u001b[0;32m    363\u001b[0m \u001b[43m    \u001b[49m\u001b[43mcontent\u001b[49m\u001b[38;5;241;43m=\u001b[39;49m\u001b[43mbody\u001b[49m\u001b[43m,\u001b[49m\n\u001b[0;32m    364\u001b[0m \u001b[43m\u001b[49m\u001b[43m)\u001b[49m\n",
      "File \u001b[1;32md:\\ProgramData\\Python\\Python39\\lib\\site-packages\\qdrant_client\\http\\api_client.py:76\u001b[0m, in \u001b[0;36mApiClient.request\u001b[1;34m(self, type_, method, url, path_params, **kwargs)\u001b[0m\n\u001b[0;32m     74\u001b[0m     kwargs[\u001b[38;5;124m\"\u001b[39m\u001b[38;5;124mtimeout\u001b[39m\u001b[38;5;124m\"\u001b[39m] \u001b[38;5;241m=\u001b[39m \u001b[38;5;28mint\u001b[39m(kwargs[\u001b[38;5;124m\"\u001b[39m\u001b[38;5;124mparams\u001b[39m\u001b[38;5;124m\"\u001b[39m][\u001b[38;5;124m\"\u001b[39m\u001b[38;5;124mtimeout\u001b[39m\u001b[38;5;124m\"\u001b[39m])\n\u001b[0;32m     75\u001b[0m request \u001b[38;5;241m=\u001b[39m \u001b[38;5;28mself\u001b[39m\u001b[38;5;241m.\u001b[39m_client\u001b[38;5;241m.\u001b[39mbuild_request(method, url, \u001b[38;5;241m*\u001b[39m\u001b[38;5;241m*\u001b[39mkwargs)\n\u001b[1;32m---> 76\u001b[0m \u001b[38;5;28;01mreturn\u001b[39;00m \u001b[38;5;28;43mself\u001b[39;49m\u001b[38;5;241;43m.\u001b[39;49m\u001b[43msend\u001b[49m\u001b[43m(\u001b[49m\u001b[43mrequest\u001b[49m\u001b[43m,\u001b[49m\u001b[43m \u001b[49m\u001b[43mtype_\u001b[49m\u001b[43m)\u001b[49m\n",
      "File \u001b[1;32md:\\ProgramData\\Python\\Python39\\lib\\site-packages\\qdrant_client\\http\\api_client.py:93\u001b[0m, in \u001b[0;36mApiClient.send\u001b[1;34m(self, request, type_)\u001b[0m\n\u001b[0;32m     92\u001b[0m \u001b[38;5;28;01mdef\u001b[39;00m \u001b[38;5;21msend\u001b[39m(\u001b[38;5;28mself\u001b[39m, request: Request, type_: Type[T]) \u001b[38;5;241m-\u001b[39m\u001b[38;5;241m>\u001b[39m T:\n\u001b[1;32m---> 93\u001b[0m     response \u001b[38;5;241m=\u001b[39m \u001b[38;5;28;43mself\u001b[39;49m\u001b[38;5;241;43m.\u001b[39;49m\u001b[43mmiddleware\u001b[49m\u001b[43m(\u001b[49m\u001b[43mrequest\u001b[49m\u001b[43m,\u001b[49m\u001b[43m \u001b[49m\u001b[38;5;28;43mself\u001b[39;49m\u001b[38;5;241;43m.\u001b[39;49m\u001b[43msend_inner\u001b[49m\u001b[43m)\u001b[49m\n\u001b[0;32m     94\u001b[0m     \u001b[38;5;28;01mif\u001b[39;00m response\u001b[38;5;241m.\u001b[39mstatus_code \u001b[38;5;129;01min\u001b[39;00m [\u001b[38;5;241m200\u001b[39m, \u001b[38;5;241m201\u001b[39m, \u001b[38;5;241m202\u001b[39m]:\n\u001b[0;32m     95\u001b[0m         \u001b[38;5;28;01mtry\u001b[39;00m:\n",
      "File \u001b[1;32md:\\ProgramData\\Python\\Python39\\lib\\site-packages\\qdrant_client\\http\\api_client.py:202\u001b[0m, in \u001b[0;36mBaseMiddleware.__call__\u001b[1;34m(self, request, call_next)\u001b[0m\n\u001b[0;32m    201\u001b[0m \u001b[38;5;28;01mdef\u001b[39;00m \u001b[38;5;21m__call__\u001b[39m(\u001b[38;5;28mself\u001b[39m, request: Request, call_next: Send) \u001b[38;5;241m-\u001b[39m\u001b[38;5;241m>\u001b[39m Response:\n\u001b[1;32m--> 202\u001b[0m     \u001b[38;5;28;01mreturn\u001b[39;00m \u001b[43mcall_next\u001b[49m\u001b[43m(\u001b[49m\u001b[43mrequest\u001b[49m\u001b[43m)\u001b[49m\n",
      "File \u001b[1;32md:\\ProgramData\\Python\\Python39\\lib\\site-packages\\qdrant_client\\http\\api_client.py:105\u001b[0m, in \u001b[0;36mApiClient.send_inner\u001b[1;34m(self, request)\u001b[0m\n\u001b[0;32m    103\u001b[0m     response \u001b[38;5;241m=\u001b[39m \u001b[38;5;28mself\u001b[39m\u001b[38;5;241m.\u001b[39m_client\u001b[38;5;241m.\u001b[39msend(request)\n\u001b[0;32m    104\u001b[0m \u001b[38;5;28;01mexcept\u001b[39;00m \u001b[38;5;167;01mException\u001b[39;00m \u001b[38;5;28;01mas\u001b[39;00m e:\n\u001b[1;32m--> 105\u001b[0m     \u001b[38;5;28;01mraise\u001b[39;00m ResponseHandlingException(e)\n\u001b[0;32m    106\u001b[0m \u001b[38;5;28;01mreturn\u001b[39;00m response\n",
      "\u001b[1;31mResponseHandlingException\u001b[0m: timed out"
     ]
    }
   ],
   "source": [
    "client_1.recover_snapshot(\n",
    "    collection_name,\n",
    "    location=url,\n",
    "    wait=True\n",
    ")"
   ]
  },
  {
   "cell_type": "code",
   "execution_count": 46,
   "metadata": {},
   "outputs": [],
   "source": [
    "def download_file(url, local_filename):\n",
    "    \"\"\"\n",
    "    Downloads a file from the given URL and saves it to the local system.\n",
    "    \"\"\"\n",
    "    with requests.get(url, stream=True) as response:\n",
    "        response.raise_for_status()\n",
    "        with open(local_filename, 'wb') as file:\n",
    "            for chunk in response.iter_content(chunk_size=8192):\n",
    "                file.write(chunk)\n",
    "    return local_filename\n"
   ]
  },
  {
   "cell_type": "code",
   "execution_count": null,
   "metadata": {},
   "outputs": [],
   "source": [
    "local_filename=f'E:\\Downloads\\{snapshots_name}'\n",
    "download_file(url, local_filename)"
   ]
  },
  {
   "cell_type": "code",
   "execution_count": 61,
   "metadata": {},
   "outputs": [
    {
     "data": {
      "text/plain": [
       "('47.110.156.41', '企业_w2v_lda')"
      ]
     },
     "execution_count": 61,
     "metadata": {},
     "output_type": "execute_result"
    }
   ],
   "source": [
    "recover_snapshots_upload('47.110.156.41', collection_name, local_filename)"
   ]
  },
  {
   "cell_type": "code",
   "execution_count": 84,
   "metadata": {},
   "outputs": [
    {
     "data": {
      "text/plain": [
       "'BAAI/bge-small-en'"
      ]
     },
     "execution_count": 84,
     "metadata": {},
     "output_type": "execute_result"
    }
   ],
   "source": [
    "client.embedding_model_name"
   ]
  },
  {
   "cell_type": "code",
   "execution_count": 51,
   "metadata": {},
   "outputs": [
    {
     "data": {
      "text/plain": [
       "True"
      ]
     },
     "execution_count": 51,
     "metadata": {},
     "output_type": "execute_result"
    }
   ],
   "source": [
    "#client.list_snapshots(collection_name)\n",
    "client.delete_snapshot(collection_name,'专利_w2v_188_37-4931977184024862-2024-06-26-08-00-39.snapshot')"
   ]
  },
  {
   "cell_type": "code",
   "execution_count": 54,
   "metadata": {},
   "outputs": [
    {
     "data": {
      "text/plain": [
       "True"
      ]
     },
     "execution_count": 54,
     "metadata": {},
     "output_type": "execute_result"
    }
   ],
   "source": [
    "#client.list_full_snapshots()\n",
    "client.delete_full_snapshot(snapshot_name='full-snapshot-2024-06-19-02-44-02.snapshot')"
   ]
  },
  {
   "cell_type": "code",
   "execution_count": 49,
   "metadata": {},
   "outputs": [
    {
     "ename": "KeyboardInterrupt",
     "evalue": "",
     "output_type": "error",
     "traceback": [
      "\u001b[1;31m---------------------------------------------------------------------------\u001b[0m",
      "\u001b[1;31mKeyboardInterrupt\u001b[0m                         Traceback (most recent call last)",
      "Cell \u001b[1;32mIn[49], line 6\u001b[0m\n\u001b[0;32m      1\u001b[0m \u001b[38;5;66;03m# collection_name='专利_w2v_188_37'\u001b[39;00m\n\u001b[0;32m      2\u001b[0m \u001b[38;5;66;03m# client.create_snapshot(collection_name=collection_name)\u001b[39;00m\n\u001b[0;32m      3\u001b[0m \u001b[38;5;66;03m# snapshots_name=client.list_snapshots(collection_name)[0].name\u001b[39;00m\n\u001b[0;32m      4\u001b[0m \u001b[38;5;66;03m# url=f'http://10.10.10.5:6333/collections/{collection_name}/snapshots/{snapshots_name}'\u001b[39;00m\n\u001b[0;32m      5\u001b[0m \u001b[38;5;66;03m# local_filename=f'E:\\Downloads\\{snapshots_name}'\u001b[39;00m\n\u001b[1;32m----> 6\u001b[0m \u001b[43mdownload_file\u001b[49m\u001b[43m(\u001b[49m\u001b[43murl\u001b[49m\u001b[43m,\u001b[49m\u001b[43m \u001b[49m\u001b[43mlocal_filename\u001b[49m\u001b[43m)\u001b[49m\n\u001b[0;32m      7\u001b[0m recover_snapshots_upload(\u001b[38;5;124m'\u001b[39m\u001b[38;5;124m47.110.156.41\u001b[39m\u001b[38;5;124m'\u001b[39m, collection_name, local_filename)\n\u001b[0;32m      8\u001b[0m client\u001b[38;5;241m.\u001b[39mdelete_snapshot(\n\u001b[0;32m      9\u001b[0m collection_name\u001b[38;5;241m=\u001b[39mcollection_name, snapshot_name\u001b[38;5;241m=\u001b[39msnapshots_name\n\u001b[0;32m     10\u001b[0m )\n",
      "Cell \u001b[1;32mIn[46], line 8\u001b[0m, in \u001b[0;36mdownload_file\u001b[1;34m(url, local_filename)\u001b[0m\n\u001b[0;32m      6\u001b[0m     response\u001b[38;5;241m.\u001b[39mraise_for_status()\n\u001b[0;32m      7\u001b[0m     \u001b[38;5;28;01mwith\u001b[39;00m \u001b[38;5;28mopen\u001b[39m(local_filename, \u001b[38;5;124m'\u001b[39m\u001b[38;5;124mwb\u001b[39m\u001b[38;5;124m'\u001b[39m) \u001b[38;5;28;01mas\u001b[39;00m file:\n\u001b[1;32m----> 8\u001b[0m         \u001b[38;5;28;01mfor\u001b[39;00m chunk \u001b[38;5;129;01min\u001b[39;00m response\u001b[38;5;241m.\u001b[39miter_content(chunk_size\u001b[38;5;241m=\u001b[39m\u001b[38;5;241m8192\u001b[39m):\n\u001b[0;32m      9\u001b[0m             file\u001b[38;5;241m.\u001b[39mwrite(chunk)\n\u001b[0;32m     10\u001b[0m \u001b[38;5;28;01mreturn\u001b[39;00m local_filename\n",
      "File \u001b[1;32md:\\ProgramData\\Python\\Python39\\lib\\site-packages\\requests\\models.py:820\u001b[0m, in \u001b[0;36mResponse.iter_content.<locals>.generate\u001b[1;34m()\u001b[0m\n\u001b[0;32m    818\u001b[0m \u001b[38;5;28;01mif\u001b[39;00m \u001b[38;5;28mhasattr\u001b[39m(\u001b[38;5;28mself\u001b[39m\u001b[38;5;241m.\u001b[39mraw, \u001b[38;5;124m\"\u001b[39m\u001b[38;5;124mstream\u001b[39m\u001b[38;5;124m\"\u001b[39m):\n\u001b[0;32m    819\u001b[0m     \u001b[38;5;28;01mtry\u001b[39;00m:\n\u001b[1;32m--> 820\u001b[0m         \u001b[38;5;28;01myield from\u001b[39;00m \u001b[38;5;28mself\u001b[39m\u001b[38;5;241m.\u001b[39mraw\u001b[38;5;241m.\u001b[39mstream(chunk_size, decode_content\u001b[38;5;241m=\u001b[39m\u001b[38;5;28;01mTrue\u001b[39;00m)\n\u001b[0;32m    821\u001b[0m     \u001b[38;5;28;01mexcept\u001b[39;00m ProtocolError \u001b[38;5;28;01mas\u001b[39;00m e:\n\u001b[0;32m    822\u001b[0m         \u001b[38;5;28;01mraise\u001b[39;00m ChunkedEncodingError(e)\n",
      "File \u001b[1;32md:\\ProgramData\\Python\\Python39\\lib\\site-packages\\urllib3\\response.py:937\u001b[0m, in \u001b[0;36mHTTPResponse.stream\u001b[1;34m(self, amt, decode_content)\u001b[0m\n\u001b[0;32m    921\u001b[0m \u001b[38;5;250m\u001b[39m\u001b[38;5;124;03m\"\"\"\u001b[39;00m\n\u001b[0;32m    922\u001b[0m \u001b[38;5;124;03mA generator wrapper for the read() method. A call will block until\u001b[39;00m\n\u001b[0;32m    923\u001b[0m \u001b[38;5;124;03m``amt`` bytes have been read from the connection or until the\u001b[39;00m\n\u001b[1;32m   (...)\u001b[0m\n\u001b[0;32m    934\u001b[0m \u001b[38;5;124;03m    'content-encoding' header.\u001b[39;00m\n\u001b[0;32m    935\u001b[0m \u001b[38;5;124;03m\"\"\"\u001b[39;00m\n\u001b[0;32m    936\u001b[0m \u001b[38;5;28;01mif\u001b[39;00m \u001b[38;5;28mself\u001b[39m\u001b[38;5;241m.\u001b[39mchunked \u001b[38;5;129;01mand\u001b[39;00m \u001b[38;5;28mself\u001b[39m\u001b[38;5;241m.\u001b[39msupports_chunked_reads():\n\u001b[1;32m--> 937\u001b[0m     \u001b[38;5;28;01myield from\u001b[39;00m \u001b[38;5;28mself\u001b[39m\u001b[38;5;241m.\u001b[39mread_chunked(amt, decode_content\u001b[38;5;241m=\u001b[39mdecode_content)\n\u001b[0;32m    938\u001b[0m \u001b[38;5;28;01melse\u001b[39;00m:\n\u001b[0;32m    939\u001b[0m     \u001b[38;5;28;01mwhile\u001b[39;00m \u001b[38;5;129;01mnot\u001b[39;00m is_fp_closed(\u001b[38;5;28mself\u001b[39m\u001b[38;5;241m.\u001b[39m_fp) \u001b[38;5;129;01mor\u001b[39;00m \u001b[38;5;28mlen\u001b[39m(\u001b[38;5;28mself\u001b[39m\u001b[38;5;241m.\u001b[39m_decoded_buffer) \u001b[38;5;241m>\u001b[39m \u001b[38;5;241m0\u001b[39m:\n",
      "File \u001b[1;32md:\\ProgramData\\Python\\Python39\\lib\\site-packages\\urllib3\\response.py:1080\u001b[0m, in \u001b[0;36mHTTPResponse.read_chunked\u001b[1;34m(self, amt, decode_content)\u001b[0m\n\u001b[0;32m   1078\u001b[0m \u001b[38;5;28;01mif\u001b[39;00m \u001b[38;5;28mself\u001b[39m\u001b[38;5;241m.\u001b[39mchunk_left \u001b[38;5;241m==\u001b[39m \u001b[38;5;241m0\u001b[39m:\n\u001b[0;32m   1079\u001b[0m     \u001b[38;5;28;01mbreak\u001b[39;00m\n\u001b[1;32m-> 1080\u001b[0m chunk \u001b[38;5;241m=\u001b[39m \u001b[38;5;28;43mself\u001b[39;49m\u001b[38;5;241;43m.\u001b[39;49m\u001b[43m_handle_chunk\u001b[49m\u001b[43m(\u001b[49m\u001b[43mamt\u001b[49m\u001b[43m)\u001b[49m\n\u001b[0;32m   1081\u001b[0m decoded \u001b[38;5;241m=\u001b[39m \u001b[38;5;28mself\u001b[39m\u001b[38;5;241m.\u001b[39m_decode(\n\u001b[0;32m   1082\u001b[0m     chunk, decode_content\u001b[38;5;241m=\u001b[39mdecode_content, flush_decoder\u001b[38;5;241m=\u001b[39m\u001b[38;5;28;01mFalse\u001b[39;00m\n\u001b[0;32m   1083\u001b[0m )\n\u001b[0;32m   1084\u001b[0m \u001b[38;5;28;01mif\u001b[39;00m decoded:\n",
      "File \u001b[1;32md:\\ProgramData\\Python\\Python39\\lib\\site-packages\\urllib3\\response.py:1022\u001b[0m, in \u001b[0;36mHTTPResponse._handle_chunk\u001b[1;34m(self, amt)\u001b[0m\n\u001b[0;32m   1020\u001b[0m     \u001b[38;5;28mself\u001b[39m\u001b[38;5;241m.\u001b[39mchunk_left \u001b[38;5;241m=\u001b[39m \u001b[38;5;28;01mNone\u001b[39;00m\n\u001b[0;32m   1021\u001b[0m \u001b[38;5;28;01melif\u001b[39;00m \u001b[38;5;28mself\u001b[39m\u001b[38;5;241m.\u001b[39mchunk_left \u001b[38;5;129;01mis\u001b[39;00m \u001b[38;5;129;01mnot\u001b[39;00m \u001b[38;5;28;01mNone\u001b[39;00m \u001b[38;5;129;01mand\u001b[39;00m amt \u001b[38;5;241m<\u001b[39m \u001b[38;5;28mself\u001b[39m\u001b[38;5;241m.\u001b[39mchunk_left:\n\u001b[1;32m-> 1022\u001b[0m     value \u001b[38;5;241m=\u001b[39m \u001b[38;5;28;43mself\u001b[39;49m\u001b[38;5;241;43m.\u001b[39;49m\u001b[43m_fp\u001b[49m\u001b[38;5;241;43m.\u001b[39;49m\u001b[43m_safe_read\u001b[49m\u001b[43m(\u001b[49m\u001b[43mamt\u001b[49m\u001b[43m)\u001b[49m  \u001b[38;5;66;03m# type: ignore[union-attr]\u001b[39;00m\n\u001b[0;32m   1023\u001b[0m     \u001b[38;5;28mself\u001b[39m\u001b[38;5;241m.\u001b[39mchunk_left \u001b[38;5;241m=\u001b[39m \u001b[38;5;28mself\u001b[39m\u001b[38;5;241m.\u001b[39mchunk_left \u001b[38;5;241m-\u001b[39m amt\n\u001b[0;32m   1024\u001b[0m     returned_chunk \u001b[38;5;241m=\u001b[39m value\n",
      "File \u001b[1;32md:\\ProgramData\\Python\\Python39\\lib\\http\\client.py:626\u001b[0m, in \u001b[0;36mHTTPResponse._safe_read\u001b[1;34m(self, amt)\u001b[0m\n\u001b[0;32m    624\u001b[0m s \u001b[38;5;241m=\u001b[39m []\n\u001b[0;32m    625\u001b[0m \u001b[38;5;28;01mwhile\u001b[39;00m amt \u001b[38;5;241m>\u001b[39m \u001b[38;5;241m0\u001b[39m:\n\u001b[1;32m--> 626\u001b[0m     chunk \u001b[38;5;241m=\u001b[39m \u001b[38;5;28;43mself\u001b[39;49m\u001b[38;5;241;43m.\u001b[39;49m\u001b[43mfp\u001b[49m\u001b[38;5;241;43m.\u001b[39;49m\u001b[43mread\u001b[49m\u001b[43m(\u001b[49m\u001b[38;5;28;43mmin\u001b[39;49m\u001b[43m(\u001b[49m\u001b[43mamt\u001b[49m\u001b[43m,\u001b[49m\u001b[43m \u001b[49m\u001b[43mMAXAMOUNT\u001b[49m\u001b[43m)\u001b[49m\u001b[43m)\u001b[49m\n\u001b[0;32m    627\u001b[0m     \u001b[38;5;28;01mif\u001b[39;00m \u001b[38;5;129;01mnot\u001b[39;00m chunk:\n\u001b[0;32m    628\u001b[0m         \u001b[38;5;28;01mraise\u001b[39;00m IncompleteRead(\u001b[38;5;124mb\u001b[39m\u001b[38;5;124m'\u001b[39m\u001b[38;5;124m'\u001b[39m\u001b[38;5;241m.\u001b[39mjoin(s), amt)\n",
      "File \u001b[1;32md:\\ProgramData\\Python\\Python39\\lib\\socket.py:704\u001b[0m, in \u001b[0;36mSocketIO.readinto\u001b[1;34m(self, b)\u001b[0m\n\u001b[0;32m    702\u001b[0m \u001b[38;5;28;01mwhile\u001b[39;00m \u001b[38;5;28;01mTrue\u001b[39;00m:\n\u001b[0;32m    703\u001b[0m     \u001b[38;5;28;01mtry\u001b[39;00m:\n\u001b[1;32m--> 704\u001b[0m         \u001b[38;5;28;01mreturn\u001b[39;00m \u001b[38;5;28;43mself\u001b[39;49m\u001b[38;5;241;43m.\u001b[39;49m\u001b[43m_sock\u001b[49m\u001b[38;5;241;43m.\u001b[39;49m\u001b[43mrecv_into\u001b[49m\u001b[43m(\u001b[49m\u001b[43mb\u001b[49m\u001b[43m)\u001b[49m\n\u001b[0;32m    705\u001b[0m     \u001b[38;5;28;01mexcept\u001b[39;00m timeout:\n\u001b[0;32m    706\u001b[0m         \u001b[38;5;28mself\u001b[39m\u001b[38;5;241m.\u001b[39m_timeout_occurred \u001b[38;5;241m=\u001b[39m \u001b[38;5;28;01mTrue\u001b[39;00m\n",
      "\u001b[1;31mKeyboardInterrupt\u001b[0m: "
     ]
    }
   ],
   "source": [
    "collection_name='专利_w2v_188_37'\n",
    "client.create_snapshot(collection_name=collection_name)\n",
    "snapshots_name=client.list_snapshots(collection_name)[0].name\n",
    "url=f'http://10.10.10.5:6333/collections/{collection_name}/snapshots/{snapshots_name}'\n",
    "local_filename=f'E:\\Downloads\\{snapshots_name}'\n",
    "download_file(url, local_filename)\n",
    "recover_snapshots_upload('47.110.156.41', collection_name, local_filename)\n",
    "client.delete_snapshot(\n",
    "collection_name=collection_name, snapshot_name=snapshots_name\n",
    ")\n",
    "#     to_client.recover_snapshot(\n",
    "#     collection_name,\n",
    "#     location=url,\n",
    "#     wait=True\n",
    "# )\n",
    "  \n",
    "client_1.count(collection_name)"
   ]
  },
  {
   "cell_type": "code",
   "execution_count": 83,
   "metadata": {},
   "outputs": [
    {
     "name": "stdout",
     "output_type": "stream",
     "text": [
      "企业_w2v_lda []\n",
      "专利_w2v []\n",
      "专利_w2v_188_37 []\n",
      "places_bank []\n"
     ]
    }
   ],
   "source": [
    "for collection  in client.get_collections().collections:\n",
    "    snapshots_names=client.list_snapshots(collection.name)\n",
    "    print(collection.name ,snapshots_names)\n",
    "    if snapshots_names:\n",
    "        snapshots_name=snapshots_names[0].name\n",
    "        client.delete_snapshot(\n",
    "        collection_name=collection.name, snapshot_name=snapshots_name)"
   ]
  },
  {
   "cell_type": "code",
   "execution_count": 86,
   "metadata": {},
   "outputs": [
    {
     "data": {
      "text/plain": [
       "[]"
      ]
     },
     "execution_count": 86,
     "metadata": {},
     "output_type": "execute_result"
    }
   ],
   "source": [
    "#client.create_full_snapshot()\n",
    "client.list_full_snapshots()"
   ]
  },
  {
   "cell_type": "code",
   "execution_count": 5,
   "metadata": {},
   "outputs": [],
   "source": [
    "import pickle\n",
    "import numpy as np\n",
    "\n",
    "def read_pickle_in_batches(file_path, batch_size):\n",
    "    with open(file_path, 'rb') as f:\n",
    "        while True:\n",
    "            batch = []\n",
    "            try:\n",
    "                for _ in range(batch_size):\n",
    "                    batch.append(pickle.load(f))\n",
    "            except EOFError:\n",
    "                break\n",
    "            yield batch\n",
    "\n",
    "def read_npy_in_batches(file_path, batch_size):\n",
    "    data = np.load(file_path, mmap_mode='r')\n",
    "    total_rows = data.shape[0]\n",
    "    \n",
    "    for i in range(0, total_rows, batch_size):\n",
    "        yield data[i:i + batch_size]"
   ]
  },
  {
   "cell_type": "code",
   "execution_count": 41,
   "metadata": {},
   "outputs": [],
   "source": [
    "pkl_path = 'Y:\\Downloads\\Patent\\融资公司专利2024_payloads.pkl'\n",
    "npy_path = 'Y:\\Downloads\\Patent\\融资公司专利2024_bge_embeddings.npy'\n",
    "batch_size = 1000\n",
    "pkl_batches = read_pickle_in_batches(pkl_path, batch_size)\n",
    "npy_batches = read_npy_in_batches(npy_path, batch_size)\n",
    "\n",
    "\n",
    "# while True:\n",
    "#     try:\n",
    "#         pkl_batch = next(pkl_batches)\n",
    "#         npy_batch = next(npy_batches)\n",
    "#         print(f\"Processing batch of size {len(pkl_batch)}\")\n",
    "#         for pkl_item, npy_item in zip(pkl_batch, npy_batch):\n",
    "#             print(f\"Pickle: {pkl_item}, Numpy: {npy_item}\")\n",
    "\n",
    "#     except StopIteration:\n",
    "#         break\n"
   ]
  },
  {
   "cell_type": "code",
   "execution_count": 40,
   "metadata": {},
   "outputs": [
    {
     "ename": "NameError",
     "evalue": "name 'pkl_batches' is not defined",
     "output_type": "error",
     "traceback": [
      "\u001b[1;31m---------------------------------------------------------------------------\u001b[0m",
      "\u001b[1;31mNameError\u001b[0m                                 Traceback (most recent call last)",
      "Cell \u001b[1;32mIn[40], line 1\u001b[0m\n\u001b[1;32m----> 1\u001b[0m \u001b[38;5;28;01mdel\u001b[39;00m pkl_batches\n\u001b[0;32m      2\u001b[0m \u001b[38;5;28;01mdel\u001b[39;00m npy_batches\n",
      "\u001b[1;31mNameError\u001b[0m: name 'pkl_batches' is not defined"
     ]
    }
   ],
   "source": [
    "del pkl_batches\n",
    "del npy_batches"
   ]
  },
  {
   "cell_type": "code",
   "execution_count": 36,
   "metadata": {},
   "outputs": [],
   "source": [
    "i=0\n",
    "while True:\n",
    "    try:\n",
    "        pkl_batch = next(pkl_batches)\n",
    "        npy_batch = next(npy_batches)\n",
    "        size=len(pkl_batch)\n",
    "        index = list(range(i,i + size))\n",
    "        print(f\"{i},Processing batch of size {size,len(npy_batch)}\")\n",
    "        points=Batch(ids= index,payloads=pkl_batch,vectors=npy_batch.tolist())\n",
    "        client_1.upsert(collection_name=collection_name,points = points)     \n",
    "        i+=size\n",
    "\n",
    "    except StopIteration:\n",
    "        break"
   ]
  },
  {
   "cell_type": "code",
   "execution_count": 7,
   "metadata": {},
   "outputs": [],
   "source": [
    "with open(pkl_path, 'rb') as f:\n",
    "    pkls=pickle.load(f)"
   ]
  },
  {
   "cell_type": "code",
   "execution_count": 9,
   "metadata": {},
   "outputs": [
    {
     "data": {
      "text/plain": [
       "{'Co': '重庆钢铁股份有限公司',\n",
       " '序号': 123,\n",
       " '申请号': 'CN93117175.X',\n",
       " '公开（公告）号': 'CN1050661C',\n",
       " '标题 (中文)': '竖式烧结矿冷却机'}"
      ]
     },
     "execution_count": 9,
     "metadata": {},
     "output_type": "execute_result"
    }
   ],
   "source": [
    "pkls[0]"
   ]
  },
  {
   "cell_type": "code",
   "execution_count": 8,
   "metadata": {},
   "outputs": [
    {
     "data": {
      "text/plain": [
       "1897517"
      ]
     },
     "execution_count": 8,
     "metadata": {},
     "output_type": "execute_result"
    }
   ],
   "source": [
    "len(pkls)"
   ]
  },
  {
   "cell_type": "code",
   "execution_count": 3,
   "metadata": {},
   "outputs": [],
   "source": [
    "from qdrant_client.models import Batch,Distance,Batch,VectorParams,PointStruct"
   ]
  },
  {
   "cell_type": "code",
   "execution_count": 31,
   "metadata": {},
   "outputs": [
    {
     "name": "stderr",
     "output_type": "stream",
     "text": [
      "C:\\Users\\Administrator\\AppData\\Local\\Temp\\ipykernel_28544\\1782672481.py:2: DeprecationWarning: `recreate_collection` method is deprecated and will be removed in the future. Use `collection_exists` to check collection existence and `create_collection` instead.\n",
      "  client_1.recreate_collection(\n"
     ]
    },
    {
     "data": {
      "text/plain": [
       "True"
      ]
     },
     "execution_count": 31,
     "metadata": {},
     "output_type": "execute_result"
    }
   ],
   "source": [
    "collection_name='专利_bge_189'\n",
    "client_1.recreate_collection(\n",
    "    collection_name=collection_name,\n",
    "    vectors_config=VectorParams(size=1024, distance=Distance.COSINE))"
   ]
  },
  {
   "cell_type": "code",
   "execution_count": 15,
   "metadata": {},
   "outputs": [],
   "source": [
    "del npy_batches"
   ]
  },
  {
   "cell_type": "code",
   "execution_count": 21,
   "metadata": {},
   "outputs": [],
   "source": [
    "client_1=QdrantClient(host=\"47.110.156.41\", grpc_port=6334, prefer_grpc=True)"
   ]
  },
  {
   "cell_type": "code",
   "execution_count": 32,
   "metadata": {},
   "outputs": [
    {
     "data": {
      "text/plain": [
       "CountResult(count=0)"
      ]
     },
     "execution_count": 32,
     "metadata": {},
     "output_type": "execute_result"
    }
   ],
   "source": [
    "client_1.count(collection_name=collection_name)"
   ]
  },
  {
   "cell_type": "code",
   "execution_count": 19,
   "metadata": {},
   "outputs": [
    {
     "data": {
      "text/plain": [
       "237000"
      ]
     },
     "execution_count": 19,
     "metadata": {},
     "output_type": "execute_result"
    }
   ],
   "source": [
    "i,1896000"
   ]
  },
  {
   "cell_type": "code",
   "execution_count": 27,
   "metadata": {},
   "outputs": [
    {
     "data": {
      "text/plain": [
       "517"
      ]
     },
     "execution_count": 27,
     "metadata": {},
     "output_type": "execute_result"
    }
   ],
   "source": [
    "len(pkls[1897000:1897000 + batch_size])"
   ]
  },
  {
   "cell_type": "code",
   "execution_count": 42,
   "metadata": {
    "scrolled": true
   },
   "outputs": [
    {
     "name": "stdout",
     "output_type": "stream",
     "text": [
      "0,Processing batch of size (1000, 1000)\n",
      "1000,Processing batch of size (1000, 1000)\n",
      "2000,Processing batch of size (1000, 1000)\n",
      "3000,Processing batch of size (1000, 1000)\n",
      "4000,Processing batch of size (1000, 1000)\n",
      "5000,Processing batch of size (1000, 1000)\n",
      "6000,Processing batch of size (1000, 1000)\n",
      "7000,Processing batch of size (1000, 1000)\n",
      "8000,Processing batch of size (1000, 1000)\n",
      "9000,Processing batch of size (1000, 1000)\n",
      "10000,Processing batch of size (1000, 1000)\n",
      "11000,Processing batch of size (1000, 1000)\n",
      "12000,Processing batch of size (1000, 1000)\n",
      "13000,Processing batch of size (1000, 1000)\n",
      "14000,Processing batch of size (1000, 1000)\n",
      "15000,Processing batch of size (1000, 1000)\n",
      "16000,Processing batch of size (1000, 1000)\n",
      "17000,Processing batch of size (1000, 1000)\n",
      "18000,Processing batch of size (1000, 1000)\n",
      "19000,Processing batch of size (1000, 1000)\n",
      "20000,Processing batch of size (1000, 1000)\n",
      "21000,Processing batch of size (1000, 1000)\n",
      "22000,Processing batch of size (1000, 1000)\n",
      "23000,Processing batch of size (1000, 1000)\n",
      "24000,Processing batch of size (1000, 1000)\n",
      "25000,Processing batch of size (1000, 1000)\n",
      "26000,Processing batch of size (1000, 1000)\n",
      "27000,Processing batch of size (1000, 1000)\n",
      "28000,Processing batch of size (1000, 1000)\n",
      "29000,Processing batch of size (1000, 1000)\n",
      "30000,Processing batch of size (1000, 1000)\n",
      "31000,Processing batch of size (1000, 1000)\n",
      "32000,Processing batch of size (1000, 1000)\n",
      "33000,Processing batch of size (1000, 1000)\n",
      "34000,Processing batch of size (1000, 1000)\n",
      "35000,Processing batch of size (1000, 1000)\n",
      "36000,Processing batch of size (1000, 1000)\n",
      "37000,Processing batch of size (1000, 1000)\n",
      "38000,Processing batch of size (1000, 1000)\n",
      "39000,Processing batch of size (1000, 1000)\n",
      "40000,Processing batch of size (1000, 1000)\n",
      "41000,Processing batch of size (1000, 1000)\n",
      "42000,Processing batch of size (1000, 1000)\n",
      "43000,Processing batch of size (1000, 1000)\n",
      "44000,Processing batch of size (1000, 1000)\n",
      "45000,Processing batch of size (1000, 1000)\n",
      "46000,Processing batch of size (1000, 1000)\n",
      "47000,Processing batch of size (1000, 1000)\n",
      "48000,Processing batch of size (1000, 1000)\n",
      "49000,Processing batch of size (1000, 1000)\n",
      "50000,Processing batch of size (1000, 1000)\n",
      "51000,Processing batch of size (1000, 1000)\n",
      "52000,Processing batch of size (1000, 1000)\n",
      "53000,Processing batch of size (1000, 1000)\n",
      "54000,Processing batch of size (1000, 1000)\n",
      "55000,Processing batch of size (1000, 1000)\n",
      "56000,Processing batch of size (1000, 1000)\n",
      "57000,Processing batch of size (1000, 1000)\n",
      "58000,Processing batch of size (1000, 1000)\n",
      "59000,Processing batch of size (1000, 1000)\n",
      "60000,Processing batch of size (1000, 1000)\n",
      "61000,Processing batch of size (1000, 1000)\n",
      "62000,Processing batch of size (1000, 1000)\n",
      "63000,Processing batch of size (1000, 1000)\n",
      "64000,Processing batch of size (1000, 1000)\n",
      "65000,Processing batch of size (1000, 1000)\n",
      "66000,Processing batch of size (1000, 1000)\n",
      "67000,Processing batch of size (1000, 1000)\n",
      "68000,Processing batch of size (1000, 1000)\n",
      "69000,Processing batch of size (1000, 1000)\n",
      "70000,Processing batch of size (1000, 1000)\n",
      "71000,Processing batch of size (1000, 1000)\n",
      "72000,Processing batch of size (1000, 1000)\n",
      "73000,Processing batch of size (1000, 1000)\n",
      "74000,Processing batch of size (1000, 1000)\n",
      "75000,Processing batch of size (1000, 1000)\n",
      "76000,Processing batch of size (1000, 1000)\n",
      "77000,Processing batch of size (1000, 1000)\n",
      "78000,Processing batch of size (1000, 1000)\n",
      "79000,Processing batch of size (1000, 1000)\n",
      "80000,Processing batch of size (1000, 1000)\n",
      "81000,Processing batch of size (1000, 1000)\n",
      "82000,Processing batch of size (1000, 1000)\n",
      "83000,Processing batch of size (1000, 1000)\n",
      "84000,Processing batch of size (1000, 1000)\n",
      "85000,Processing batch of size (1000, 1000)\n",
      "86000,Processing batch of size (1000, 1000)\n",
      "87000,Processing batch of size (1000, 1000)\n",
      "88000,Processing batch of size (1000, 1000)\n",
      "89000,Processing batch of size (1000, 1000)\n",
      "90000,Processing batch of size (1000, 1000)\n",
      "91000,Processing batch of size (1000, 1000)\n",
      "92000,Processing batch of size (1000, 1000)\n",
      "93000,Processing batch of size (1000, 1000)\n",
      "94000,Processing batch of size (1000, 1000)\n",
      "95000,Processing batch of size (1000, 1000)\n",
      "96000,Processing batch of size (1000, 1000)\n",
      "97000,Processing batch of size (1000, 1000)\n",
      "98000,Processing batch of size (1000, 1000)\n",
      "99000,Processing batch of size (1000, 1000)\n",
      "100000,Processing batch of size (1000, 1000)\n",
      "101000,Processing batch of size (1000, 1000)\n",
      "102000,Processing batch of size (1000, 1000)\n",
      "103000,Processing batch of size (1000, 1000)\n",
      "104000,Processing batch of size (1000, 1000)\n",
      "105000,Processing batch of size (1000, 1000)\n",
      "106000,Processing batch of size (1000, 1000)\n",
      "107000,Processing batch of size (1000, 1000)\n",
      "108000,Processing batch of size (1000, 1000)\n",
      "109000,Processing batch of size (1000, 1000)\n",
      "110000,Processing batch of size (1000, 1000)\n",
      "111000,Processing batch of size (1000, 1000)\n",
      "112000,Processing batch of size (1000, 1000)\n",
      "113000,Processing batch of size (1000, 1000)\n",
      "114000,Processing batch of size (1000, 1000)\n",
      "115000,Processing batch of size (1000, 1000)\n",
      "116000,Processing batch of size (1000, 1000)\n",
      "117000,Processing batch of size (1000, 1000)\n",
      "118000,Processing batch of size (1000, 1000)\n",
      "119000,Processing batch of size (1000, 1000)\n",
      "120000,Processing batch of size (1000, 1000)\n",
      "121000,Processing batch of size (1000, 1000)\n",
      "122000,Processing batch of size (1000, 1000)\n",
      "123000,Processing batch of size (1000, 1000)\n",
      "124000,Processing batch of size (1000, 1000)\n",
      "125000,Processing batch of size (1000, 1000)\n",
      "126000,Processing batch of size (1000, 1000)\n",
      "127000,Processing batch of size (1000, 1000)\n",
      "128000,Processing batch of size (1000, 1000)\n",
      "129000,Processing batch of size (1000, 1000)\n",
      "130000,Processing batch of size (1000, 1000)\n",
      "131000,Processing batch of size (1000, 1000)\n",
      "132000,Processing batch of size (1000, 1000)\n",
      "133000,Processing batch of size (1000, 1000)\n",
      "134000,Processing batch of size (1000, 1000)\n",
      "135000,Processing batch of size (1000, 1000)\n",
      "136000,Processing batch of size (1000, 1000)\n",
      "137000,Processing batch of size (1000, 1000)\n",
      "138000,Processing batch of size (1000, 1000)\n",
      "139000,Processing batch of size (1000, 1000)\n",
      "140000,Processing batch of size (1000, 1000)\n",
      "141000,Processing batch of size (1000, 1000)\n",
      "142000,Processing batch of size (1000, 1000)\n",
      "143000,Processing batch of size (1000, 1000)\n",
      "144000,Processing batch of size (1000, 1000)\n",
      "145000,Processing batch of size (1000, 1000)\n",
      "146000,Processing batch of size (1000, 1000)\n",
      "147000,Processing batch of size (1000, 1000)\n",
      "148000,Processing batch of size (1000, 1000)\n",
      "149000,Processing batch of size (1000, 1000)\n",
      "150000,Processing batch of size (1000, 1000)\n",
      "151000,Processing batch of size (1000, 1000)\n",
      "152000,Processing batch of size (1000, 1000)\n",
      "153000,Processing batch of size (1000, 1000)\n",
      "154000,Processing batch of size (1000, 1000)\n",
      "155000,Processing batch of size (1000, 1000)\n",
      "156000,Processing batch of size (1000, 1000)\n",
      "157000,Processing batch of size (1000, 1000)\n",
      "158000,Processing batch of size (1000, 1000)\n",
      "159000,Processing batch of size (1000, 1000)\n",
      "160000,Processing batch of size (1000, 1000)\n",
      "161000,Processing batch of size (1000, 1000)\n",
      "162000,Processing batch of size (1000, 1000)\n",
      "163000,Processing batch of size (1000, 1000)\n",
      "164000,Processing batch of size (1000, 1000)\n",
      "165000,Processing batch of size (1000, 1000)\n",
      "166000,Processing batch of size (1000, 1000)\n",
      "167000,Processing batch of size (1000, 1000)\n",
      "168000,Processing batch of size (1000, 1000)\n",
      "169000,Processing batch of size (1000, 1000)\n",
      "170000,Processing batch of size (1000, 1000)\n",
      "171000,Processing batch of size (1000, 1000)\n",
      "172000,Processing batch of size (1000, 1000)\n",
      "173000,Processing batch of size (1000, 1000)\n",
      "174000,Processing batch of size (1000, 1000)\n",
      "175000,Processing batch of size (1000, 1000)\n",
      "176000,Processing batch of size (1000, 1000)\n",
      "177000,Processing batch of size (1000, 1000)\n",
      "178000,Processing batch of size (1000, 1000)\n",
      "179000,Processing batch of size (1000, 1000)\n",
      "180000,Processing batch of size (1000, 1000)\n",
      "181000,Processing batch of size (1000, 1000)\n",
      "182000,Processing batch of size (1000, 1000)\n",
      "183000,Processing batch of size (1000, 1000)\n",
      "184000,Processing batch of size (1000, 1000)\n",
      "185000,Processing batch of size (1000, 1000)\n",
      "186000,Processing batch of size (1000, 1000)\n",
      "187000,Processing batch of size (1000, 1000)\n",
      "188000,Processing batch of size (1000, 1000)\n",
      "189000,Processing batch of size (1000, 1000)\n",
      "190000,Processing batch of size (1000, 1000)\n",
      "191000,Processing batch of size (1000, 1000)\n",
      "192000,Processing batch of size (1000, 1000)\n",
      "193000,Processing batch of size (1000, 1000)\n",
      "194000,Processing batch of size (1000, 1000)\n",
      "195000,Processing batch of size (1000, 1000)\n",
      "196000,Processing batch of size (1000, 1000)\n",
      "197000,Processing batch of size (1000, 1000)\n",
      "198000,Processing batch of size (1000, 1000)\n",
      "199000,Processing batch of size (1000, 1000)\n",
      "200000,Processing batch of size (1000, 1000)\n",
      "201000,Processing batch of size (1000, 1000)\n",
      "202000,Processing batch of size (1000, 1000)\n",
      "203000,Processing batch of size (1000, 1000)\n",
      "204000,Processing batch of size (1000, 1000)\n",
      "205000,Processing batch of size (1000, 1000)\n",
      "206000,Processing batch of size (1000, 1000)\n",
      "207000,Processing batch of size (1000, 1000)\n",
      "208000,Processing batch of size (1000, 1000)\n",
      "209000,Processing batch of size (1000, 1000)\n",
      "210000,Processing batch of size (1000, 1000)\n",
      "211000,Processing batch of size (1000, 1000)\n",
      "212000,Processing batch of size (1000, 1000)\n",
      "213000,Processing batch of size (1000, 1000)\n",
      "214000,Processing batch of size (1000, 1000)\n",
      "215000,Processing batch of size (1000, 1000)\n",
      "216000,Processing batch of size (1000, 1000)\n",
      "217000,Processing batch of size (1000, 1000)\n",
      "218000,Processing batch of size (1000, 1000)\n",
      "219000,Processing batch of size (1000, 1000)\n",
      "220000,Processing batch of size (1000, 1000)\n",
      "221000,Processing batch of size (1000, 1000)\n",
      "222000,Processing batch of size (1000, 1000)\n",
      "223000,Processing batch of size (1000, 1000)\n",
      "224000,Processing batch of size (1000, 1000)\n",
      "225000,Processing batch of size (1000, 1000)\n",
      "226000,Processing batch of size (1000, 1000)\n",
      "227000,Processing batch of size (1000, 1000)\n",
      "228000,Processing batch of size (1000, 1000)\n",
      "229000,Processing batch of size (1000, 1000)\n",
      "230000,Processing batch of size (1000, 1000)\n",
      "231000,Processing batch of size (1000, 1000)\n",
      "232000,Processing batch of size (1000, 1000)\n",
      "233000,Processing batch of size (1000, 1000)\n",
      "234000,Processing batch of size (1000, 1000)\n",
      "235000,Processing batch of size (1000, 1000)\n",
      "236000,Processing batch of size (1000, 1000)\n",
      "237000,Processing batch of size (1000, 1000)\n",
      "238000,Processing batch of size (1000, 1000)\n",
      "239000,Processing batch of size (1000, 1000)\n",
      "240000,Processing batch of size (1000, 1000)\n",
      "241000,Processing batch of size (1000, 1000)\n",
      "242000,Processing batch of size (1000, 1000)\n",
      "243000,Processing batch of size (1000, 1000)\n",
      "244000,Processing batch of size (1000, 1000)\n",
      "245000,Processing batch of size (1000, 1000)\n",
      "246000,Processing batch of size (1000, 1000)\n",
      "247000,Processing batch of size (1000, 1000)\n",
      "248000,Processing batch of size (1000, 1000)\n",
      "249000,Processing batch of size (1000, 1000)\n",
      "250000,Processing batch of size (1000, 1000)\n",
      "251000,Processing batch of size (1000, 1000)\n",
      "252000,Processing batch of size (1000, 1000)\n",
      "253000,Processing batch of size (1000, 1000)\n",
      "254000,Processing batch of size (1000, 1000)\n",
      "255000,Processing batch of size (1000, 1000)\n",
      "256000,Processing batch of size (1000, 1000)\n",
      "257000,Processing batch of size (1000, 1000)\n",
      "258000,Processing batch of size (1000, 1000)\n",
      "259000,Processing batch of size (1000, 1000)\n",
      "260000,Processing batch of size (1000, 1000)\n",
      "261000,Processing batch of size (1000, 1000)\n",
      "262000,Processing batch of size (1000, 1000)\n",
      "263000,Processing batch of size (1000, 1000)\n",
      "264000,Processing batch of size (1000, 1000)\n",
      "265000,Processing batch of size (1000, 1000)\n",
      "266000,Processing batch of size (1000, 1000)\n",
      "267000,Processing batch of size (1000, 1000)\n",
      "268000,Processing batch of size (1000, 1000)\n",
      "269000,Processing batch of size (1000, 1000)\n",
      "270000,Processing batch of size (1000, 1000)\n",
      "271000,Processing batch of size (1000, 1000)\n",
      "272000,Processing batch of size (1000, 1000)\n",
      "273000,Processing batch of size (1000, 1000)\n",
      "274000,Processing batch of size (1000, 1000)\n",
      "275000,Processing batch of size (1000, 1000)\n",
      "276000,Processing batch of size (1000, 1000)\n",
      "277000,Processing batch of size (1000, 1000)\n",
      "278000,Processing batch of size (1000, 1000)\n",
      "279000,Processing batch of size (1000, 1000)\n",
      "280000,Processing batch of size (1000, 1000)\n",
      "281000,Processing batch of size (1000, 1000)\n",
      "282000,Processing batch of size (1000, 1000)\n",
      "283000,Processing batch of size (1000, 1000)\n",
      "284000,Processing batch of size (1000, 1000)\n",
      "285000,Processing batch of size (1000, 1000)\n",
      "286000,Processing batch of size (1000, 1000)\n",
      "287000,Processing batch of size (1000, 1000)\n",
      "288000,Processing batch of size (1000, 1000)\n",
      "289000,Processing batch of size (1000, 1000)\n",
      "290000,Processing batch of size (1000, 1000)\n",
      "291000,Processing batch of size (1000, 1000)\n",
      "292000,Processing batch of size (1000, 1000)\n",
      "293000,Processing batch of size (1000, 1000)\n",
      "294000,Processing batch of size (1000, 1000)\n",
      "295000,Processing batch of size (1000, 1000)\n",
      "296000,Processing batch of size (1000, 1000)\n",
      "297000,Processing batch of size (1000, 1000)\n",
      "298000,Processing batch of size (1000, 1000)\n",
      "299000,Processing batch of size (1000, 1000)\n",
      "300000,Processing batch of size (1000, 1000)\n",
      "301000,Processing batch of size (1000, 1000)\n",
      "302000,Processing batch of size (1000, 1000)\n",
      "303000,Processing batch of size (1000, 1000)\n",
      "304000,Processing batch of size (1000, 1000)\n",
      "305000,Processing batch of size (1000, 1000)\n",
      "306000,Processing batch of size (1000, 1000)\n",
      "307000,Processing batch of size (1000, 1000)\n",
      "308000,Processing batch of size (1000, 1000)\n",
      "309000,Processing batch of size (1000, 1000)\n",
      "310000,Processing batch of size (1000, 1000)\n",
      "311000,Processing batch of size (1000, 1000)\n",
      "312000,Processing batch of size (1000, 1000)\n",
      "313000,Processing batch of size (1000, 1000)\n",
      "314000,Processing batch of size (1000, 1000)\n",
      "315000,Processing batch of size (1000, 1000)\n",
      "316000,Processing batch of size (1000, 1000)\n",
      "317000,Processing batch of size (1000, 1000)\n",
      "318000,Processing batch of size (1000, 1000)\n",
      "319000,Processing batch of size (1000, 1000)\n",
      "320000,Processing batch of size (1000, 1000)\n",
      "321000,Processing batch of size (1000, 1000)\n",
      "322000,Processing batch of size (1000, 1000)\n",
      "323000,Processing batch of size (1000, 1000)\n",
      "324000,Processing batch of size (1000, 1000)\n",
      "325000,Processing batch of size (1000, 1000)\n",
      "326000,Processing batch of size (1000, 1000)\n",
      "327000,Processing batch of size (1000, 1000)\n",
      "328000,Processing batch of size (1000, 1000)\n",
      "329000,Processing batch of size (1000, 1000)\n",
      "330000,Processing batch of size (1000, 1000)\n",
      "331000,Processing batch of size (1000, 1000)\n",
      "332000,Processing batch of size (1000, 1000)\n",
      "333000,Processing batch of size (1000, 1000)\n",
      "334000,Processing batch of size (1000, 1000)\n",
      "335000,Processing batch of size (1000, 1000)\n",
      "336000,Processing batch of size (1000, 1000)\n",
      "337000,Processing batch of size (1000, 1000)\n",
      "338000,Processing batch of size (1000, 1000)\n",
      "339000,Processing batch of size (1000, 1000)\n",
      "340000,Processing batch of size (1000, 1000)\n",
      "341000,Processing batch of size (1000, 1000)\n",
      "342000,Processing batch of size (1000, 1000)\n",
      "343000,Processing batch of size (1000, 1000)\n",
      "344000,Processing batch of size (1000, 1000)\n",
      "345000,Processing batch of size (1000, 1000)\n",
      "346000,Processing batch of size (1000, 1000)\n",
      "347000,Processing batch of size (1000, 1000)\n",
      "348000,Processing batch of size (1000, 1000)\n",
      "349000,Processing batch of size (1000, 1000)\n",
      "350000,Processing batch of size (1000, 1000)\n",
      "351000,Processing batch of size (1000, 1000)\n",
      "352000,Processing batch of size (1000, 1000)\n",
      "353000,Processing batch of size (1000, 1000)\n",
      "354000,Processing batch of size (1000, 1000)\n",
      "355000,Processing batch of size (1000, 1000)\n",
      "356000,Processing batch of size (1000, 1000)\n",
      "357000,Processing batch of size (1000, 1000)\n",
      "358000,Processing batch of size (1000, 1000)\n",
      "359000,Processing batch of size (1000, 1000)\n",
      "360000,Processing batch of size (1000, 1000)\n",
      "361000,Processing batch of size (1000, 1000)\n",
      "362000,Processing batch of size (1000, 1000)\n",
      "363000,Processing batch of size (1000, 1000)\n",
      "364000,Processing batch of size (1000, 1000)\n",
      "365000,Processing batch of size (1000, 1000)\n",
      "366000,Processing batch of size (1000, 1000)\n",
      "367000,Processing batch of size (1000, 1000)\n",
      "368000,Processing batch of size (1000, 1000)\n",
      "369000,Processing batch of size (1000, 1000)\n",
      "370000,Processing batch of size (1000, 1000)\n",
      "371000,Processing batch of size (1000, 1000)\n",
      "372000,Processing batch of size (1000, 1000)\n",
      "373000,Processing batch of size (1000, 1000)\n",
      "374000,Processing batch of size (1000, 1000)\n",
      "375000,Processing batch of size (1000, 1000)\n",
      "376000,Processing batch of size (1000, 1000)\n",
      "377000,Processing batch of size (1000, 1000)\n",
      "378000,Processing batch of size (1000, 1000)\n",
      "379000,Processing batch of size (1000, 1000)\n",
      "380000,Processing batch of size (1000, 1000)\n",
      "381000,Processing batch of size (1000, 1000)\n",
      "382000,Processing batch of size (1000, 1000)\n",
      "383000,Processing batch of size (1000, 1000)\n",
      "384000,Processing batch of size (1000, 1000)\n",
      "385000,Processing batch of size (1000, 1000)\n",
      "386000,Processing batch of size (1000, 1000)\n",
      "387000,Processing batch of size (1000, 1000)\n",
      "388000,Processing batch of size (1000, 1000)\n",
      "389000,Processing batch of size (1000, 1000)\n",
      "390000,Processing batch of size (1000, 1000)\n",
      "391000,Processing batch of size (1000, 1000)\n",
      "392000,Processing batch of size (1000, 1000)\n",
      "393000,Processing batch of size (1000, 1000)\n",
      "394000,Processing batch of size (1000, 1000)\n",
      "395000,Processing batch of size (1000, 1000)\n",
      "396000,Processing batch of size (1000, 1000)\n",
      "397000,Processing batch of size (1000, 1000)\n",
      "398000,Processing batch of size (1000, 1000)\n",
      "399000,Processing batch of size (1000, 1000)\n",
      "400000,Processing batch of size (1000, 1000)\n",
      "401000,Processing batch of size (1000, 1000)\n",
      "402000,Processing batch of size (1000, 1000)\n",
      "403000,Processing batch of size (1000, 1000)\n",
      "404000,Processing batch of size (1000, 1000)\n",
      "405000,Processing batch of size (1000, 1000)\n",
      "406000,Processing batch of size (1000, 1000)\n",
      "407000,Processing batch of size (1000, 1000)\n",
      "408000,Processing batch of size (1000, 1000)\n",
      "409000,Processing batch of size (1000, 1000)\n",
      "410000,Processing batch of size (1000, 1000)\n",
      "411000,Processing batch of size (1000, 1000)\n",
      "412000,Processing batch of size (1000, 1000)\n",
      "413000,Processing batch of size (1000, 1000)\n",
      "414000,Processing batch of size (1000, 1000)\n",
      "415000,Processing batch of size (1000, 1000)\n",
      "416000,Processing batch of size (1000, 1000)\n",
      "417000,Processing batch of size (1000, 1000)\n",
      "418000,Processing batch of size (1000, 1000)\n",
      "419000,Processing batch of size (1000, 1000)\n",
      "420000,Processing batch of size (1000, 1000)\n",
      "421000,Processing batch of size (1000, 1000)\n",
      "422000,Processing batch of size (1000, 1000)\n",
      "423000,Processing batch of size (1000, 1000)\n",
      "424000,Processing batch of size (1000, 1000)\n",
      "425000,Processing batch of size (1000, 1000)\n",
      "426000,Processing batch of size (1000, 1000)\n",
      "427000,Processing batch of size (1000, 1000)\n",
      "428000,Processing batch of size (1000, 1000)\n",
      "429000,Processing batch of size (1000, 1000)\n",
      "430000,Processing batch of size (1000, 1000)\n",
      "431000,Processing batch of size (1000, 1000)\n",
      "432000,Processing batch of size (1000, 1000)\n",
      "433000,Processing batch of size (1000, 1000)\n",
      "434000,Processing batch of size (1000, 1000)\n",
      "435000,Processing batch of size (1000, 1000)\n",
      "436000,Processing batch of size (1000, 1000)\n",
      "437000,Processing batch of size (1000, 1000)\n",
      "438000,Processing batch of size (1000, 1000)\n",
      "439000,Processing batch of size (1000, 1000)\n",
      "440000,Processing batch of size (1000, 1000)\n",
      "441000,Processing batch of size (1000, 1000)\n",
      "442000,Processing batch of size (1000, 1000)\n",
      "443000,Processing batch of size (1000, 1000)\n",
      "444000,Processing batch of size (1000, 1000)\n",
      "445000,Processing batch of size (1000, 1000)\n",
      "446000,Processing batch of size (1000, 1000)\n",
      "447000,Processing batch of size (1000, 1000)\n",
      "448000,Processing batch of size (1000, 1000)\n",
      "449000,Processing batch of size (1000, 1000)\n",
      "450000,Processing batch of size (1000, 1000)\n",
      "451000,Processing batch of size (1000, 1000)\n",
      "452000,Processing batch of size (1000, 1000)\n",
      "453000,Processing batch of size (1000, 1000)\n",
      "454000,Processing batch of size (1000, 1000)\n",
      "455000,Processing batch of size (1000, 1000)\n",
      "456000,Processing batch of size (1000, 1000)\n",
      "457000,Processing batch of size (1000, 1000)\n",
      "458000,Processing batch of size (1000, 1000)\n",
      "459000,Processing batch of size (1000, 1000)\n",
      "460000,Processing batch of size (1000, 1000)\n",
      "461000,Processing batch of size (1000, 1000)\n",
      "462000,Processing batch of size (1000, 1000)\n",
      "463000,Processing batch of size (1000, 1000)\n",
      "464000,Processing batch of size (1000, 1000)\n",
      "465000,Processing batch of size (1000, 1000)\n",
      "466000,Processing batch of size (1000, 1000)\n",
      "467000,Processing batch of size (1000, 1000)\n",
      "468000,Processing batch of size (1000, 1000)\n",
      "469000,Processing batch of size (1000, 1000)\n",
      "470000,Processing batch of size (1000, 1000)\n",
      "471000,Processing batch of size (1000, 1000)\n",
      "472000,Processing batch of size (1000, 1000)\n",
      "473000,Processing batch of size (1000, 1000)\n",
      "474000,Processing batch of size (1000, 1000)\n",
      "475000,Processing batch of size (1000, 1000)\n",
      "476000,Processing batch of size (1000, 1000)\n",
      "477000,Processing batch of size (1000, 1000)\n",
      "478000,Processing batch of size (1000, 1000)\n",
      "479000,Processing batch of size (1000, 1000)\n",
      "480000,Processing batch of size (1000, 1000)\n",
      "481000,Processing batch of size (1000, 1000)\n",
      "482000,Processing batch of size (1000, 1000)\n",
      "483000,Processing batch of size (1000, 1000)\n",
      "484000,Processing batch of size (1000, 1000)\n",
      "485000,Processing batch of size (1000, 1000)\n",
      "486000,Processing batch of size (1000, 1000)\n",
      "487000,Processing batch of size (1000, 1000)\n",
      "488000,Processing batch of size (1000, 1000)\n",
      "489000,Processing batch of size (1000, 1000)\n",
      "490000,Processing batch of size (1000, 1000)\n",
      "491000,Processing batch of size (1000, 1000)\n",
      "492000,Processing batch of size (1000, 1000)\n",
      "493000,Processing batch of size (1000, 1000)\n",
      "494000,Processing batch of size (1000, 1000)\n",
      "495000,Processing batch of size (1000, 1000)\n",
      "496000,Processing batch of size (1000, 1000)\n",
      "497000,Processing batch of size (1000, 1000)\n",
      "498000,Processing batch of size (1000, 1000)\n",
      "499000,Processing batch of size (1000, 1000)\n",
      "500000,Processing batch of size (1000, 1000)\n",
      "501000,Processing batch of size (1000, 1000)\n",
      "502000,Processing batch of size (1000, 1000)\n",
      "503000,Processing batch of size (1000, 1000)\n",
      "504000,Processing batch of size (1000, 1000)\n",
      "505000,Processing batch of size (1000, 1000)\n",
      "506000,Processing batch of size (1000, 1000)\n",
      "507000,Processing batch of size (1000, 1000)\n",
      "508000,Processing batch of size (1000, 1000)\n",
      "509000,Processing batch of size (1000, 1000)\n",
      "510000,Processing batch of size (1000, 1000)\n",
      "511000,Processing batch of size (1000, 1000)\n",
      "512000,Processing batch of size (1000, 1000)\n",
      "513000,Processing batch of size (1000, 1000)\n",
      "514000,Processing batch of size (1000, 1000)\n",
      "515000,Processing batch of size (1000, 1000)\n",
      "516000,Processing batch of size (1000, 1000)\n",
      "517000,Processing batch of size (1000, 1000)\n",
      "518000,Processing batch of size (1000, 1000)\n",
      "519000,Processing batch of size (1000, 1000)\n",
      "520000,Processing batch of size (1000, 1000)\n",
      "521000,Processing batch of size (1000, 1000)\n",
      "522000,Processing batch of size (1000, 1000)\n",
      "523000,Processing batch of size (1000, 1000)\n",
      "524000,Processing batch of size (1000, 1000)\n",
      "525000,Processing batch of size (1000, 1000)\n",
      "526000,Processing batch of size (1000, 1000)\n",
      "527000,Processing batch of size (1000, 1000)\n",
      "528000,Processing batch of size (1000, 1000)\n",
      "529000,Processing batch of size (1000, 1000)\n",
      "530000,Processing batch of size (1000, 1000)\n",
      "531000,Processing batch of size (1000, 1000)\n",
      "532000,Processing batch of size (1000, 1000)\n",
      "533000,Processing batch of size (1000, 1000)\n",
      "534000,Processing batch of size (1000, 1000)\n",
      "535000,Processing batch of size (1000, 1000)\n",
      "536000,Processing batch of size (1000, 1000)\n",
      "537000,Processing batch of size (1000, 1000)\n",
      "538000,Processing batch of size (1000, 1000)\n",
      "539000,Processing batch of size (1000, 1000)\n",
      "540000,Processing batch of size (1000, 1000)\n",
      "541000,Processing batch of size (1000, 1000)\n",
      "542000,Processing batch of size (1000, 1000)\n",
      "543000,Processing batch of size (1000, 1000)\n",
      "544000,Processing batch of size (1000, 1000)\n",
      "545000,Processing batch of size (1000, 1000)\n",
      "546000,Processing batch of size (1000, 1000)\n",
      "547000,Processing batch of size (1000, 1000)\n",
      "548000,Processing batch of size (1000, 1000)\n",
      "549000,Processing batch of size (1000, 1000)\n",
      "550000,Processing batch of size (1000, 1000)\n",
      "551000,Processing batch of size (1000, 1000)\n",
      "552000,Processing batch of size (1000, 1000)\n",
      "553000,Processing batch of size (1000, 1000)\n",
      "554000,Processing batch of size (1000, 1000)\n",
      "555000,Processing batch of size (1000, 1000)\n",
      "556000,Processing batch of size (1000, 1000)\n",
      "557000,Processing batch of size (1000, 1000)\n",
      "558000,Processing batch of size (1000, 1000)\n",
      "559000,Processing batch of size (1000, 1000)\n",
      "560000,Processing batch of size (1000, 1000)\n",
      "561000,Processing batch of size (1000, 1000)\n",
      "562000,Processing batch of size (1000, 1000)\n",
      "563000,Processing batch of size (1000, 1000)\n",
      "564000,Processing batch of size (1000, 1000)\n",
      "565000,Processing batch of size (1000, 1000)\n",
      "566000,Processing batch of size (1000, 1000)\n",
      "567000,Processing batch of size (1000, 1000)\n",
      "568000,Processing batch of size (1000, 1000)\n",
      "569000,Processing batch of size (1000, 1000)\n",
      "570000,Processing batch of size (1000, 1000)\n",
      "571000,Processing batch of size (1000, 1000)\n",
      "572000,Processing batch of size (1000, 1000)\n",
      "573000,Processing batch of size (1000, 1000)\n",
      "574000,Processing batch of size (1000, 1000)\n",
      "575000,Processing batch of size (1000, 1000)\n",
      "576000,Processing batch of size (1000, 1000)\n",
      "577000,Processing batch of size (1000, 1000)\n",
      "578000,Processing batch of size (1000, 1000)\n",
      "579000,Processing batch of size (1000, 1000)\n",
      "580000,Processing batch of size (1000, 1000)\n",
      "581000,Processing batch of size (1000, 1000)\n",
      "582000,Processing batch of size (1000, 1000)\n",
      "583000,Processing batch of size (1000, 1000)\n",
      "584000,Processing batch of size (1000, 1000)\n",
      "585000,Processing batch of size (1000, 1000)\n",
      "586000,Processing batch of size (1000, 1000)\n",
      "587000,Processing batch of size (1000, 1000)\n",
      "588000,Processing batch of size (1000, 1000)\n",
      "589000,Processing batch of size (1000, 1000)\n",
      "590000,Processing batch of size (1000, 1000)\n",
      "591000,Processing batch of size (1000, 1000)\n",
      "592000,Processing batch of size (1000, 1000)\n",
      "593000,Processing batch of size (1000, 1000)\n",
      "594000,Processing batch of size (1000, 1000)\n",
      "595000,Processing batch of size (1000, 1000)\n",
      "596000,Processing batch of size (1000, 1000)\n",
      "597000,Processing batch of size (1000, 1000)\n",
      "598000,Processing batch of size (1000, 1000)\n",
      "599000,Processing batch of size (1000, 1000)\n",
      "600000,Processing batch of size (1000, 1000)\n",
      "601000,Processing batch of size (1000, 1000)\n",
      "602000,Processing batch of size (1000, 1000)\n",
      "603000,Processing batch of size (1000, 1000)\n",
      "604000,Processing batch of size (1000, 1000)\n",
      "605000,Processing batch of size (1000, 1000)\n",
      "606000,Processing batch of size (1000, 1000)\n",
      "607000,Processing batch of size (1000, 1000)\n",
      "608000,Processing batch of size (1000, 1000)\n",
      "609000,Processing batch of size (1000, 1000)\n",
      "610000,Processing batch of size (1000, 1000)\n",
      "611000,Processing batch of size (1000, 1000)\n",
      "612000,Processing batch of size (1000, 1000)\n",
      "613000,Processing batch of size (1000, 1000)\n",
      "614000,Processing batch of size (1000, 1000)\n",
      "615000,Processing batch of size (1000, 1000)\n",
      "616000,Processing batch of size (1000, 1000)\n",
      "617000,Processing batch of size (1000, 1000)\n",
      "618000,Processing batch of size (1000, 1000)\n",
      "619000,Processing batch of size (1000, 1000)\n",
      "620000,Processing batch of size (1000, 1000)\n",
      "621000,Processing batch of size (1000, 1000)\n",
      "622000,Processing batch of size (1000, 1000)\n",
      "623000,Processing batch of size (1000, 1000)\n",
      "624000,Processing batch of size (1000, 1000)\n",
      "625000,Processing batch of size (1000, 1000)\n",
      "626000,Processing batch of size (1000, 1000)\n",
      "627000,Processing batch of size (1000, 1000)\n",
      "628000,Processing batch of size (1000, 1000)\n",
      "629000,Processing batch of size (1000, 1000)\n",
      "630000,Processing batch of size (1000, 1000)\n",
      "631000,Processing batch of size (1000, 1000)\n",
      "632000,Processing batch of size (1000, 1000)\n",
      "633000,Processing batch of size (1000, 1000)\n",
      "634000,Processing batch of size (1000, 1000)\n",
      "635000,Processing batch of size (1000, 1000)\n",
      "636000,Processing batch of size (1000, 1000)\n",
      "637000,Processing batch of size (1000, 1000)\n",
      "638000,Processing batch of size (1000, 1000)\n",
      "639000,Processing batch of size (1000, 1000)\n",
      "640000,Processing batch of size (1000, 1000)\n",
      "641000,Processing batch of size (1000, 1000)\n",
      "642000,Processing batch of size (1000, 1000)\n",
      "643000,Processing batch of size (1000, 1000)\n",
      "644000,Processing batch of size (1000, 1000)\n",
      "645000,Processing batch of size (1000, 1000)\n",
      "646000,Processing batch of size (1000, 1000)\n",
      "647000,Processing batch of size (1000, 1000)\n",
      "648000,Processing batch of size (1000, 1000)\n",
      "649000,Processing batch of size (1000, 1000)\n",
      "650000,Processing batch of size (1000, 1000)\n",
      "651000,Processing batch of size (1000, 1000)\n",
      "652000,Processing batch of size (1000, 1000)\n",
      "653000,Processing batch of size (1000, 1000)\n",
      "654000,Processing batch of size (1000, 1000)\n",
      "655000,Processing batch of size (1000, 1000)\n",
      "656000,Processing batch of size (1000, 1000)\n",
      "657000,Processing batch of size (1000, 1000)\n",
      "658000,Processing batch of size (1000, 1000)\n",
      "659000,Processing batch of size (1000, 1000)\n",
      "660000,Processing batch of size (1000, 1000)\n",
      "661000,Processing batch of size (1000, 1000)\n",
      "662000,Processing batch of size (1000, 1000)\n",
      "663000,Processing batch of size (1000, 1000)\n",
      "664000,Processing batch of size (1000, 1000)\n",
      "665000,Processing batch of size (1000, 1000)\n",
      "666000,Processing batch of size (1000, 1000)\n",
      "667000,Processing batch of size (1000, 1000)\n",
      "668000,Processing batch of size (1000, 1000)\n",
      "669000,Processing batch of size (1000, 1000)\n",
      "670000,Processing batch of size (1000, 1000)\n",
      "671000,Processing batch of size (1000, 1000)\n",
      "672000,Processing batch of size (1000, 1000)\n",
      "673000,Processing batch of size (1000, 1000)\n",
      "674000,Processing batch of size (1000, 1000)\n",
      "675000,Processing batch of size (1000, 1000)\n",
      "676000,Processing batch of size (1000, 1000)\n",
      "677000,Processing batch of size (1000, 1000)\n",
      "678000,Processing batch of size (1000, 1000)\n",
      "679000,Processing batch of size (1000, 1000)\n",
      "680000,Processing batch of size (1000, 1000)\n",
      "681000,Processing batch of size (1000, 1000)\n",
      "682000,Processing batch of size (1000, 1000)\n",
      "683000,Processing batch of size (1000, 1000)\n",
      "684000,Processing batch of size (1000, 1000)\n",
      "685000,Processing batch of size (1000, 1000)\n",
      "686000,Processing batch of size (1000, 1000)\n",
      "687000,Processing batch of size (1000, 1000)\n",
      "688000,Processing batch of size (1000, 1000)\n",
      "689000,Processing batch of size (1000, 1000)\n",
      "690000,Processing batch of size (1000, 1000)\n",
      "691000,Processing batch of size (1000, 1000)\n",
      "692000,Processing batch of size (1000, 1000)\n",
      "693000,Processing batch of size (1000, 1000)\n",
      "694000,Processing batch of size (1000, 1000)\n",
      "695000,Processing batch of size (1000, 1000)\n",
      "696000,Processing batch of size (1000, 1000)\n",
      "697000,Processing batch of size (1000, 1000)\n",
      "698000,Processing batch of size (1000, 1000)\n",
      "699000,Processing batch of size (1000, 1000)\n",
      "700000,Processing batch of size (1000, 1000)\n",
      "701000,Processing batch of size (1000, 1000)\n",
      "702000,Processing batch of size (1000, 1000)\n",
      "703000,Processing batch of size (1000, 1000)\n",
      "704000,Processing batch of size (1000, 1000)\n",
      "705000,Processing batch of size (1000, 1000)\n",
      "706000,Processing batch of size (1000, 1000)\n",
      "707000,Processing batch of size (1000, 1000)\n",
      "708000,Processing batch of size (1000, 1000)\n",
      "709000,Processing batch of size (1000, 1000)\n",
      "710000,Processing batch of size (1000, 1000)\n",
      "711000,Processing batch of size (1000, 1000)\n",
      "712000,Processing batch of size (1000, 1000)\n",
      "713000,Processing batch of size (1000, 1000)\n",
      "714000,Processing batch of size (1000, 1000)\n",
      "715000,Processing batch of size (1000, 1000)\n",
      "716000,Processing batch of size (1000, 1000)\n",
      "717000,Processing batch of size (1000, 1000)\n",
      "718000,Processing batch of size (1000, 1000)\n",
      "719000,Processing batch of size (1000, 1000)\n",
      "720000,Processing batch of size (1000, 1000)\n",
      "721000,Processing batch of size (1000, 1000)\n",
      "722000,Processing batch of size (1000, 1000)\n",
      "723000,Processing batch of size (1000, 1000)\n",
      "724000,Processing batch of size (1000, 1000)\n",
      "725000,Processing batch of size (1000, 1000)\n",
      "726000,Processing batch of size (1000, 1000)\n",
      "727000,Processing batch of size (1000, 1000)\n",
      "728000,Processing batch of size (1000, 1000)\n",
      "729000,Processing batch of size (1000, 1000)\n",
      "730000,Processing batch of size (1000, 1000)\n",
      "731000,Processing batch of size (1000, 1000)\n",
      "732000,Processing batch of size (1000, 1000)\n",
      "733000,Processing batch of size (1000, 1000)\n",
      "734000,Processing batch of size (1000, 1000)\n",
      "735000,Processing batch of size (1000, 1000)\n",
      "736000,Processing batch of size (1000, 1000)\n",
      "737000,Processing batch of size (1000, 1000)\n",
      "738000,Processing batch of size (1000, 1000)\n",
      "739000,Processing batch of size (1000, 1000)\n",
      "740000,Processing batch of size (1000, 1000)\n",
      "741000,Processing batch of size (1000, 1000)\n",
      "742000,Processing batch of size (1000, 1000)\n",
      "743000,Processing batch of size (1000, 1000)\n",
      "744000,Processing batch of size (1000, 1000)\n",
      "745000,Processing batch of size (1000, 1000)\n",
      "746000,Processing batch of size (1000, 1000)\n",
      "747000,Processing batch of size (1000, 1000)\n",
      "748000,Processing batch of size (1000, 1000)\n",
      "749000,Processing batch of size (1000, 1000)\n",
      "750000,Processing batch of size (1000, 1000)\n",
      "751000,Processing batch of size (1000, 1000)\n",
      "752000,Processing batch of size (1000, 1000)\n",
      "753000,Processing batch of size (1000, 1000)\n",
      "754000,Processing batch of size (1000, 1000)\n",
      "755000,Processing batch of size (1000, 1000)\n",
      "756000,Processing batch of size (1000, 1000)\n",
      "757000,Processing batch of size (1000, 1000)\n",
      "758000,Processing batch of size (1000, 1000)\n",
      "759000,Processing batch of size (1000, 1000)\n",
      "760000,Processing batch of size (1000, 1000)\n",
      "761000,Processing batch of size (1000, 1000)\n",
      "762000,Processing batch of size (1000, 1000)\n",
      "763000,Processing batch of size (1000, 1000)\n",
      "764000,Processing batch of size (1000, 1000)\n",
      "765000,Processing batch of size (1000, 1000)\n",
      "766000,Processing batch of size (1000, 1000)\n",
      "767000,Processing batch of size (1000, 1000)\n",
      "768000,Processing batch of size (1000, 1000)\n",
      "769000,Processing batch of size (1000, 1000)\n",
      "770000,Processing batch of size (1000, 1000)\n",
      "771000,Processing batch of size (1000, 1000)\n",
      "772000,Processing batch of size (1000, 1000)\n",
      "773000,Processing batch of size (1000, 1000)\n",
      "774000,Processing batch of size (1000, 1000)\n",
      "775000,Processing batch of size (1000, 1000)\n",
      "776000,Processing batch of size (1000, 1000)\n",
      "777000,Processing batch of size (1000, 1000)\n",
      "778000,Processing batch of size (1000, 1000)\n",
      "779000,Processing batch of size (1000, 1000)\n",
      "780000,Processing batch of size (1000, 1000)\n",
      "781000,Processing batch of size (1000, 1000)\n",
      "782000,Processing batch of size (1000, 1000)\n",
      "783000,Processing batch of size (1000, 1000)\n",
      "784000,Processing batch of size (1000, 1000)\n",
      "785000,Processing batch of size (1000, 1000)\n",
      "786000,Processing batch of size (1000, 1000)\n",
      "787000,Processing batch of size (1000, 1000)\n",
      "788000,Processing batch of size (1000, 1000)\n",
      "789000,Processing batch of size (1000, 1000)\n",
      "790000,Processing batch of size (1000, 1000)\n",
      "791000,Processing batch of size (1000, 1000)\n",
      "792000,Processing batch of size (1000, 1000)\n",
      "793000,Processing batch of size (1000, 1000)\n",
      "794000,Processing batch of size (1000, 1000)\n",
      "795000,Processing batch of size (1000, 1000)\n",
      "796000,Processing batch of size (1000, 1000)\n",
      "797000,Processing batch of size (1000, 1000)\n",
      "798000,Processing batch of size (1000, 1000)\n",
      "799000,Processing batch of size (1000, 1000)\n",
      "800000,Processing batch of size (1000, 1000)\n",
      "801000,Processing batch of size (1000, 1000)\n",
      "802000,Processing batch of size (1000, 1000)\n",
      "803000,Processing batch of size (1000, 1000)\n",
      "804000,Processing batch of size (1000, 1000)\n",
      "805000,Processing batch of size (1000, 1000)\n",
      "806000,Processing batch of size (1000, 1000)\n",
      "807000,Processing batch of size (1000, 1000)\n",
      "808000,Processing batch of size (1000, 1000)\n",
      "809000,Processing batch of size (1000, 1000)\n",
      "810000,Processing batch of size (1000, 1000)\n",
      "811000,Processing batch of size (1000, 1000)\n",
      "812000,Processing batch of size (1000, 1000)\n",
      "813000,Processing batch of size (1000, 1000)\n",
      "814000,Processing batch of size (1000, 1000)\n",
      "815000,Processing batch of size (1000, 1000)\n",
      "816000,Processing batch of size (1000, 1000)\n",
      "817000,Processing batch of size (1000, 1000)\n",
      "818000,Processing batch of size (1000, 1000)\n",
      "819000,Processing batch of size (1000, 1000)\n",
      "820000,Processing batch of size (1000, 1000)\n",
      "821000,Processing batch of size (1000, 1000)\n",
      "822000,Processing batch of size (1000, 1000)\n",
      "823000,Processing batch of size (1000, 1000)\n",
      "824000,Processing batch of size (1000, 1000)\n",
      "825000,Processing batch of size (1000, 1000)\n",
      "826000,Processing batch of size (1000, 1000)\n",
      "827000,Processing batch of size (1000, 1000)\n",
      "828000,Processing batch of size (1000, 1000)\n",
      "829000,Processing batch of size (1000, 1000)\n",
      "830000,Processing batch of size (1000, 1000)\n",
      "831000,Processing batch of size (1000, 1000)\n",
      "832000,Processing batch of size (1000, 1000)\n",
      "833000,Processing batch of size (1000, 1000)\n",
      "834000,Processing batch of size (1000, 1000)\n",
      "835000,Processing batch of size (1000, 1000)\n",
      "836000,Processing batch of size (1000, 1000)\n",
      "837000,Processing batch of size (1000, 1000)\n",
      "838000,Processing batch of size (1000, 1000)\n",
      "839000,Processing batch of size (1000, 1000)\n",
      "840000,Processing batch of size (1000, 1000)\n",
      "841000,Processing batch of size (1000, 1000)\n",
      "842000,Processing batch of size (1000, 1000)\n",
      "843000,Processing batch of size (1000, 1000)\n",
      "844000,Processing batch of size (1000, 1000)\n",
      "845000,Processing batch of size (1000, 1000)\n",
      "846000,Processing batch of size (1000, 1000)\n",
      "847000,Processing batch of size (1000, 1000)\n",
      "848000,Processing batch of size (1000, 1000)\n",
      "849000,Processing batch of size (1000, 1000)\n",
      "850000,Processing batch of size (1000, 1000)\n",
      "851000,Processing batch of size (1000, 1000)\n",
      "852000,Processing batch of size (1000, 1000)\n",
      "853000,Processing batch of size (1000, 1000)\n",
      "854000,Processing batch of size (1000, 1000)\n",
      "855000,Processing batch of size (1000, 1000)\n",
      "856000,Processing batch of size (1000, 1000)\n",
      "857000,Processing batch of size (1000, 1000)\n",
      "858000,Processing batch of size (1000, 1000)\n",
      "859000,Processing batch of size (1000, 1000)\n",
      "860000,Processing batch of size (1000, 1000)\n",
      "861000,Processing batch of size (1000, 1000)\n",
      "862000,Processing batch of size (1000, 1000)\n",
      "863000,Processing batch of size (1000, 1000)\n",
      "864000,Processing batch of size (1000, 1000)\n",
      "865000,Processing batch of size (1000, 1000)\n",
      "866000,Processing batch of size (1000, 1000)\n",
      "867000,Processing batch of size (1000, 1000)\n",
      "868000,Processing batch of size (1000, 1000)\n",
      "869000,Processing batch of size (1000, 1000)\n",
      "870000,Processing batch of size (1000, 1000)\n",
      "871000,Processing batch of size (1000, 1000)\n",
      "872000,Processing batch of size (1000, 1000)\n",
      "873000,Processing batch of size (1000, 1000)\n",
      "874000,Processing batch of size (1000, 1000)\n",
      "875000,Processing batch of size (1000, 1000)\n",
      "876000,Processing batch of size (1000, 1000)\n",
      "877000,Processing batch of size (1000, 1000)\n",
      "878000,Processing batch of size (1000, 1000)\n",
      "879000,Processing batch of size (1000, 1000)\n",
      "880000,Processing batch of size (1000, 1000)\n",
      "881000,Processing batch of size (1000, 1000)\n",
      "882000,Processing batch of size (1000, 1000)\n",
      "883000,Processing batch of size (1000, 1000)\n",
      "884000,Processing batch of size (1000, 1000)\n",
      "885000,Processing batch of size (1000, 1000)\n",
      "886000,Processing batch of size (1000, 1000)\n",
      "887000,Processing batch of size (1000, 1000)\n",
      "888000,Processing batch of size (1000, 1000)\n",
      "889000,Processing batch of size (1000, 1000)\n",
      "890000,Processing batch of size (1000, 1000)\n",
      "891000,Processing batch of size (1000, 1000)\n",
      "892000,Processing batch of size (1000, 1000)\n",
      "893000,Processing batch of size (1000, 1000)\n",
      "894000,Processing batch of size (1000, 1000)\n",
      "895000,Processing batch of size (1000, 1000)\n",
      "896000,Processing batch of size (1000, 1000)\n",
      "897000,Processing batch of size (1000, 1000)\n",
      "898000,Processing batch of size (1000, 1000)\n",
      "899000,Processing batch of size (1000, 1000)\n",
      "900000,Processing batch of size (1000, 1000)\n",
      "901000,Processing batch of size (1000, 1000)\n",
      "902000,Processing batch of size (1000, 1000)\n",
      "903000,Processing batch of size (1000, 1000)\n",
      "904000,Processing batch of size (1000, 1000)\n",
      "905000,Processing batch of size (1000, 1000)\n",
      "906000,Processing batch of size (1000, 1000)\n",
      "907000,Processing batch of size (1000, 1000)\n",
      "908000,Processing batch of size (1000, 1000)\n",
      "909000,Processing batch of size (1000, 1000)\n",
      "910000,Processing batch of size (1000, 1000)\n",
      "911000,Processing batch of size (1000, 1000)\n",
      "912000,Processing batch of size (1000, 1000)\n",
      "913000,Processing batch of size (1000, 1000)\n",
      "914000,Processing batch of size (1000, 1000)\n",
      "915000,Processing batch of size (1000, 1000)\n",
      "916000,Processing batch of size (1000, 1000)\n",
      "917000,Processing batch of size (1000, 1000)\n",
      "918000,Processing batch of size (1000, 1000)\n",
      "919000,Processing batch of size (1000, 1000)\n",
      "920000,Processing batch of size (1000, 1000)\n",
      "921000,Processing batch of size (1000, 1000)\n",
      "922000,Processing batch of size (1000, 1000)\n",
      "923000,Processing batch of size (1000, 1000)\n",
      "924000,Processing batch of size (1000, 1000)\n",
      "925000,Processing batch of size (1000, 1000)\n",
      "926000,Processing batch of size (1000, 1000)\n",
      "927000,Processing batch of size (1000, 1000)\n",
      "928000,Processing batch of size (1000, 1000)\n",
      "929000,Processing batch of size (1000, 1000)\n",
      "930000,Processing batch of size (1000, 1000)\n",
      "931000,Processing batch of size (1000, 1000)\n",
      "932000,Processing batch of size (1000, 1000)\n",
      "933000,Processing batch of size (1000, 1000)\n",
      "934000,Processing batch of size (1000, 1000)\n",
      "935000,Processing batch of size (1000, 1000)\n",
      "936000,Processing batch of size (1000, 1000)\n",
      "937000,Processing batch of size (1000, 1000)\n",
      "938000,Processing batch of size (1000, 1000)\n",
      "939000,Processing batch of size (1000, 1000)\n",
      "940000,Processing batch of size (1000, 1000)\n",
      "941000,Processing batch of size (1000, 1000)\n",
      "942000,Processing batch of size (1000, 1000)\n",
      "943000,Processing batch of size (1000, 1000)\n",
      "944000,Processing batch of size (1000, 1000)\n",
      "945000,Processing batch of size (1000, 1000)\n",
      "946000,Processing batch of size (1000, 1000)\n",
      "947000,Processing batch of size (1000, 1000)\n",
      "948000,Processing batch of size (1000, 1000)\n",
      "949000,Processing batch of size (1000, 1000)\n",
      "950000,Processing batch of size (1000, 1000)\n",
      "951000,Processing batch of size (1000, 1000)\n",
      "952000,Processing batch of size (1000, 1000)\n",
      "953000,Processing batch of size (1000, 1000)\n",
      "954000,Processing batch of size (1000, 1000)\n",
      "955000,Processing batch of size (1000, 1000)\n",
      "956000,Processing batch of size (1000, 1000)\n",
      "957000,Processing batch of size (1000, 1000)\n",
      "958000,Processing batch of size (1000, 1000)\n",
      "959000,Processing batch of size (1000, 1000)\n",
      "960000,Processing batch of size (1000, 1000)\n",
      "961000,Processing batch of size (1000, 1000)\n",
      "962000,Processing batch of size (1000, 1000)\n",
      "963000,Processing batch of size (1000, 1000)\n",
      "964000,Processing batch of size (1000, 1000)\n",
      "965000,Processing batch of size (1000, 1000)\n",
      "966000,Processing batch of size (1000, 1000)\n",
      "967000,Processing batch of size (1000, 1000)\n",
      "968000,Processing batch of size (1000, 1000)\n",
      "969000,Processing batch of size (1000, 1000)\n",
      "970000,Processing batch of size (1000, 1000)\n",
      "971000,Processing batch of size (1000, 1000)\n",
      "972000,Processing batch of size (1000, 1000)\n",
      "973000,Processing batch of size (1000, 1000)\n",
      "974000,Processing batch of size (1000, 1000)\n",
      "975000,Processing batch of size (1000, 1000)\n",
      "976000,Processing batch of size (1000, 1000)\n",
      "977000,Processing batch of size (1000, 1000)\n",
      "978000,Processing batch of size (1000, 1000)\n",
      "979000,Processing batch of size (1000, 1000)\n",
      "980000,Processing batch of size (1000, 1000)\n",
      "981000,Processing batch of size (1000, 1000)\n",
      "982000,Processing batch of size (1000, 1000)\n",
      "983000,Processing batch of size (1000, 1000)\n",
      "984000,Processing batch of size (1000, 1000)\n",
      "985000,Processing batch of size (1000, 1000)\n",
      "986000,Processing batch of size (1000, 1000)\n",
      "987000,Processing batch of size (1000, 1000)\n",
      "988000,Processing batch of size (1000, 1000)\n",
      "989000,Processing batch of size (1000, 1000)\n",
      "990000,Processing batch of size (1000, 1000)\n",
      "991000,Processing batch of size (1000, 1000)\n",
      "992000,Processing batch of size (1000, 1000)\n",
      "993000,Processing batch of size (1000, 1000)\n",
      "994000,Processing batch of size (1000, 1000)\n",
      "995000,Processing batch of size (1000, 1000)\n",
      "996000,Processing batch of size (1000, 1000)\n",
      "997000,Processing batch of size (1000, 1000)\n",
      "998000,Processing batch of size (1000, 1000)\n",
      "999000,Processing batch of size (1000, 1000)\n",
      "1000000,Processing batch of size (1000, 1000)\n",
      "1001000,Processing batch of size (1000, 1000)\n",
      "1002000,Processing batch of size (1000, 1000)\n",
      "1003000,Processing batch of size (1000, 1000)\n",
      "1004000,Processing batch of size (1000, 1000)\n",
      "1005000,Processing batch of size (1000, 1000)\n",
      "1006000,Processing batch of size (1000, 1000)\n",
      "1007000,Processing batch of size (1000, 1000)\n",
      "1008000,Processing batch of size (1000, 1000)\n",
      "1009000,Processing batch of size (1000, 1000)\n",
      "1010000,Processing batch of size (1000, 1000)\n",
      "1011000,Processing batch of size (1000, 1000)\n",
      "1012000,Processing batch of size (1000, 1000)\n",
      "1013000,Processing batch of size (1000, 1000)\n",
      "1014000,Processing batch of size (1000, 1000)\n",
      "1015000,Processing batch of size (1000, 1000)\n",
      "1016000,Processing batch of size (1000, 1000)\n",
      "1017000,Processing batch of size (1000, 1000)\n",
      "1018000,Processing batch of size (1000, 1000)\n",
      "1019000,Processing batch of size (1000, 1000)\n",
      "1020000,Processing batch of size (1000, 1000)\n",
      "1021000,Processing batch of size (1000, 1000)\n",
      "1022000,Processing batch of size (1000, 1000)\n",
      "1023000,Processing batch of size (1000, 1000)\n",
      "1024000,Processing batch of size (1000, 1000)\n",
      "1025000,Processing batch of size (1000, 1000)\n",
      "1026000,Processing batch of size (1000, 1000)\n",
      "1027000,Processing batch of size (1000, 1000)\n",
      "1028000,Processing batch of size (1000, 1000)\n",
      "1029000,Processing batch of size (1000, 1000)\n",
      "1030000,Processing batch of size (1000, 1000)\n",
      "1031000,Processing batch of size (1000, 1000)\n",
      "1032000,Processing batch of size (1000, 1000)\n",
      "1033000,Processing batch of size (1000, 1000)\n",
      "1034000,Processing batch of size (1000, 1000)\n",
      "1035000,Processing batch of size (1000, 1000)\n",
      "1036000,Processing batch of size (1000, 1000)\n",
      "1037000,Processing batch of size (1000, 1000)\n",
      "1038000,Processing batch of size (1000, 1000)\n",
      "1039000,Processing batch of size (1000, 1000)\n",
      "1040000,Processing batch of size (1000, 1000)\n",
      "1041000,Processing batch of size (1000, 1000)\n",
      "1042000,Processing batch of size (1000, 1000)\n",
      "1043000,Processing batch of size (1000, 1000)\n",
      "1044000,Processing batch of size (1000, 1000)\n",
      "1045000,Processing batch of size (1000, 1000)\n",
      "1046000,Processing batch of size (1000, 1000)\n",
      "1047000,Processing batch of size (1000, 1000)\n",
      "1048000,Processing batch of size (1000, 1000)\n",
      "1049000,Processing batch of size (1000, 1000)\n",
      "1050000,Processing batch of size (1000, 1000)\n",
      "1051000,Processing batch of size (1000, 1000)\n",
      "1052000,Processing batch of size (1000, 1000)\n",
      "1053000,Processing batch of size (1000, 1000)\n",
      "1054000,Processing batch of size (1000, 1000)\n",
      "1055000,Processing batch of size (1000, 1000)\n",
      "1056000,Processing batch of size (1000, 1000)\n",
      "1057000,Processing batch of size (1000, 1000)\n",
      "1058000,Processing batch of size (1000, 1000)\n",
      "1059000,Processing batch of size (1000, 1000)\n",
      "1060000,Processing batch of size (1000, 1000)\n",
      "1061000,Processing batch of size (1000, 1000)\n",
      "1062000,Processing batch of size (1000, 1000)\n",
      "1063000,Processing batch of size (1000, 1000)\n",
      "1064000,Processing batch of size (1000, 1000)\n",
      "1065000,Processing batch of size (1000, 1000)\n",
      "1066000,Processing batch of size (1000, 1000)\n",
      "1067000,Processing batch of size (1000, 1000)\n",
      "1068000,Processing batch of size (1000, 1000)\n",
      "1069000,Processing batch of size (1000, 1000)\n",
      "1070000,Processing batch of size (1000, 1000)\n",
      "1071000,Processing batch of size (1000, 1000)\n",
      "1072000,Processing batch of size (1000, 1000)\n",
      "1073000,Processing batch of size (1000, 1000)\n",
      "1074000,Processing batch of size (1000, 1000)\n",
      "1075000,Processing batch of size (1000, 1000)\n",
      "1076000,Processing batch of size (1000, 1000)\n",
      "1077000,Processing batch of size (1000, 1000)\n",
      "1078000,Processing batch of size (1000, 1000)\n",
      "1079000,Processing batch of size (1000, 1000)\n",
      "1080000,Processing batch of size (1000, 1000)\n",
      "1081000,Processing batch of size (1000, 1000)\n",
      "1082000,Processing batch of size (1000, 1000)\n",
      "1083000,Processing batch of size (1000, 1000)\n",
      "1084000,Processing batch of size (1000, 1000)\n",
      "1085000,Processing batch of size (1000, 1000)\n",
      "1086000,Processing batch of size (1000, 1000)\n",
      "1087000,Processing batch of size (1000, 1000)\n",
      "1088000,Processing batch of size (1000, 1000)\n",
      "1089000,Processing batch of size (1000, 1000)\n",
      "1090000,Processing batch of size (1000, 1000)\n",
      "1091000,Processing batch of size (1000, 1000)\n",
      "1092000,Processing batch of size (1000, 1000)\n",
      "1093000,Processing batch of size (1000, 1000)\n",
      "1094000,Processing batch of size (1000, 1000)\n",
      "1095000,Processing batch of size (1000, 1000)\n",
      "1096000,Processing batch of size (1000, 1000)\n",
      "1097000,Processing batch of size (1000, 1000)\n",
      "1098000,Processing batch of size (1000, 1000)\n",
      "1099000,Processing batch of size (1000, 1000)\n",
      "1100000,Processing batch of size (1000, 1000)\n",
      "1101000,Processing batch of size (1000, 1000)\n",
      "1102000,Processing batch of size (1000, 1000)\n",
      "1103000,Processing batch of size (1000, 1000)\n",
      "1104000,Processing batch of size (1000, 1000)\n",
      "1105000,Processing batch of size (1000, 1000)\n",
      "1106000,Processing batch of size (1000, 1000)\n",
      "1107000,Processing batch of size (1000, 1000)\n",
      "1108000,Processing batch of size (1000, 1000)\n",
      "1109000,Processing batch of size (1000, 1000)\n",
      "1110000,Processing batch of size (1000, 1000)\n",
      "1111000,Processing batch of size (1000, 1000)\n",
      "1112000,Processing batch of size (1000, 1000)\n",
      "1113000,Processing batch of size (1000, 1000)\n",
      "1114000,Processing batch of size (1000, 1000)\n",
      "1115000,Processing batch of size (1000, 1000)\n",
      "1116000,Processing batch of size (1000, 1000)\n",
      "1117000,Processing batch of size (1000, 1000)\n",
      "1118000,Processing batch of size (1000, 1000)\n",
      "1119000,Processing batch of size (1000, 1000)\n",
      "1120000,Processing batch of size (1000, 1000)\n",
      "1121000,Processing batch of size (1000, 1000)\n",
      "1122000,Processing batch of size (1000, 1000)\n",
      "1123000,Processing batch of size (1000, 1000)\n",
      "1124000,Processing batch of size (1000, 1000)\n",
      "1125000,Processing batch of size (1000, 1000)\n",
      "1126000,Processing batch of size (1000, 1000)\n",
      "1127000,Processing batch of size (1000, 1000)\n",
      "1128000,Processing batch of size (1000, 1000)\n",
      "1129000,Processing batch of size (1000, 1000)\n",
      "1130000,Processing batch of size (1000, 1000)\n",
      "1131000,Processing batch of size (1000, 1000)\n",
      "1132000,Processing batch of size (1000, 1000)\n",
      "1133000,Processing batch of size (1000, 1000)\n",
      "1134000,Processing batch of size (1000, 1000)\n",
      "1135000,Processing batch of size (1000, 1000)\n",
      "1136000,Processing batch of size (1000, 1000)\n",
      "1137000,Processing batch of size (1000, 1000)\n",
      "1138000,Processing batch of size (1000, 1000)\n",
      "1139000,Processing batch of size (1000, 1000)\n",
      "1140000,Processing batch of size (1000, 1000)\n",
      "1141000,Processing batch of size (1000, 1000)\n",
      "1142000,Processing batch of size (1000, 1000)\n",
      "1143000,Processing batch of size (1000, 1000)\n",
      "1144000,Processing batch of size (1000, 1000)\n",
      "1145000,Processing batch of size (1000, 1000)\n",
      "1146000,Processing batch of size (1000, 1000)\n",
      "1147000,Processing batch of size (1000, 1000)\n",
      "1148000,Processing batch of size (1000, 1000)\n",
      "1149000,Processing batch of size (1000, 1000)\n",
      "1150000,Processing batch of size (1000, 1000)\n",
      "1151000,Processing batch of size (1000, 1000)\n",
      "1152000,Processing batch of size (1000, 1000)\n",
      "1153000,Processing batch of size (1000, 1000)\n",
      "1154000,Processing batch of size (1000, 1000)\n",
      "1155000,Processing batch of size (1000, 1000)\n",
      "1156000,Processing batch of size (1000, 1000)\n",
      "1157000,Processing batch of size (1000, 1000)\n",
      "1158000,Processing batch of size (1000, 1000)\n",
      "1159000,Processing batch of size (1000, 1000)\n",
      "1160000,Processing batch of size (1000, 1000)\n",
      "1161000,Processing batch of size (1000, 1000)\n",
      "1162000,Processing batch of size (1000, 1000)\n",
      "1163000,Processing batch of size (1000, 1000)\n",
      "1164000,Processing batch of size (1000, 1000)\n",
      "1165000,Processing batch of size (1000, 1000)\n",
      "1166000,Processing batch of size (1000, 1000)\n",
      "1167000,Processing batch of size (1000, 1000)\n",
      "1168000,Processing batch of size (1000, 1000)\n",
      "1169000,Processing batch of size (1000, 1000)\n",
      "1170000,Processing batch of size (1000, 1000)\n",
      "1171000,Processing batch of size (1000, 1000)\n",
      "1172000,Processing batch of size (1000, 1000)\n",
      "1173000,Processing batch of size (1000, 1000)\n",
      "1174000,Processing batch of size (1000, 1000)\n",
      "1175000,Processing batch of size (1000, 1000)\n",
      "1176000,Processing batch of size (1000, 1000)\n",
      "1177000,Processing batch of size (1000, 1000)\n",
      "1178000,Processing batch of size (1000, 1000)\n",
      "1179000,Processing batch of size (1000, 1000)\n",
      "1180000,Processing batch of size (1000, 1000)\n",
      "1181000,Processing batch of size (1000, 1000)\n",
      "1182000,Processing batch of size (1000, 1000)\n",
      "1183000,Processing batch of size (1000, 1000)\n",
      "1184000,Processing batch of size (1000, 1000)\n",
      "1185000,Processing batch of size (1000, 1000)\n",
      "1186000,Processing batch of size (1000, 1000)\n",
      "1187000,Processing batch of size (1000, 1000)\n",
      "1188000,Processing batch of size (1000, 1000)\n",
      "1189000,Processing batch of size (1000, 1000)\n",
      "1190000,Processing batch of size (1000, 1000)\n",
      "1191000,Processing batch of size (1000, 1000)\n",
      "1192000,Processing batch of size (1000, 1000)\n",
      "1193000,Processing batch of size (1000, 1000)\n",
      "1194000,Processing batch of size (1000, 1000)\n",
      "1195000,Processing batch of size (1000, 1000)\n",
      "1196000,Processing batch of size (1000, 1000)\n",
      "1197000,Processing batch of size (1000, 1000)\n",
      "1198000,Processing batch of size (1000, 1000)\n",
      "1199000,Processing batch of size (1000, 1000)\n",
      "1200000,Processing batch of size (1000, 1000)\n",
      "1201000,Processing batch of size (1000, 1000)\n",
      "1202000,Processing batch of size (1000, 1000)\n",
      "1203000,Processing batch of size (1000, 1000)\n",
      "1204000,Processing batch of size (1000, 1000)\n",
      "1205000,Processing batch of size (1000, 1000)\n",
      "1206000,Processing batch of size (1000, 1000)\n",
      "1207000,Processing batch of size (1000, 1000)\n",
      "1208000,Processing batch of size (1000, 1000)\n",
      "1209000,Processing batch of size (1000, 1000)\n",
      "1210000,Processing batch of size (1000, 1000)\n",
      "1211000,Processing batch of size (1000, 1000)\n",
      "1212000,Processing batch of size (1000, 1000)\n",
      "1213000,Processing batch of size (1000, 1000)\n",
      "1214000,Processing batch of size (1000, 1000)\n",
      "1215000,Processing batch of size (1000, 1000)\n",
      "1216000,Processing batch of size (1000, 1000)\n",
      "1217000,Processing batch of size (1000, 1000)\n",
      "1218000,Processing batch of size (1000, 1000)\n",
      "1219000,Processing batch of size (1000, 1000)\n",
      "1220000,Processing batch of size (1000, 1000)\n",
      "1221000,Processing batch of size (1000, 1000)\n",
      "1222000,Processing batch of size (1000, 1000)\n",
      "1223000,Processing batch of size (1000, 1000)\n",
      "1224000,Processing batch of size (1000, 1000)\n",
      "1225000,Processing batch of size (1000, 1000)\n",
      "1226000,Processing batch of size (1000, 1000)\n",
      "1227000,Processing batch of size (1000, 1000)\n",
      "1228000,Processing batch of size (1000, 1000)\n",
      "1229000,Processing batch of size (1000, 1000)\n",
      "1230000,Processing batch of size (1000, 1000)\n",
      "1231000,Processing batch of size (1000, 1000)\n",
      "1232000,Processing batch of size (1000, 1000)\n",
      "1233000,Processing batch of size (1000, 1000)\n",
      "1234000,Processing batch of size (1000, 1000)\n",
      "1235000,Processing batch of size (1000, 1000)\n",
      "1236000,Processing batch of size (1000, 1000)\n",
      "1237000,Processing batch of size (1000, 1000)\n",
      "1238000,Processing batch of size (1000, 1000)\n",
      "1239000,Processing batch of size (1000, 1000)\n",
      "1240000,Processing batch of size (1000, 1000)\n",
      "1241000,Processing batch of size (1000, 1000)\n",
      "1242000,Processing batch of size (1000, 1000)\n",
      "1243000,Processing batch of size (1000, 1000)\n",
      "1244000,Processing batch of size (1000, 1000)\n",
      "1245000,Processing batch of size (1000, 1000)\n",
      "1246000,Processing batch of size (1000, 1000)\n",
      "1247000,Processing batch of size (1000, 1000)\n",
      "1248000,Processing batch of size (1000, 1000)\n",
      "1249000,Processing batch of size (1000, 1000)\n",
      "1250000,Processing batch of size (1000, 1000)\n",
      "1251000,Processing batch of size (1000, 1000)\n",
      "1252000,Processing batch of size (1000, 1000)\n",
      "1253000,Processing batch of size (1000, 1000)\n",
      "1254000,Processing batch of size (1000, 1000)\n",
      "1255000,Processing batch of size (1000, 1000)\n",
      "1256000,Processing batch of size (1000, 1000)\n",
      "1257000,Processing batch of size (1000, 1000)\n",
      "1258000,Processing batch of size (1000, 1000)\n",
      "1259000,Processing batch of size (1000, 1000)\n",
      "1260000,Processing batch of size (1000, 1000)\n",
      "1261000,Processing batch of size (1000, 1000)\n",
      "1262000,Processing batch of size (1000, 1000)\n",
      "1263000,Processing batch of size (1000, 1000)\n",
      "1264000,Processing batch of size (1000, 1000)\n",
      "1265000,Processing batch of size (1000, 1000)\n",
      "1266000,Processing batch of size (1000, 1000)\n",
      "1267000,Processing batch of size (1000, 1000)\n",
      "1268000,Processing batch of size (1000, 1000)\n",
      "1269000,Processing batch of size (1000, 1000)\n",
      "1270000,Processing batch of size (1000, 1000)\n",
      "1271000,Processing batch of size (1000, 1000)\n",
      "1272000,Processing batch of size (1000, 1000)\n",
      "1273000,Processing batch of size (1000, 1000)\n",
      "1274000,Processing batch of size (1000, 1000)\n",
      "1275000,Processing batch of size (1000, 1000)\n",
      "1276000,Processing batch of size (1000, 1000)\n",
      "1277000,Processing batch of size (1000, 1000)\n",
      "1278000,Processing batch of size (1000, 1000)\n",
      "1279000,Processing batch of size (1000, 1000)\n",
      "1280000,Processing batch of size (1000, 1000)\n",
      "1281000,Processing batch of size (1000, 1000)\n",
      "1282000,Processing batch of size (1000, 1000)\n",
      "1283000,Processing batch of size (1000, 1000)\n",
      "1284000,Processing batch of size (1000, 1000)\n",
      "1285000,Processing batch of size (1000, 1000)\n",
      "1286000,Processing batch of size (1000, 1000)\n",
      "1287000,Processing batch of size (1000, 1000)\n",
      "1288000,Processing batch of size (1000, 1000)\n",
      "1289000,Processing batch of size (1000, 1000)\n",
      "1290000,Processing batch of size (1000, 1000)\n",
      "1291000,Processing batch of size (1000, 1000)\n",
      "1292000,Processing batch of size (1000, 1000)\n",
      "1293000,Processing batch of size (1000, 1000)\n",
      "1294000,Processing batch of size (1000, 1000)\n",
      "1295000,Processing batch of size (1000, 1000)\n",
      "1296000,Processing batch of size (1000, 1000)\n",
      "1297000,Processing batch of size (1000, 1000)\n",
      "1298000,Processing batch of size (1000, 1000)\n",
      "1299000,Processing batch of size (1000, 1000)\n",
      "1300000,Processing batch of size (1000, 1000)\n",
      "1301000,Processing batch of size (1000, 1000)\n",
      "1302000,Processing batch of size (1000, 1000)\n",
      "1303000,Processing batch of size (1000, 1000)\n",
      "1304000,Processing batch of size (1000, 1000)\n",
      "1305000,Processing batch of size (1000, 1000)\n",
      "1306000,Processing batch of size (1000, 1000)\n",
      "1307000,Processing batch of size (1000, 1000)\n",
      "1308000,Processing batch of size (1000, 1000)\n",
      "1309000,Processing batch of size (1000, 1000)\n",
      "1310000,Processing batch of size (1000, 1000)\n",
      "1311000,Processing batch of size (1000, 1000)\n",
      "1312000,Processing batch of size (1000, 1000)\n",
      "1313000,Processing batch of size (1000, 1000)\n",
      "1314000,Processing batch of size (1000, 1000)\n",
      "1315000,Processing batch of size (1000, 1000)\n",
      "1316000,Processing batch of size (1000, 1000)\n",
      "1317000,Processing batch of size (1000, 1000)\n",
      "1318000,Processing batch of size (1000, 1000)\n",
      "1319000,Processing batch of size (1000, 1000)\n",
      "1320000,Processing batch of size (1000, 1000)\n",
      "1321000,Processing batch of size (1000, 1000)\n",
      "1322000,Processing batch of size (1000, 1000)\n",
      "1323000,Processing batch of size (1000, 1000)\n",
      "1324000,Processing batch of size (1000, 1000)\n",
      "1325000,Processing batch of size (1000, 1000)\n",
      "1326000,Processing batch of size (1000, 1000)\n",
      "1327000,Processing batch of size (1000, 1000)\n",
      "1328000,Processing batch of size (1000, 1000)\n",
      "1329000,Processing batch of size (1000, 1000)\n",
      "1330000,Processing batch of size (1000, 1000)\n",
      "1331000,Processing batch of size (1000, 1000)\n",
      "1332000,Processing batch of size (1000, 1000)\n",
      "1333000,Processing batch of size (1000, 1000)\n",
      "1334000,Processing batch of size (1000, 1000)\n",
      "1335000,Processing batch of size (1000, 1000)\n",
      "1336000,Processing batch of size (1000, 1000)\n",
      "1337000,Processing batch of size (1000, 1000)\n",
      "1338000,Processing batch of size (1000, 1000)\n",
      "1339000,Processing batch of size (1000, 1000)\n",
      "1340000,Processing batch of size (1000, 1000)\n",
      "1341000,Processing batch of size (1000, 1000)\n",
      "1342000,Processing batch of size (1000, 1000)\n",
      "1343000,Processing batch of size (1000, 1000)\n",
      "1344000,Processing batch of size (1000, 1000)\n",
      "1345000,Processing batch of size (1000, 1000)\n",
      "1346000,Processing batch of size (1000, 1000)\n",
      "1347000,Processing batch of size (1000, 1000)\n",
      "1348000,Processing batch of size (1000, 1000)\n",
      "1349000,Processing batch of size (1000, 1000)\n",
      "1350000,Processing batch of size (1000, 1000)\n",
      "1351000,Processing batch of size (1000, 1000)\n",
      "1352000,Processing batch of size (1000, 1000)\n",
      "1353000,Processing batch of size (1000, 1000)\n",
      "1354000,Processing batch of size (1000, 1000)\n",
      "1355000,Processing batch of size (1000, 1000)\n",
      "1356000,Processing batch of size (1000, 1000)\n",
      "1357000,Processing batch of size (1000, 1000)\n",
      "1358000,Processing batch of size (1000, 1000)\n",
      "1359000,Processing batch of size (1000, 1000)\n",
      "1360000,Processing batch of size (1000, 1000)\n",
      "1361000,Processing batch of size (1000, 1000)\n",
      "1362000,Processing batch of size (1000, 1000)\n",
      "1363000,Processing batch of size (1000, 1000)\n",
      "1364000,Processing batch of size (1000, 1000)\n",
      "1365000,Processing batch of size (1000, 1000)\n",
      "1366000,Processing batch of size (1000, 1000)\n",
      "1367000,Processing batch of size (1000, 1000)\n",
      "1368000,Processing batch of size (1000, 1000)\n",
      "1369000,Processing batch of size (1000, 1000)\n",
      "1370000,Processing batch of size (1000, 1000)\n",
      "1371000,Processing batch of size (1000, 1000)\n",
      "1372000,Processing batch of size (1000, 1000)\n",
      "1373000,Processing batch of size (1000, 1000)\n",
      "1374000,Processing batch of size (1000, 1000)\n",
      "1375000,Processing batch of size (1000, 1000)\n",
      "1376000,Processing batch of size (1000, 1000)\n",
      "1377000,Processing batch of size (1000, 1000)\n",
      "1378000,Processing batch of size (1000, 1000)\n",
      "1379000,Processing batch of size (1000, 1000)\n",
      "1380000,Processing batch of size (1000, 1000)\n",
      "1381000,Processing batch of size (1000, 1000)\n",
      "1382000,Processing batch of size (1000, 1000)\n",
      "1383000,Processing batch of size (1000, 1000)\n",
      "1384000,Processing batch of size (1000, 1000)\n",
      "1385000,Processing batch of size (1000, 1000)\n",
      "1386000,Processing batch of size (1000, 1000)\n",
      "1387000,Processing batch of size (1000, 1000)\n",
      "1388000,Processing batch of size (1000, 1000)\n",
      "1389000,Processing batch of size (1000, 1000)\n",
      "1390000,Processing batch of size (1000, 1000)\n",
      "1391000,Processing batch of size (1000, 1000)\n",
      "1392000,Processing batch of size (1000, 1000)\n",
      "1393000,Processing batch of size (1000, 1000)\n",
      "1394000,Processing batch of size (1000, 1000)\n",
      "1395000,Processing batch of size (1000, 1000)\n",
      "1396000,Processing batch of size (1000, 1000)\n",
      "1397000,Processing batch of size (1000, 1000)\n",
      "1398000,Processing batch of size (1000, 1000)\n",
      "1399000,Processing batch of size (1000, 1000)\n",
      "1400000,Processing batch of size (1000, 1000)\n",
      "1401000,Processing batch of size (1000, 1000)\n",
      "1402000,Processing batch of size (1000, 1000)\n",
      "1403000,Processing batch of size (1000, 1000)\n",
      "1404000,Processing batch of size (1000, 1000)\n",
      "1405000,Processing batch of size (1000, 1000)\n",
      "1406000,Processing batch of size (1000, 1000)\n",
      "1407000,Processing batch of size (1000, 1000)\n",
      "1408000,Processing batch of size (1000, 1000)\n",
      "1409000,Processing batch of size (1000, 1000)\n",
      "1410000,Processing batch of size (1000, 1000)\n",
      "1411000,Processing batch of size (1000, 1000)\n",
      "1412000,Processing batch of size (1000, 1000)\n",
      "1413000,Processing batch of size (1000, 1000)\n",
      "1414000,Processing batch of size (1000, 1000)\n",
      "1415000,Processing batch of size (1000, 1000)\n",
      "1416000,Processing batch of size (1000, 1000)\n",
      "1417000,Processing batch of size (1000, 1000)\n",
      "1418000,Processing batch of size (1000, 1000)\n",
      "1419000,Processing batch of size (1000, 1000)\n",
      "1420000,Processing batch of size (1000, 1000)\n",
      "1421000,Processing batch of size (1000, 1000)\n",
      "1422000,Processing batch of size (1000, 1000)\n",
      "1423000,Processing batch of size (1000, 1000)\n",
      "1424000,Processing batch of size (1000, 1000)\n",
      "1425000,Processing batch of size (1000, 1000)\n",
      "1426000,Processing batch of size (1000, 1000)\n",
      "1427000,Processing batch of size (1000, 1000)\n",
      "1428000,Processing batch of size (1000, 1000)\n",
      "1429000,Processing batch of size (1000, 1000)\n",
      "1430000,Processing batch of size (1000, 1000)\n",
      "1431000,Processing batch of size (1000, 1000)\n",
      "1432000,Processing batch of size (1000, 1000)\n",
      "1433000,Processing batch of size (1000, 1000)\n",
      "1434000,Processing batch of size (1000, 1000)\n",
      "1435000,Processing batch of size (1000, 1000)\n",
      "1436000,Processing batch of size (1000, 1000)\n",
      "1437000,Processing batch of size (1000, 1000)\n",
      "1438000,Processing batch of size (1000, 1000)\n",
      "1439000,Processing batch of size (1000, 1000)\n",
      "1440000,Processing batch of size (1000, 1000)\n",
      "1441000,Processing batch of size (1000, 1000)\n",
      "1442000,Processing batch of size (1000, 1000)\n",
      "1443000,Processing batch of size (1000, 1000)\n",
      "1444000,Processing batch of size (1000, 1000)\n",
      "1445000,Processing batch of size (1000, 1000)\n",
      "1446000,Processing batch of size (1000, 1000)\n",
      "1447000,Processing batch of size (1000, 1000)\n",
      "1448000,Processing batch of size (1000, 1000)\n",
      "1449000,Processing batch of size (1000, 1000)\n",
      "1450000,Processing batch of size (1000, 1000)\n",
      "1451000,Processing batch of size (1000, 1000)\n",
      "1452000,Processing batch of size (1000, 1000)\n",
      "1453000,Processing batch of size (1000, 1000)\n",
      "1454000,Processing batch of size (1000, 1000)\n",
      "1455000,Processing batch of size (1000, 1000)\n",
      "1456000,Processing batch of size (1000, 1000)\n",
      "1457000,Processing batch of size (1000, 1000)\n",
      "1458000,Processing batch of size (1000, 1000)\n",
      "1459000,Processing batch of size (1000, 1000)\n",
      "1460000,Processing batch of size (1000, 1000)\n",
      "1461000,Processing batch of size (1000, 1000)\n",
      "1462000,Processing batch of size (1000, 1000)\n",
      "1463000,Processing batch of size (1000, 1000)\n",
      "1464000,Processing batch of size (1000, 1000)\n",
      "1465000,Processing batch of size (1000, 1000)\n",
      "1466000,Processing batch of size (1000, 1000)\n",
      "1467000,Processing batch of size (1000, 1000)\n",
      "1468000,Processing batch of size (1000, 1000)\n",
      "1469000,Processing batch of size (1000, 1000)\n",
      "1470000,Processing batch of size (1000, 1000)\n",
      "1471000,Processing batch of size (1000, 1000)\n",
      "1472000,Processing batch of size (1000, 1000)\n",
      "1473000,Processing batch of size (1000, 1000)\n",
      "1474000,Processing batch of size (1000, 1000)\n",
      "1475000,Processing batch of size (1000, 1000)\n",
      "1476000,Processing batch of size (1000, 1000)\n",
      "1477000,Processing batch of size (1000, 1000)\n",
      "1478000,Processing batch of size (1000, 1000)\n",
      "1479000,Processing batch of size (1000, 1000)\n",
      "1480000,Processing batch of size (1000, 1000)\n",
      "1481000,Processing batch of size (1000, 1000)\n",
      "1482000,Processing batch of size (1000, 1000)\n",
      "1483000,Processing batch of size (1000, 1000)\n",
      "1484000,Processing batch of size (1000, 1000)\n",
      "1485000,Processing batch of size (1000, 1000)\n",
      "1486000,Processing batch of size (1000, 1000)\n",
      "1487000,Processing batch of size (1000, 1000)\n",
      "1488000,Processing batch of size (1000, 1000)\n",
      "1489000,Processing batch of size (1000, 1000)\n",
      "1490000,Processing batch of size (1000, 1000)\n",
      "1491000,Processing batch of size (1000, 1000)\n",
      "1492000,Processing batch of size (1000, 1000)\n",
      "1493000,Processing batch of size (1000, 1000)\n",
      "1494000,Processing batch of size (1000, 1000)\n",
      "1495000,Processing batch of size (1000, 1000)\n",
      "1496000,Processing batch of size (1000, 1000)\n",
      "1497000,Processing batch of size (1000, 1000)\n",
      "1498000,Processing batch of size (1000, 1000)\n",
      "1499000,Processing batch of size (1000, 1000)\n",
      "1500000,Processing batch of size (1000, 1000)\n",
      "1501000,Processing batch of size (1000, 1000)\n",
      "1502000,Processing batch of size (1000, 1000)\n",
      "1503000,Processing batch of size (1000, 1000)\n",
      "1504000,Processing batch of size (1000, 1000)\n",
      "1505000,Processing batch of size (1000, 1000)\n",
      "1506000,Processing batch of size (1000, 1000)\n",
      "1507000,Processing batch of size (1000, 1000)\n",
      "1508000,Processing batch of size (1000, 1000)\n",
      "1509000,Processing batch of size (1000, 1000)\n",
      "1510000,Processing batch of size (1000, 1000)\n",
      "1511000,Processing batch of size (1000, 1000)\n",
      "1512000,Processing batch of size (1000, 1000)\n",
      "1513000,Processing batch of size (1000, 1000)\n",
      "1514000,Processing batch of size (1000, 1000)\n",
      "1515000,Processing batch of size (1000, 1000)\n",
      "1516000,Processing batch of size (1000, 1000)\n",
      "1517000,Processing batch of size (1000, 1000)\n",
      "1518000,Processing batch of size (1000, 1000)\n",
      "1519000,Processing batch of size (1000, 1000)\n",
      "1520000,Processing batch of size (1000, 1000)\n",
      "1521000,Processing batch of size (1000, 1000)\n",
      "1522000,Processing batch of size (1000, 1000)\n",
      "1523000,Processing batch of size (1000, 1000)\n",
      "1524000,Processing batch of size (1000, 1000)\n",
      "1525000,Processing batch of size (1000, 1000)\n",
      "1526000,Processing batch of size (1000, 1000)\n",
      "1527000,Processing batch of size (1000, 1000)\n",
      "1528000,Processing batch of size (1000, 1000)\n",
      "1529000,Processing batch of size (1000, 1000)\n",
      "1530000,Processing batch of size (1000, 1000)\n",
      "1531000,Processing batch of size (1000, 1000)\n",
      "1532000,Processing batch of size (1000, 1000)\n",
      "1533000,Processing batch of size (1000, 1000)\n",
      "1534000,Processing batch of size (1000, 1000)\n",
      "1535000,Processing batch of size (1000, 1000)\n",
      "1536000,Processing batch of size (1000, 1000)\n",
      "1537000,Processing batch of size (1000, 1000)\n",
      "1538000,Processing batch of size (1000, 1000)\n",
      "1539000,Processing batch of size (1000, 1000)\n",
      "1540000,Processing batch of size (1000, 1000)\n",
      "1541000,Processing batch of size (1000, 1000)\n",
      "1542000,Processing batch of size (1000, 1000)\n",
      "1543000,Processing batch of size (1000, 1000)\n",
      "1544000,Processing batch of size (1000, 1000)\n",
      "1545000,Processing batch of size (1000, 1000)\n",
      "1546000,Processing batch of size (1000, 1000)\n",
      "1547000,Processing batch of size (1000, 1000)\n",
      "1548000,Processing batch of size (1000, 1000)\n",
      "1549000,Processing batch of size (1000, 1000)\n",
      "1550000,Processing batch of size (1000, 1000)\n",
      "1551000,Processing batch of size (1000, 1000)\n",
      "1552000,Processing batch of size (1000, 1000)\n",
      "1553000,Processing batch of size (1000, 1000)\n",
      "1554000,Processing batch of size (1000, 1000)\n",
      "1555000,Processing batch of size (1000, 1000)\n",
      "1556000,Processing batch of size (1000, 1000)\n",
      "1557000,Processing batch of size (1000, 1000)\n",
      "1558000,Processing batch of size (1000, 1000)\n",
      "1559000,Processing batch of size (1000, 1000)\n",
      "1560000,Processing batch of size (1000, 1000)\n",
      "1561000,Processing batch of size (1000, 1000)\n",
      "1562000,Processing batch of size (1000, 1000)\n",
      "1563000,Processing batch of size (1000, 1000)\n",
      "1564000,Processing batch of size (1000, 1000)\n",
      "1565000,Processing batch of size (1000, 1000)\n",
      "1566000,Processing batch of size (1000, 1000)\n",
      "1567000,Processing batch of size (1000, 1000)\n",
      "1568000,Processing batch of size (1000, 1000)\n",
      "1569000,Processing batch of size (1000, 1000)\n",
      "1570000,Processing batch of size (1000, 1000)\n",
      "1571000,Processing batch of size (1000, 1000)\n",
      "1572000,Processing batch of size (1000, 1000)\n",
      "1573000,Processing batch of size (1000, 1000)\n",
      "1574000,Processing batch of size (1000, 1000)\n",
      "1575000,Processing batch of size (1000, 1000)\n",
      "1576000,Processing batch of size (1000, 1000)\n",
      "1577000,Processing batch of size (1000, 1000)\n",
      "1578000,Processing batch of size (1000, 1000)\n",
      "1579000,Processing batch of size (1000, 1000)\n",
      "1580000,Processing batch of size (1000, 1000)\n",
      "1581000,Processing batch of size (1000, 1000)\n",
      "1582000,Processing batch of size (1000, 1000)\n",
      "1583000,Processing batch of size (1000, 1000)\n",
      "1584000,Processing batch of size (1000, 1000)\n",
      "1585000,Processing batch of size (1000, 1000)\n",
      "1586000,Processing batch of size (1000, 1000)\n",
      "1587000,Processing batch of size (1000, 1000)\n",
      "1588000,Processing batch of size (1000, 1000)\n",
      "1589000,Processing batch of size (1000, 1000)\n",
      "1590000,Processing batch of size (1000, 1000)\n",
      "1591000,Processing batch of size (1000, 1000)\n",
      "1592000,Processing batch of size (1000, 1000)\n",
      "1593000,Processing batch of size (1000, 1000)\n",
      "1594000,Processing batch of size (1000, 1000)\n",
      "1595000,Processing batch of size (1000, 1000)\n",
      "1596000,Processing batch of size (1000, 1000)\n",
      "1597000,Processing batch of size (1000, 1000)\n",
      "1598000,Processing batch of size (1000, 1000)\n",
      "1599000,Processing batch of size (1000, 1000)\n",
      "1600000,Processing batch of size (1000, 1000)\n",
      "1601000,Processing batch of size (1000, 1000)\n",
      "1602000,Processing batch of size (1000, 1000)\n",
      "1603000,Processing batch of size (1000, 1000)\n",
      "1604000,Processing batch of size (1000, 1000)\n",
      "1605000,Processing batch of size (1000, 1000)\n",
      "1606000,Processing batch of size (1000, 1000)\n",
      "1607000,Processing batch of size (1000, 1000)\n",
      "1608000,Processing batch of size (1000, 1000)\n",
      "1609000,Processing batch of size (1000, 1000)\n",
      "1610000,Processing batch of size (1000, 1000)\n",
      "1611000,Processing batch of size (1000, 1000)\n",
      "1612000,Processing batch of size (1000, 1000)\n",
      "1613000,Processing batch of size (1000, 1000)\n",
      "1614000,Processing batch of size (1000, 1000)\n",
      "1615000,Processing batch of size (1000, 1000)\n",
      "1616000,Processing batch of size (1000, 1000)\n",
      "1617000,Processing batch of size (1000, 1000)\n",
      "1618000,Processing batch of size (1000, 1000)\n",
      "1619000,Processing batch of size (1000, 1000)\n",
      "1620000,Processing batch of size (1000, 1000)\n",
      "1621000,Processing batch of size (1000, 1000)\n",
      "1622000,Processing batch of size (1000, 1000)\n",
      "1623000,Processing batch of size (1000, 1000)\n",
      "1624000,Processing batch of size (1000, 1000)\n",
      "1625000,Processing batch of size (1000, 1000)\n",
      "1626000,Processing batch of size (1000, 1000)\n",
      "1627000,Processing batch of size (1000, 1000)\n",
      "1628000,Processing batch of size (1000, 1000)\n",
      "1629000,Processing batch of size (1000, 1000)\n",
      "1630000,Processing batch of size (1000, 1000)\n",
      "1631000,Processing batch of size (1000, 1000)\n",
      "1632000,Processing batch of size (1000, 1000)\n",
      "1633000,Processing batch of size (1000, 1000)\n",
      "1634000,Processing batch of size (1000, 1000)\n",
      "1635000,Processing batch of size (1000, 1000)\n",
      "1636000,Processing batch of size (1000, 1000)\n",
      "1637000,Processing batch of size (1000, 1000)\n",
      "1638000,Processing batch of size (1000, 1000)\n",
      "1639000,Processing batch of size (1000, 1000)\n",
      "1640000,Processing batch of size (1000, 1000)\n",
      "1641000,Processing batch of size (1000, 1000)\n",
      "1642000,Processing batch of size (1000, 1000)\n",
      "1643000,Processing batch of size (1000, 1000)\n",
      "1644000,Processing batch of size (1000, 1000)\n",
      "1645000,Processing batch of size (1000, 1000)\n",
      "1646000,Processing batch of size (1000, 1000)\n",
      "1647000,Processing batch of size (1000, 1000)\n",
      "1648000,Processing batch of size (1000, 1000)\n",
      "1649000,Processing batch of size (1000, 1000)\n",
      "1650000,Processing batch of size (1000, 1000)\n",
      "1651000,Processing batch of size (1000, 1000)\n",
      "1652000,Processing batch of size (1000, 1000)\n",
      "1653000,Processing batch of size (1000, 1000)\n",
      "1654000,Processing batch of size (1000, 1000)\n",
      "1655000,Processing batch of size (1000, 1000)\n",
      "1656000,Processing batch of size (1000, 1000)\n",
      "1657000,Processing batch of size (1000, 1000)\n",
      "1658000,Processing batch of size (1000, 1000)\n",
      "1659000,Processing batch of size (1000, 1000)\n",
      "1660000,Processing batch of size (1000, 1000)\n",
      "1661000,Processing batch of size (1000, 1000)\n",
      "1662000,Processing batch of size (1000, 1000)\n",
      "1663000,Processing batch of size (1000, 1000)\n",
      "1664000,Processing batch of size (1000, 1000)\n",
      "1665000,Processing batch of size (1000, 1000)\n",
      "1666000,Processing batch of size (1000, 1000)\n",
      "1667000,Processing batch of size (1000, 1000)\n",
      "1668000,Processing batch of size (1000, 1000)\n",
      "1669000,Processing batch of size (1000, 1000)\n",
      "1670000,Processing batch of size (1000, 1000)\n",
      "1671000,Processing batch of size (1000, 1000)\n",
      "1672000,Processing batch of size (1000, 1000)\n",
      "1673000,Processing batch of size (1000, 1000)\n",
      "1674000,Processing batch of size (1000, 1000)\n",
      "1675000,Processing batch of size (1000, 1000)\n",
      "1676000,Processing batch of size (1000, 1000)\n",
      "1677000,Processing batch of size (1000, 1000)\n",
      "1678000,Processing batch of size (1000, 1000)\n",
      "1679000,Processing batch of size (1000, 1000)\n",
      "1680000,Processing batch of size (1000, 1000)\n",
      "1681000,Processing batch of size (1000, 1000)\n",
      "1682000,Processing batch of size (1000, 1000)\n",
      "1683000,Processing batch of size (1000, 1000)\n",
      "1684000,Processing batch of size (1000, 1000)\n",
      "1685000,Processing batch of size (1000, 1000)\n",
      "1686000,Processing batch of size (1000, 1000)\n",
      "1687000,Processing batch of size (1000, 1000)\n",
      "1688000,Processing batch of size (1000, 1000)\n",
      "1689000,Processing batch of size (1000, 1000)\n",
      "1690000,Processing batch of size (1000, 1000)\n",
      "1691000,Processing batch of size (1000, 1000)\n",
      "1692000,Processing batch of size (1000, 1000)\n",
      "1693000,Processing batch of size (1000, 1000)\n",
      "1694000,Processing batch of size (1000, 1000)\n",
      "1695000,Processing batch of size (1000, 1000)\n",
      "1696000,Processing batch of size (1000, 1000)\n",
      "1697000,Processing batch of size (1000, 1000)\n",
      "1698000,Processing batch of size (1000, 1000)\n",
      "1699000,Processing batch of size (1000, 1000)\n",
      "1700000,Processing batch of size (1000, 1000)\n",
      "1701000,Processing batch of size (1000, 1000)\n",
      "1702000,Processing batch of size (1000, 1000)\n",
      "1703000,Processing batch of size (1000, 1000)\n",
      "1704000,Processing batch of size (1000, 1000)\n",
      "1705000,Processing batch of size (1000, 1000)\n",
      "1706000,Processing batch of size (1000, 1000)\n",
      "1707000,Processing batch of size (1000, 1000)\n",
      "1708000,Processing batch of size (1000, 1000)\n",
      "1709000,Processing batch of size (1000, 1000)\n",
      "1710000,Processing batch of size (1000, 1000)\n",
      "1711000,Processing batch of size (1000, 1000)\n",
      "1712000,Processing batch of size (1000, 1000)\n",
      "1713000,Processing batch of size (1000, 1000)\n",
      "1714000,Processing batch of size (1000, 1000)\n",
      "1715000,Processing batch of size (1000, 1000)\n",
      "1716000,Processing batch of size (1000, 1000)\n",
      "1717000,Processing batch of size (1000, 1000)\n",
      "1718000,Processing batch of size (1000, 1000)\n",
      "1719000,Processing batch of size (1000, 1000)\n",
      "1720000,Processing batch of size (1000, 1000)\n",
      "1721000,Processing batch of size (1000, 1000)\n",
      "1722000,Processing batch of size (1000, 1000)\n",
      "1723000,Processing batch of size (1000, 1000)\n",
      "1724000,Processing batch of size (1000, 1000)\n",
      "1725000,Processing batch of size (1000, 1000)\n",
      "1726000,Processing batch of size (1000, 1000)\n",
      "1727000,Processing batch of size (1000, 1000)\n",
      "1728000,Processing batch of size (1000, 1000)\n",
      "1729000,Processing batch of size (1000, 1000)\n",
      "1730000,Processing batch of size (1000, 1000)\n",
      "1731000,Processing batch of size (1000, 1000)\n",
      "1732000,Processing batch of size (1000, 1000)\n",
      "1733000,Processing batch of size (1000, 1000)\n",
      "1734000,Processing batch of size (1000, 1000)\n",
      "1735000,Processing batch of size (1000, 1000)\n",
      "1736000,Processing batch of size (1000, 1000)\n",
      "1737000,Processing batch of size (1000, 1000)\n",
      "1738000,Processing batch of size (1000, 1000)\n",
      "1739000,Processing batch of size (1000, 1000)\n",
      "1740000,Processing batch of size (1000, 1000)\n",
      "1741000,Processing batch of size (1000, 1000)\n",
      "1742000,Processing batch of size (1000, 1000)\n",
      "1743000,Processing batch of size (1000, 1000)\n",
      "1744000,Processing batch of size (1000, 1000)\n",
      "1745000,Processing batch of size (1000, 1000)\n",
      "1746000,Processing batch of size (1000, 1000)\n",
      "1747000,Processing batch of size (1000, 1000)\n",
      "1748000,Processing batch of size (1000, 1000)\n",
      "1749000,Processing batch of size (1000, 1000)\n",
      "1750000,Processing batch of size (1000, 1000)\n",
      "1751000,Processing batch of size (1000, 1000)\n",
      "1752000,Processing batch of size (1000, 1000)\n",
      "1753000,Processing batch of size (1000, 1000)\n",
      "1754000,Processing batch of size (1000, 1000)\n",
      "1755000,Processing batch of size (1000, 1000)\n",
      "1756000,Processing batch of size (1000, 1000)\n",
      "1757000,Processing batch of size (1000, 1000)\n",
      "1758000,Processing batch of size (1000, 1000)\n",
      "1759000,Processing batch of size (1000, 1000)\n",
      "1760000,Processing batch of size (1000, 1000)\n",
      "1761000,Processing batch of size (1000, 1000)\n",
      "1762000,Processing batch of size (1000, 1000)\n",
      "1763000,Processing batch of size (1000, 1000)\n",
      "1764000,Processing batch of size (1000, 1000)\n",
      "1765000,Processing batch of size (1000, 1000)\n",
      "1766000,Processing batch of size (1000, 1000)\n",
      "1767000,Processing batch of size (1000, 1000)\n",
      "1768000,Processing batch of size (1000, 1000)\n",
      "1769000,Processing batch of size (1000, 1000)\n",
      "1770000,Processing batch of size (1000, 1000)\n",
      "1771000,Processing batch of size (1000, 1000)\n",
      "1772000,Processing batch of size (1000, 1000)\n",
      "1773000,Processing batch of size (1000, 1000)\n",
      "1774000,Processing batch of size (1000, 1000)\n",
      "1775000,Processing batch of size (1000, 1000)\n",
      "1776000,Processing batch of size (1000, 1000)\n",
      "1777000,Processing batch of size (1000, 1000)\n",
      "1778000,Processing batch of size (1000, 1000)\n",
      "1779000,Processing batch of size (1000, 1000)\n",
      "1780000,Processing batch of size (1000, 1000)\n",
      "1781000,Processing batch of size (1000, 1000)\n",
      "1782000,Processing batch of size (1000, 1000)\n",
      "1783000,Processing batch of size (1000, 1000)\n",
      "1784000,Processing batch of size (1000, 1000)\n",
      "1785000,Processing batch of size (1000, 1000)\n",
      "1786000,Processing batch of size (1000, 1000)\n",
      "1787000,Processing batch of size (1000, 1000)\n",
      "1788000,Processing batch of size (1000, 1000)\n",
      "1789000,Processing batch of size (1000, 1000)\n",
      "1790000,Processing batch of size (1000, 1000)\n",
      "1791000,Processing batch of size (1000, 1000)\n",
      "1792000,Processing batch of size (1000, 1000)\n",
      "1793000,Processing batch of size (1000, 1000)\n",
      "1794000,Processing batch of size (1000, 1000)\n",
      "1795000,Processing batch of size (1000, 1000)\n",
      "1796000,Processing batch of size (1000, 1000)\n",
      "1797000,Processing batch of size (1000, 1000)\n",
      "1798000,Processing batch of size (1000, 1000)\n",
      "1799000,Processing batch of size (1000, 1000)\n",
      "1800000,Processing batch of size (1000, 1000)\n",
      "1801000,Processing batch of size (1000, 1000)\n",
      "1802000,Processing batch of size (1000, 1000)\n",
      "1803000,Processing batch of size (1000, 1000)\n",
      "1804000,Processing batch of size (1000, 1000)\n",
      "1805000,Processing batch of size (1000, 1000)\n",
      "1806000,Processing batch of size (1000, 1000)\n",
      "1807000,Processing batch of size (1000, 1000)\n",
      "1808000,Processing batch of size (1000, 1000)\n",
      "1809000,Processing batch of size (1000, 1000)\n",
      "1810000,Processing batch of size (1000, 1000)\n",
      "1811000,Processing batch of size (1000, 1000)\n",
      "1812000,Processing batch of size (1000, 1000)\n",
      "1813000,Processing batch of size (1000, 1000)\n",
      "1814000,Processing batch of size (1000, 1000)\n",
      "1815000,Processing batch of size (1000, 1000)\n",
      "1816000,Processing batch of size (1000, 1000)\n",
      "1817000,Processing batch of size (1000, 1000)\n",
      "1818000,Processing batch of size (1000, 1000)\n",
      "1819000,Processing batch of size (1000, 1000)\n",
      "1820000,Processing batch of size (1000, 1000)\n",
      "1821000,Processing batch of size (1000, 1000)\n",
      "1822000,Processing batch of size (1000, 1000)\n",
      "1823000,Processing batch of size (1000, 1000)\n",
      "1824000,Processing batch of size (1000, 1000)\n",
      "1825000,Processing batch of size (1000, 1000)\n",
      "1826000,Processing batch of size (1000, 1000)\n",
      "1827000,Processing batch of size (1000, 1000)\n",
      "1828000,Processing batch of size (1000, 1000)\n",
      "1829000,Processing batch of size (1000, 1000)\n",
      "1830000,Processing batch of size (1000, 1000)\n",
      "1831000,Processing batch of size (1000, 1000)\n",
      "1832000,Processing batch of size (1000, 1000)\n",
      "1833000,Processing batch of size (1000, 1000)\n",
      "1834000,Processing batch of size (1000, 1000)\n",
      "1835000,Processing batch of size (1000, 1000)\n",
      "1836000,Processing batch of size (1000, 1000)\n",
      "1837000,Processing batch of size (1000, 1000)\n",
      "1838000,Processing batch of size (1000, 1000)\n",
      "1839000,Processing batch of size (1000, 1000)\n",
      "1840000,Processing batch of size (1000, 1000)\n",
      "1841000,Processing batch of size (1000, 1000)\n",
      "1842000,Processing batch of size (1000, 1000)\n",
      "1843000,Processing batch of size (1000, 1000)\n",
      "1844000,Processing batch of size (1000, 1000)\n",
      "1845000,Processing batch of size (1000, 1000)\n",
      "1846000,Processing batch of size (1000, 1000)\n",
      "1847000,Processing batch of size (1000, 1000)\n",
      "1848000,Processing batch of size (1000, 1000)\n",
      "1849000,Processing batch of size (1000, 1000)\n",
      "1850000,Processing batch of size (1000, 1000)\n",
      "1851000,Processing batch of size (1000, 1000)\n",
      "1852000,Processing batch of size (1000, 1000)\n",
      "1853000,Processing batch of size (1000, 1000)\n",
      "1854000,Processing batch of size (1000, 1000)\n",
      "1855000,Processing batch of size (1000, 1000)\n",
      "1856000,Processing batch of size (1000, 1000)\n",
      "1857000,Processing batch of size (1000, 1000)\n",
      "1858000,Processing batch of size (1000, 1000)\n",
      "1859000,Processing batch of size (1000, 1000)\n",
      "1860000,Processing batch of size (1000, 1000)\n",
      "1861000,Processing batch of size (1000, 1000)\n",
      "1862000,Processing batch of size (1000, 1000)\n",
      "1863000,Processing batch of size (1000, 1000)\n",
      "1864000,Processing batch of size (1000, 1000)\n",
      "1865000,Processing batch of size (1000, 1000)\n",
      "1866000,Processing batch of size (1000, 1000)\n",
      "1867000,Processing batch of size (1000, 1000)\n",
      "1868000,Processing batch of size (1000, 1000)\n",
      "1869000,Processing batch of size (1000, 1000)\n",
      "1870000,Processing batch of size (1000, 1000)\n",
      "1871000,Processing batch of size (1000, 1000)\n",
      "1872000,Processing batch of size (1000, 1000)\n",
      "1873000,Processing batch of size (1000, 1000)\n",
      "1874000,Processing batch of size (1000, 1000)\n",
      "1875000,Processing batch of size (1000, 1000)\n",
      "1876000,Processing batch of size (1000, 1000)\n",
      "1877000,Processing batch of size (1000, 1000)\n",
      "1878000,Processing batch of size (1000, 1000)\n",
      "1879000,Processing batch of size (1000, 1000)\n",
      "1880000,Processing batch of size (1000, 1000)\n",
      "1881000,Processing batch of size (1000, 1000)\n",
      "1882000,Processing batch of size (1000, 1000)\n",
      "1883000,Processing batch of size (1000, 1000)\n",
      "1884000,Processing batch of size (1000, 1000)\n",
      "1885000,Processing batch of size (1000, 1000)\n",
      "1886000,Processing batch of size (1000, 1000)\n",
      "1887000,Processing batch of size (1000, 1000)\n",
      "1888000,Processing batch of size (1000, 1000)\n",
      "1889000,Processing batch of size (1000, 1000)\n",
      "1890000,Processing batch of size (1000, 1000)\n",
      "1891000,Processing batch of size (1000, 1000)\n",
      "1892000,Processing batch of size (1000, 1000)\n",
      "1893000,Processing batch of size (1000, 1000)\n",
      "1894000,Processing batch of size (1000, 1000)\n",
      "1895000,Processing batch of size (1000, 1000)\n",
      "1896000,Processing batch of size (1000, 1000)\n",
      "1897000,Processing batch of size (517, 517)\n",
      "CPU times: total: 14min 26s\n",
      "Wall time: 1h 19min 19s\n"
     ]
    }
   ],
   "source": [
    "%%time\n",
    "for i in range(0, len(pkls), batch_size):\n",
    "    # if i<=237000:\n",
    "    #     continue\n",
    "    try:\n",
    "        payload = pkls[i:i + batch_size]\n",
    "        npy_batch = next(npy_batches)\n",
    "        size=len(payload)\n",
    "        index = list(range(i,i + size))\n",
    "        print(f\"{i},Processing batch of size {size,len(npy_batch)}\")\n",
    "        points=Batch(ids= index,payloads=payload,vectors=npy_batch.tolist())\n",
    "        client_1.upsert(collection_name=collection_name,points = points)     \n",
    "        #   points = [PointStruct(id=id_max+idx, vector=wo.wv[word].tolist(), \n",
    "        #                 payload={\"word\": word,\"行业\": col,'index':idx,\n",
    "        #                          'tf':tf.get(word,1),\n",
    "        #                          'df':df.get(word,1)})\n",
    "        #         for word, idx in batch]\n",
    "    except StopIteration:\n",
    "        break"
   ]
  },
  {
   "cell_type": "code",
   "execution_count": 11,
   "metadata": {},
   "outputs": [
    {
     "data": {
      "text/plain": [
       "26942"
      ]
     },
     "execution_count": 11,
     "metadata": {},
     "output_type": "execute_result"
    }
   ],
   "source": [
    "220713221//1024//8"
   ]
  },
  {
   "cell_type": "code",
   "execution_count": 12,
   "metadata": {},
   "outputs": [
    {
     "data": {
      "text/plain": [
       "6.577766567468643"
      ]
     },
     "execution_count": 12,
     "metadata": {},
     "output_type": "execute_result"
    }
   ],
   "source": [
    "220713221/33554432"
   ]
  },
  {
   "cell_type": "code",
   "execution_count": 2,
   "metadata": {},
   "outputs": [],
   "source": [
    "from gensim import corpora\n",
    "from gensim.models import Word2Vec"
   ]
  },
  {
   "cell_type": "code",
   "execution_count": 3,
   "metadata": {},
   "outputs": [],
   "source": [
    "from qdrant_client.models import Batch,Distance,VectorParams"
   ]
  },
  {
   "cell_type": "code",
   "execution_count": 4,
   "metadata": {},
   "outputs": [],
   "source": [
    "import pandas as pd\n",
    "word_tf_df=pd.read_csv('Y:\\Downloads\\Patent\\patent_word_tf_df_188.csv',index_col=0)\n",
    "tf=word_tf_df.tf.to_dict()\n",
    "df=word_tf_df.df.to_dict()"
   ]
  },
  {
   "cell_type": "code",
   "execution_count": 5,
   "metadata": {},
   "outputs": [],
   "source": [
    "suffix='188_37'\n",
    "wo = Word2Vec.load(f'Y:\\Downloads\\Patent\\patent_w2v_{suffix}.model') "
   ]
  },
  {
   "cell_type": "code",
   "execution_count": 6,
   "metadata": {},
   "outputs": [],
   "source": [
    "index=list(range(len(wo.wv)))\n",
    "payload=[{\"word\": word,'index':idx,'tf':tf.get(word,1),'df':df.get(word,1)} for word,idx in wo.wv.key_to_index.items()]\n",
    "points=Batch(\n",
    "    ids=index,\n",
    "    vectors=wo.wv.vectors.tolist(),\n",
    "    payloads=payload\n",
    ")"
   ]
  },
  {
   "cell_type": "code",
   "execution_count": 7,
   "metadata": {},
   "outputs": [],
   "source": [
    "client = QdrantClient(host=\"47.110.156.41\", grpc_port=6334, prefer_grpc=True)"
   ]
  },
  {
   "cell_type": "code",
   "execution_count": 9,
   "metadata": {},
   "outputs": [
    {
     "data": {
      "text/plain": [
       "UpdateResult(operation_id=0, status=<UpdateStatus.COMPLETED: 'completed'>)"
      ]
     },
     "execution_count": 9,
     "metadata": {},
     "output_type": "execute_result"
    }
   ],
   "source": [
    "collection_name=f'专利_w2v_{suffix}'\n",
    "client.create_collection(collection_name,vectors_config=VectorParams(size=wo.wv.vectors.shape[1],distance=Distance.COSINE))\n",
    "client.upsert(collection_name=collection_name,points = points) "
   ]
  },
  {
   "cell_type": "code",
   "execution_count": 10,
   "metadata": {},
   "outputs": [
    {
     "data": {
      "text/plain": [
       "CountResult(count=369401)"
      ]
     },
     "execution_count": 10,
     "metadata": {},
     "output_type": "execute_result"
    }
   ],
   "source": [
    "client.count(collection_name)"
   ]
  },
  {
   "cell_type": "code",
   "execution_count": 11,
   "metadata": {},
   "outputs": [
    {
     "data": {
      "text/plain": [
       "CollectionInfo(status=<CollectionStatus.GREEN: 'green'>, optimizer_status=<OptimizersStatusOneOf.OK: 'ok'>, vectors_count=None, indexed_vectors_count=369401, points_count=369401, segments_count=4, config=CollectionConfig(params=CollectionParams(vectors=VectorParams(size=250, distance=<Distance.COSINE: 'Cosine'>, hnsw_config=None, quantization_config=None, on_disk=None, datatype=None), shard_number=1, sharding_method=None, replication_factor=1, write_consistency_factor=1, read_fan_out_factor=None, on_disk_payload=True, sparse_vectors=None), hnsw_config=HnswConfig(m=16, ef_construct=100, full_scan_threshold=10000, max_indexing_threads=0, on_disk=False, payload_m=None), optimizer_config=OptimizersConfig(deleted_threshold=0.2, vacuum_min_vector_number=1000, default_segment_number=0, max_segment_size=None, memmap_threshold=None, indexing_threshold=20000, flush_interval_sec=5, max_optimization_threads=None), wal_config=WalConfig(wal_capacity_mb=32, wal_segments_ahead=0), quantization_config=None), payload_schema={})"
      ]
     },
     "execution_count": 11,
     "metadata": {},
     "output_type": "execute_result"
    }
   ],
   "source": [
    "client.get_collection(collection_name)"
   ]
  },
  {
   "cell_type": "code",
   "execution_count": 12,
   "metadata": {},
   "outputs": [],
   "source": [
    "del payload\n",
    "del points\n",
    "del wo"
   ]
  },
  {
   "cell_type": "code",
   "execution_count": 13,
   "metadata": {},
   "outputs": [
    {
     "data": {
      "text/plain": [
       "CountResult(count=50826)"
      ]
     },
     "execution_count": 13,
     "metadata": {},
     "output_type": "execute_result"
    }
   ],
   "source": [
    "collection_name='行业公司名简介_25k'\n",
    "client.count('行业公司名简介_25k')"
   ]
  },
  {
   "cell_type": "code",
   "execution_count": 14,
   "metadata": {},
   "outputs": [
    {
     "data": {
      "text/plain": [
       "25413.0"
      ]
     },
     "execution_count": 14,
     "metadata": {},
     "output_type": "execute_result"
    }
   ],
   "source": [
    "50826/2"
   ]
  },
  {
   "cell_type": "code",
   "execution_count": 16,
   "metadata": {},
   "outputs": [
    {
     "data": {
      "text/plain": [
       "UpdateResult(operation_id=1, status=<UpdateStatus.COMPLETED: 'completed'>)"
      ]
     },
     "execution_count": 16,
     "metadata": {},
     "output_type": "execute_result"
    }
   ],
   "source": [
    "client.delete_payload(\n",
    "    collection_name=collection_name,\n",
    "    keys=[\"profile\"],\n",
    "    points=list(range(25413,50826)),\n",
    ")"
   ]
  },
  {
   "cell_type": "code",
   "execution_count": 19,
   "metadata": {},
   "outputs": [
    {
     "data": {
      "text/plain": [
       "[Record(id=50825, payload={'行业': '金融科技', '工商全称': '爱因互动科技发展（北京）有限公司', '公司序号': 25511, '公司简称': '爱因互动'}, vector=None, shard_key=None),\n",
       " Record(id=25413, payload={'行业': '传统制造', '工商全称': '天津蔚蓝科技有限公司', '公司序号': 0, '公司简称': 'SciXair空气净化器'}, vector=None, shard_key=None),\n",
       " Record(id=25412, payload={'行业': '金融科技', '工商全称': '爱因互动科技发展（北京）有限公司', '公司序号': 25511, '公司简称': '爱因互动'}, vector=None, shard_key=None)]"
      ]
     },
     "execution_count": 19,
     "metadata": {},
     "output_type": "execute_result"
    }
   ],
   "source": [
    "client.retrieve(\n",
    "    collection_name=collection_name,\n",
    "    ids=[50825,25413,25412],\n",
    ")"
   ]
  },
  {
   "cell_type": "code",
   "execution_count": 3,
   "metadata": {},
   "outputs": [],
   "source": [
    "import pickle"
   ]
  },
  {
   "cell_type": "code",
   "execution_count": 22,
   "metadata": {},
   "outputs": [],
   "source": [
    "with open('Y:\\Downloads\\Patent\\行业公司名简介2024_payloads.pkl', 'rb') as file:\n",
    "    playload = pickle.load(file)"
   ]
  },
  {
   "cell_type": "code",
   "execution_count": 24,
   "metadata": {},
   "outputs": [
    {
     "data": {
      "text/plain": [
       "50826"
      ]
     },
     "execution_count": 24,
     "metadata": {},
     "output_type": "execute_result"
    }
   ],
   "source": [
    "len(playload)"
   ]
  },
  {
   "cell_type": "code",
   "execution_count": 25,
   "metadata": {},
   "outputs": [
    {
     "data": {
      "text/plain": [
       "{'公司序号': 0,\n",
       " '公司简称': 'SciXair空气净化器',\n",
       " '工商全称': '天津蔚蓝科技有限公司',\n",
       " '行业': '传统制造',\n",
       " '简介长度': 64.0}"
      ]
     },
     "execution_count": 25,
     "metadata": {},
     "output_type": "execute_result"
    }
   ],
   "source": [
    "playload[0]"
   ]
  },
  {
   "cell_type": "code",
   "execution_count": 26,
   "metadata": {},
   "outputs": [
    {
     "data": {
      "text/plain": [
       "64.0"
      ]
     },
     "execution_count": 26,
     "metadata": {},
     "output_type": "execute_result"
    }
   ],
   "source": [
    "playload[0]['简介长度']"
   ]
  },
  {
   "cell_type": "code",
   "execution_count": 29,
   "metadata": {},
   "outputs": [
    {
     "data": {
      "text/plain": [
       "CountResult(count=50826)"
      ]
     },
     "execution_count": 29,
     "metadata": {},
     "output_type": "execute_result"
    }
   ],
   "source": [
    "client.count('行业公司名简介_25k')"
   ]
  },
  {
   "cell_type": "code",
   "execution_count": 33,
   "metadata": {},
   "outputs": [
    {
     "data": {
      "text/plain": [
       "{'公司序号': 5951,\n",
       " '公司简称': '连山融资项目',\n",
       " '工商全称': '上海富捷信息技术有限公司',\n",
       " '行业': '金融',\n",
       " '简介长度': nan}"
      ]
     },
     "execution_count": 33,
     "metadata": {},
     "output_type": "execute_result"
    }
   ],
   "source": [
    "playload[5951]"
   ]
  },
  {
   "cell_type": "code",
   "execution_count": 36,
   "metadata": {},
   "outputs": [
    {
     "data": {
      "text/plain": [
       "False"
      ]
     },
     "execution_count": 36,
     "metadata": {},
     "output_type": "execute_result"
    }
   ],
   "source": [
    "playload[5951]['简介长度']>5"
   ]
  },
  {
   "cell_type": "code",
   "execution_count": 37,
   "metadata": {},
   "outputs": [],
   "source": [
    "for i,p in enumerate(playload):\n",
    "    if i<5951:\n",
    "        continue\n",
    "    if '简介长度' in p and p['简介长度']>5:\n",
    "        client.set_payload(\n",
    "            collection_name=collection_name,\n",
    "            payload={\n",
    "                '简介长度': p['简介长度'],\n",
    "            },\n",
    "            points=[i],\n",
    "        )"
   ]
  },
  {
   "cell_type": "code",
   "execution_count": 28,
   "metadata": {
    "scrolled": true
   },
   "outputs": [
    {
     "data": {
      "text/plain": [
       "5951"
      ]
     },
     "execution_count": 28,
     "metadata": {},
     "output_type": "execute_result"
    }
   ],
   "source": [
    "i"
   ]
  },
  {
   "cell_type": "code",
   "execution_count": 2,
   "metadata": {},
   "outputs": [
    {
     "data": {
      "text/plain": [
       "SetPayloadOperation(set_payload=SetPayload(payload={'test_payload_2': 2, 'test_payload_3': 3}, points=[1], filter=None, shard_key=None, key=None))"
      ]
     },
     "execution_count": 2,
     "metadata": {},
     "output_type": "execute_result"
    }
   ],
   "source": [
    "from qdrant_client.models import  SetPayloadOperation,SetPayload\n",
    "\n",
    "operation=SetPayloadOperation(\n",
    "            set_payload=SetPayload(\n",
    "                payload={\n",
    "                    \"test_payload_2\": 2,\n",
    "                    \"test_payload_3\": 3,\n",
    "                },\n",
    "                points=[1],\n",
    "            )\n",
    ")\n",
    "operation"
   ]
  },
  {
   "cell_type": "code",
   "execution_count": 5,
   "metadata": {},
   "outputs": [],
   "source": [
    "with open('Y:\\Downloads\\Patent\\融资公司专利2024_payloads_1.pkl', 'rb') as file:\n",
    "    playload = pickle.load(file)"
   ]
  },
  {
   "cell_type": "code",
   "execution_count": 6,
   "metadata": {},
   "outputs": [
    {
     "data": {
      "text/plain": [
       "(1897517, {'摘要长度': 160, 'table': 'patent202210'})"
      ]
     },
     "execution_count": 6,
     "metadata": {},
     "output_type": "execute_result"
    }
   ],
   "source": [
    "len(playload),playload[0]"
   ]
  },
  {
   "cell_type": "code",
   "execution_count": 49,
   "metadata": {},
   "outputs": [
    {
     "data": {
      "text/plain": [
       "SetPayloadOperation(set_payload=SetPayload(payload={'摘要长度': 172, 'table': 'patent202210'}, points=[9], filter=None, shard_key=None, key=None))"
      ]
     },
     "execution_count": 49,
     "metadata": {},
     "output_type": "execute_result"
    }
   ],
   "source": [
    "for i,p in enumerate(playload[:10]):\n",
    "    operation=SetPayloadOperation(\n",
    "        set_payload=SetPayload(\n",
    "            payload=p if p.get('摘要长度',0)>0 else {'table':p.get('table')} ,\n",
    "            points=[i],\n",
    "        )\n",
    "    )\n",
    "operation"
   ]
  },
  {
   "cell_type": "code",
   "execution_count": 8,
   "metadata": {},
   "outputs": [
    {
     "data": {
      "text/plain": [
       "(1897517,\n",
       " SetPayloadOperation(set_payload=SetPayload(payload={'摘要长度': 160, 'table': 'patent202210'}, points=[0], filter=None, shard_key=None, key=None)))"
      ]
     },
     "execution_count": 8,
     "metadata": {},
     "output_type": "execute_result"
    }
   ],
   "source": [
    "update_operations=[SetPayloadOperation(\n",
    "                        set_payload=SetPayload(\n",
    "                            payload=p if p.get('摘要长度',0)>0 else {'table':p.get('table')} ,\n",
    "                            points=[i],\n",
    "                        )\n",
    "                    ) for  i,p in enumerate(playload)]\n",
    "len(update_operations),update_operations[0]"
   ]
  },
  {
   "cell_type": "code",
   "execution_count": 9,
   "metadata": {},
   "outputs": [
    {
     "data": {
      "text/plain": [
       "CountResult(count=1897517)"
      ]
     },
     "execution_count": 9,
     "metadata": {},
     "output_type": "execute_result"
    }
   ],
   "source": [
    "collection_name='专利_bge_189'\n",
    "client.count(collection_name)"
   ]
  },
  {
   "cell_type": "code",
   "execution_count": 12,
   "metadata": {},
   "outputs": [],
   "source": [
    "# %%time\n",
    "# client.batch_update_points(collection_name=collection_name,update_operations=update_operations,)"
   ]
  },
  {
   "cell_type": "code",
   "execution_count": 21,
   "metadata": {},
   "outputs": [],
   "source": [
    "from qdrant_client.models import PayloadFieldSchema,PayloadSchemaType,PayloadSchemaParams,TextIndexParams,CollectionParamsDiff\n",
    "from qdrant_client.models import Filter, PayloadField,FieldCondition, HasIdCondition, IsEmptyCondition, MatchValue"
   ]
  },
  {
   "cell_type": "code",
   "execution_count": null,
   "metadata": {},
   "outputs": [],
   "source": [
    "client.create_payload_index(\n",
    "    collection_name=\"{collection_name}\",\n",
    "    field_name=\"name_of_the_field_to_index\",\n",
    "    field_schema=\"keyword\",\n",
    ")"
   ]
  },
  {
   "cell_type": "code",
   "execution_count": 19,
   "metadata": {},
   "outputs": [
    {
     "data": {
      "text/plain": [
       "UpdateResult(operation_id=25398, status=<UpdateStatus.COMPLETED: 'completed'>)"
      ]
     },
     "execution_count": 19,
     "metadata": {},
     "output_type": "execute_result"
    }
   ],
   "source": [
    "client.create_payload_index(\n",
    "    collection_name=\"行业公司名简介_25k\",\n",
    "    field_name=\"简介长度\",\n",
    "    field_schema=PayloadSchemaType(\"integer\"),\n",
    ")"
   ]
  },
  {
   "cell_type": "code",
   "execution_count": 20,
   "metadata": {},
   "outputs": [
    {
     "data": {
      "text/plain": [
       "UpdateResult(operation_id=1899416, status=<UpdateStatus.COMPLETED: 'completed'>)"
      ]
     },
     "execution_count": 20,
     "metadata": {},
     "output_type": "execute_result"
    }
   ],
   "source": [
    "client.create_payload_index(\n",
    "    collection_name=\"专利_bge_189\",\n",
    "    field_name=\"摘要长度\",\n",
    "    field_schema=PayloadSchemaType(\"integer\"),\n",
    ")"
   ]
  },
  {
   "cell_type": "code",
   "execution_count": null,
   "metadata": {},
   "outputs": [],
   "source": [
    "client.create_payload_index(\n",
    "    collection_name=\"企业_w2v_lda\",\n",
    "    field_name=\"行业\",\n",
    "    field_schema=PayloadSchemaType(\"keyword\"),\n",
    ")"
   ]
  },
  {
   "cell_type": "code",
   "execution_count": 24,
   "metadata": {},
   "outputs": [
    {
     "data": {
      "text/plain": [
       "UpdateResult(operation_id=6, status=<UpdateStatus.COMPLETED: 'completed'>)"
      ]
     },
     "execution_count": 24,
     "metadata": {},
     "output_type": "execute_result"
    }
   ],
   "source": [
    "client.create_payload_index(\n",
    "    collection_name=\"企业_w2v_lda\",\n",
    "    field_name=\"co\",\n",
    "    field_schema=PayloadSchemaType(\"keyword\"),\n",
    ")"
   ]
  },
  {
   "cell_type": "code",
   "execution_count": 18,
   "metadata": {},
   "outputs": [
    {
     "data": {
      "text/plain": [
       "UpdateResult(operation_id=2, status=<UpdateStatus.COMPLETED: 'completed'>)"
      ]
     },
     "execution_count": 18,
     "metadata": {},
     "output_type": "execute_result"
    }
   ],
   "source": [
    "client.create_payload_index(\n",
    "    collection_name=\"专利_w2v_188_37\",\n",
    "    field_name=\"word\",\n",
    "    field_schema=PayloadSchemaType(\"keyword\"),\n",
    ")"
   ]
  },
  {
   "cell_type": "code",
   "execution_count": 16,
   "metadata": {},
   "outputs": [
    {
     "data": {
      "text/plain": [
       "UpdateResult(operation_id=117, status=<UpdateStatus.COMPLETED: 'completed'>)"
      ]
     },
     "execution_count": 16,
     "metadata": {},
     "output_type": "execute_result"
    }
   ],
   "source": [
    "client.create_payload_index(\n",
    "    collection_name=\"专利_w2v\",\n",
    "    field_name=\"word\",\n",
    "    field_schema=PayloadSchemaType(\"keyword\"),\n",
    ")"
   ]
  },
  {
   "cell_type": "code",
   "execution_count": 17,
   "metadata": {},
   "outputs": [
    {
     "data": {
      "text/plain": [
       "UpdateResult(operation_id=119, status=<UpdateStatus.COMPLETED: 'completed'>)"
      ]
     },
     "execution_count": 17,
     "metadata": {},
     "output_type": "execute_result"
    }
   ],
   "source": [
    "client.create_payload_index(\n",
    "    collection_name=\"专利_w2v\",\n",
    "    field_name=\"行业\",\n",
    "    field_schema=PayloadSchemaType(\"keyword\"),\n",
    ")"
   ]
  },
  {
   "cell_type": "code",
   "execution_count": 23,
   "metadata": {},
   "outputs": [
    {
     "data": {
      "text/plain": [
       "UpdateResult(operation_id=2, status=<UpdateStatus.COMPLETED: 'completed'>)"
      ]
     },
     "execution_count": 23,
     "metadata": {},
     "output_type": "execute_result"
    }
   ],
   "source": [
    "client.create_payload_index(\n",
    "    collection_name=\"places_bank\",\n",
    "    field_name=\"bank\",\n",
    "    field_schema=PayloadSchemaType(\"keyword\"),\n",
    ")"
   ]
  },
  {
   "cell_type": "code",
   "execution_count": 25,
   "metadata": {},
   "outputs": [
    {
     "data": {
      "text/plain": [
       "True"
      ]
     },
     "execution_count": 25,
     "metadata": {},
     "output_type": "execute_result"
    }
   ],
   "source": [
    "client.update_collection(\n",
    "    collection_name=\"places_bank\",collection_params=CollectionParamsDiff(on_disk_payload=True)\n",
    ")"
   ]
  },
  {
   "cell_type": "code",
   "execution_count": 26,
   "metadata": {},
   "outputs": [
    {
     "data": {
      "text/plain": [
       "True"
      ]
     },
     "execution_count": 26,
     "metadata": {},
     "output_type": "execute_result"
    }
   ],
   "source": [
    "client.update_collection(\n",
    "    collection_name=\"企业_w2v_lda\",collection_params=CollectionParamsDiff(on_disk_payload=True)\n",
    ")"
   ]
  },
  {
   "cell_type": "code",
   "execution_count": 27,
   "metadata": {},
   "outputs": [
    {
     "data": {
      "text/plain": [
       "True"
      ]
     },
     "execution_count": 27,
     "metadata": {},
     "output_type": "execute_result"
    }
   ],
   "source": [
    "client.update_collection(\n",
    "    collection_name=\"专利_w2v\",collection_params=CollectionParamsDiff(on_disk_payload=True)\n",
    ")"
   ]
  },
  {
   "cell_type": "code",
   "execution_count": 28,
   "metadata": {},
   "outputs": [
    {
     "data": {
      "text/plain": [
       "CountResult(count=1891374)"
      ]
     },
     "execution_count": 28,
     "metadata": {},
     "output_type": "execute_result"
    }
   ],
   "source": [
    "match=[IsEmptyCondition(is_empty=PayloadField(key='摘要长度'), )]\n",
    "query_filter = Filter(must=[], must_not=match) \n",
    "client.count('专利_bge_189',count_filter=query_filter)"
   ]
  },
  {
   "cell_type": "code",
   "execution_count": 29,
   "metadata": {},
   "outputs": [
    {
     "data": {
      "text/plain": [
       "CountResult(count=6143)"
      ]
     },
     "execution_count": 29,
     "metadata": {},
     "output_type": "execute_result"
    }
   ],
   "source": [
    "match=[IsEmptyCondition(is_empty=PayloadField(key='摘要长度'), )]\n",
    "query_filter = Filter(must=match) \n",
    "client.count('专利_bge_189',count_filter=query_filter)"
   ]
  },
  {
   "cell_type": "code",
   "execution_count": 31,
   "metadata": {},
   "outputs": [
    {
     "data": {
      "text/plain": [
       "CountResult(count=25433)"
      ]
     },
     "execution_count": 31,
     "metadata": {},
     "output_type": "execute_result"
    }
   ],
   "source": [
    "match=[IsEmptyCondition(is_empty=PayloadField(key='简介长度'), )]\n",
    "query_filter = Filter(must=match, must_not=[]) \n",
    "client.count('行业公司名简介_25k',count_filter=query_filter)"
   ]
  },
  {
   "cell_type": "code",
   "execution_count": 30,
   "metadata": {},
   "outputs": [
    {
     "data": {
      "text/plain": [
       "CollectionInfo(status=<CollectionStatus.GREEN: 'green'>, optimizer_status=<OptimizersStatusOneOf.OK: 'ok'>, vectors_count=None, indexed_vectors_count=1897517, points_count=1897517, segments_count=12, config=CollectionConfig(params=CollectionParams(vectors=VectorParams(size=1024, distance=<Distance.COSINE: 'Cosine'>, hnsw_config=None, quantization_config=None, on_disk=None, datatype=None), shard_number=1, sharding_method=None, replication_factor=1, write_consistency_factor=1, read_fan_out_factor=None, on_disk_payload=True, sparse_vectors=None), hnsw_config=HnswConfig(m=16, ef_construct=100, full_scan_threshold=10000, max_indexing_threads=0, on_disk=False, payload_m=None), optimizer_config=OptimizersConfig(deleted_threshold=0.2, vacuum_min_vector_number=1000, default_segment_number=0, max_segment_size=None, memmap_threshold=None, indexing_threshold=20000, flush_interval_sec=5, max_optimization_threads=None), wal_config=WalConfig(wal_capacity_mb=32, wal_segments_ahead=0), quantization_config=None), payload_schema={'摘要长度': PayloadIndexInfo(data_type=<PayloadSchemaType.INTEGER: 'integer'>, params=None, points=1891374)})"
      ]
     },
     "execution_count": 30,
     "metadata": {},
     "output_type": "execute_result"
    }
   ],
   "source": [
    "client.get_collection('专利_bge_189')"
   ]
  },
  {
   "cell_type": "code",
   "execution_count": null,
   "metadata": {},
   "outputs": [],
   "source": [
    "hnsw_config"
   ]
  }
 ],
 "metadata": {
  "kernelspec": {
   "display_name": "Python 3 (ipykernel)",
   "language": "python",
   "name": "python3"
  },
  "language_info": {
   "codemirror_mode": {
    "name": "ipython",
    "version": 3
   },
   "file_extension": ".py",
   "mimetype": "text/x-python",
   "name": "python",
   "nbconvert_exporter": "python",
   "pygments_lexer": "ipython3",
   "version": "3.9.13"
  }
 },
 "nbformat": 4,
 "nbformat_minor": 4
}
